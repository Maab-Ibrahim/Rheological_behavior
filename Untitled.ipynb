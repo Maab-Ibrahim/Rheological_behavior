{
 "cells": [
  {
   "cell_type": "markdown",
   "metadata": {},
   "source": [
    "# Loading data"
   ]
  },
  {
   "cell_type": "code",
   "execution_count": 1,
   "metadata": {},
   "outputs": [
    {
     "data": {
      "text/html": [
       "<div>\n",
       "<style scoped>\n",
       "    .dataframe tbody tr th:only-of-type {\n",
       "        vertical-align: middle;\n",
       "    }\n",
       "\n",
       "    .dataframe tbody tr th {\n",
       "        vertical-align: top;\n",
       "    }\n",
       "\n",
       "    .dataframe thead th {\n",
       "        text-align: right;\n",
       "    }\n",
       "</style>\n",
       "<table border=\"1\" class=\"dataframe\">\n",
       "  <thead>\n",
       "    <tr style=\"text-align: right;\">\n",
       "      <th></th>\n",
       "      <th>Temperature</th>\n",
       "      <th>N</th>\n",
       "      <th>K</th>\n",
       "      <th>shear_rate</th>\n",
       "      <th>viscosity_cp</th>\n",
       "    </tr>\n",
       "  </thead>\n",
       "  <tbody>\n",
       "    <tr>\n",
       "      <th>1</th>\n",
       "      <td>25</td>\n",
       "      <td>0.725</td>\n",
       "      <td>29.9</td>\n",
       "      <td>311</td>\n",
       "      <td>6.2</td>\n",
       "    </tr>\n",
       "    <tr>\n",
       "      <th>2</th>\n",
       "      <td>25</td>\n",
       "      <td>0.725</td>\n",
       "      <td>29.9</td>\n",
       "      <td>467</td>\n",
       "      <td>5.5</td>\n",
       "    </tr>\n",
       "    <tr>\n",
       "      <th>3</th>\n",
       "      <td>25</td>\n",
       "      <td>0.725</td>\n",
       "      <td>29.9</td>\n",
       "      <td>622</td>\n",
       "      <td>5.1</td>\n",
       "    </tr>\n",
       "    <tr>\n",
       "      <th>4</th>\n",
       "      <td>25</td>\n",
       "      <td>0.725</td>\n",
       "      <td>29.9</td>\n",
       "      <td>778</td>\n",
       "      <td>4.8</td>\n",
       "    </tr>\n",
       "    <tr>\n",
       "      <th>5</th>\n",
       "      <td>25</td>\n",
       "      <td>0.725</td>\n",
       "      <td>29.9</td>\n",
       "      <td>933</td>\n",
       "      <td>4.6</td>\n",
       "    </tr>\n",
       "    <tr>\n",
       "      <th>...</th>\n",
       "      <td>...</td>\n",
       "      <td>...</td>\n",
       "      <td>...</td>\n",
       "      <td>...</td>\n",
       "      <td>...</td>\n",
       "    </tr>\n",
       "    <tr>\n",
       "      <th>80</th>\n",
       "      <td>80</td>\n",
       "      <td>0.6421</td>\n",
       "      <td>32.9</td>\n",
       "      <td>647.52</td>\n",
       "      <td>3.24</td>\n",
       "    </tr>\n",
       "    <tr>\n",
       "      <th>81</th>\n",
       "      <td>80</td>\n",
       "      <td>0.6421</td>\n",
       "      <td>32.9</td>\n",
       "      <td>809.40</td>\n",
       "      <td>2.99</td>\n",
       "    </tr>\n",
       "    <tr>\n",
       "      <th>82</th>\n",
       "      <td>80</td>\n",
       "      <td>0.6421</td>\n",
       "      <td>32.9</td>\n",
       "      <td>971.28</td>\n",
       "      <td>2.80</td>\n",
       "    </tr>\n",
       "    <tr>\n",
       "      <th>83</th>\n",
       "      <td>80</td>\n",
       "      <td>0.6421</td>\n",
       "      <td>32.9</td>\n",
       "      <td>1133.16</td>\n",
       "      <td>2.65</td>\n",
       "    </tr>\n",
       "    <tr>\n",
       "      <th>84</th>\n",
       "      <td>80</td>\n",
       "      <td>0.6421</td>\n",
       "      <td>32.9</td>\n",
       "      <td>1295.04</td>\n",
       "      <td>2.53</td>\n",
       "    </tr>\n",
       "  </tbody>\n",
       "</table>\n",
       "<p>84 rows × 5 columns</p>\n",
       "</div>"
      ],
      "text/plain": [
       "0  Temperature       N     K shear_rate viscosity_cp\n",
       "1           25   0.725  29.9        311          6.2\n",
       "2           25   0.725  29.9        467          5.5\n",
       "3           25   0.725  29.9        622          5.1\n",
       "4           25   0.725  29.9        778          4.8\n",
       "5           25   0.725  29.9        933          4.6\n",
       "..         ...     ...   ...        ...          ...\n",
       "80          80  0.6421  32.9     647.52         3.24\n",
       "81          80  0.6421  32.9     809.40         2.99\n",
       "82          80  0.6421  32.9     971.28         2.80\n",
       "83          80  0.6421  32.9    1133.16         2.65\n",
       "84          80  0.6421  32.9    1295.04         2.53\n",
       "\n",
       "[84 rows x 5 columns]"
      ]
     },
     "execution_count": 1,
     "metadata": {},
     "output_type": "execute_result"
    }
   ],
   "source": [
    "import pandas as pd\n",
    "import csv\n",
    "import chardet\n",
    "\n",
    "#LOAD the Data\n",
    "\n",
    "shear_df = pd.read_csv('Dataset/reading_data.csv',sep=\",\",header=None)\n",
    "\n",
    "new_header2 = shear_df.iloc[0] \n",
    "shear_df = shear_df[1:] \n",
    "shear_df.columns = new_header2 \n",
    "\n",
    "shear_df = shear_df[shear_df['Foam_quality'] == '95']\n",
    "shear_df_75 = shear_df[shear_df['Foam_quality'] == '75']\n",
    "#shear_df = shear_df[shear_df['Temperature'] == '25']\n",
    "shear_df.drop(['Foam_quality', 'Foam_CO2','Foam_AOS','Foam_NaCl','Foam_SiO2','Pa','Foam_XG'], axis=1, inplace=True)\n",
    "shear_df"
   ]
  },
  {
   "cell_type": "code",
   "execution_count": 2,
   "metadata": {},
   "outputs": [
    {
     "data": {
      "text/html": [
       "<div>\n",
       "<style scoped>\n",
       "    .dataframe tbody tr th:only-of-type {\n",
       "        vertical-align: middle;\n",
       "    }\n",
       "\n",
       "    .dataframe tbody tr th {\n",
       "        vertical-align: top;\n",
       "    }\n",
       "\n",
       "    .dataframe thead th {\n",
       "        text-align: right;\n",
       "    }\n",
       "</style>\n",
       "<table border=\"1\" class=\"dataframe\">\n",
       "  <thead>\n",
       "    <tr style=\"text-align: right;\">\n",
       "      <th></th>\n",
       "      <th>Temperature</th>\n",
       "      <th>N</th>\n",
       "      <th>K</th>\n",
       "      <th>shear_rate</th>\n",
       "      <th>viscosity_cp</th>\n",
       "    </tr>\n",
       "  </thead>\n",
       "  <tbody>\n",
       "    <tr>\n",
       "      <th>count</th>\n",
       "      <td>84</td>\n",
       "      <td>84</td>\n",
       "      <td>84</td>\n",
       "      <td>84</td>\n",
       "      <td>84</td>\n",
       "    </tr>\n",
       "    <tr>\n",
       "      <th>unique</th>\n",
       "      <td>3</td>\n",
       "      <td>12</td>\n",
       "      <td>12</td>\n",
       "      <td>84</td>\n",
       "      <td>76</td>\n",
       "    </tr>\n",
       "    <tr>\n",
       "      <th>top</th>\n",
       "      <td>50</td>\n",
       "      <td>0.784</td>\n",
       "      <td>58.7</td>\n",
       "      <td>695.80</td>\n",
       "      <td>1.91</td>\n",
       "    </tr>\n",
       "    <tr>\n",
       "      <th>freq</th>\n",
       "      <td>28</td>\n",
       "      <td>7</td>\n",
       "      <td>7</td>\n",
       "      <td>1</td>\n",
       "      <td>2</td>\n",
       "    </tr>\n",
       "  </tbody>\n",
       "</table>\n",
       "</div>"
      ],
      "text/plain": [
       "0      Temperature      N     K shear_rate viscosity_cp\n",
       "count           84     84    84         84           84\n",
       "unique           3     12    12         84           76\n",
       "top             50  0.784  58.7     695.80         1.91\n",
       "freq            28      7     7          1            2"
      ]
     },
     "execution_count": 2,
     "metadata": {},
     "output_type": "execute_result"
    }
   ],
   "source": [
    "shear_df.describe()"
   ]
  },
  {
   "cell_type": "markdown",
   "metadata": {},
   "source": [
    "# Visualize shear_rate vs viscosity (cP) using scatter plot"
   ]
  },
  {
   "cell_type": "code",
   "execution_count": 3,
   "metadata": {},
   "outputs": [],
   "source": [
    "import numpy as np\n",
    "import matplotlib.pyplot as plt\n",
    "import seaborn as sns\n",
    "import matplotlib.patches as mpatches\n",
    "%matplotlib inline"
   ]
  },
  {
   "cell_type": "code",
   "execution_count": 4,
   "metadata": {},
   "outputs": [
    {
     "data": {
      "image/png": "[encoded data removed]",
      "text/plain": [
       "<Figure size 432x288 with 1 Axes>"
      ]
     },
     "metadata": {
      "needs_background": "light"
     },
     "output_type": "display_data"
    }
   ],
   "source": [
    "fig, ax = plt.subplots()\n",
    "\n",
    "\n",
    "shear_df.viscosity_cp=pd.to_numeric(shear_df.viscosity_cp)\n",
    "shear_df.shear_rate=pd.to_numeric(shear_df.shear_rate)\n",
    "colors = {'25':'red', '50':'blue', '80':'green'}\n",
    "scatter = ax.scatter(shear_df.shear_rate, shear_df.viscosity_cp,  c=shear_df.Temperature.apply(lambda x: colors[x]))\n",
    "\n",
    "\n",
    "# build the legend\n",
    "red_patch = mpatches.Patch(color='red', label='25C')\n",
    "blue_patch = mpatches.Patch(color='blue', label='50C')\n",
    "green_patch = mpatches.Patch(color='green', label='80C')\n",
    "\n",
    "# set up for handles declaration\n",
    "patches = [red_patch, blue_patch, green_patch]\n",
    "\n",
    "# alternative declaration for placing legend outside of plot\n",
    "legend = ax.legend(handles=patches,bbox_to_anchor=(1.05, 1), loc=2, borderaxespad=0.)\n",
    "\n",
    "plt.title('rheological behavior')\n",
    "plt.xlabel('Shear Rate')\n",
    "plt.ylabel('viscosity(cP)')\n",
    "\n",
    "plt.show()"
   ]
  },
  {
   "cell_type": "code",
   "execution_count": 6,
   "metadata": {},
   "outputs": [
    {
     "data": {
      "text/plain": [
       "<seaborn.axisgrid.FacetGrid at 0x2382cc164c8>"
      ]
     },
     "execution_count": 6,
     "metadata": {},
     "output_type": "execute_result"
    },
    {
     "data": {
      "image/png": "[encoded data removed]",
      "text/plain": [
       "<Figure size 1080x360 with 3 Axes>"
      ]
     },
     "metadata": {
      "needs_background": "light"
     },
     "output_type": "display_data"
    }
   ],
   "source": [
    "sns.lmplot(data=shear_df, x=\"shear_rate\", y=\"viscosity_cp\", col=\"Temperature\", hue=\"Temperature\" )"
   ]
  },
  {
   "cell_type": "code",
   "execution_count": 7,
   "metadata": {},
   "outputs": [
    {
     "name": "stderr",
     "output_type": "stream",
     "text": [
      "C:\\Users\\maab_\\Anaconda3\\lib\\site-packages\\seaborn\\axisgrid.py:2071: UserWarning: The `size` parameter has been renamed to `height`; please update your code.\n",
      "  warnings.warn(msg, UserWarning)\n"
     ]
    },
    {
     "data": {
      "text/plain": [
       "<seaborn.axisgrid.PairGrid at 0x2382cf0ab08>"
      ]
     },
     "execution_count": 7,
     "metadata": {},
     "output_type": "execute_result"
    },
    {
     "data": {
      "image/png": "[encoded data removed]",
      "text/plain": [
       "<Figure size 352.8x504 with 1 Axes>"
      ]
     },
     "metadata": {
      "needs_background": "light"
     },
     "output_type": "display_data"
    }
   ],
   "source": [
    "sns.pairplot(shear_df, x_vars='shear_rate', y_vars='viscosity_cp', size=7, aspect=0.7, kind='reg')"
   ]
  },
  {
   "cell_type": "markdown",
   "metadata": {},
   "source": [
    "# Estimate Model Coefficients"
   ]
  },
  {
   "cell_type": "code",
   "execution_count": 32,
   "metadata": {},
   "outputs": [
    {
     "data": {
      "text/plain": [
       "Intercept       1267.513009\n",
       "viscosity_cp    -146.345573\n",
       "dtype: float64"
      ]
     },
     "execution_count": 32,
     "metadata": {},
     "output_type": "execute_result"
    }
   ],
   "source": [
    "### STATSMODELS ###\n",
    "import statsmodels.formula.api as smf\n",
    "lm1 = smf.ols(formula='shear_rate ~ viscosity_cp', data=shear_df).fit()\n",
    "\n",
    "# print the coefficients\n",
    "lm1.params"
   ]
  },
  {
   "cell_type": "code",
   "execution_count": 33,
   "metadata": {},
   "outputs": [
    {
     "data": {
      "text/plain": [
       "<AxesSubplot:xlabel='shear_rate'>"
      ]
     },
     "execution_count": 33,
     "metadata": {},
     "output_type": "execute_result"
    },
    {
     "data": {
      "image/png": "[encoded data removed]",
      "text/plain": [
       "<Figure size 1080x720 with 1 Axes>"
      ]
     },
     "metadata": {
      "needs_background": "light"
     },
     "output_type": "display_data"
    }
   ],
   "source": [
    "import pandas as pd  \n",
    "import numpy as np  \n",
    "import matplotlib.pyplot as plt  \n",
    "import seaborn as seabornInstance \n",
    "from sklearn.model_selection import train_test_split \n",
    "from sklearn.linear_model import LinearRegression\n",
    "from sklearn import metrics\n",
    "%matplotlib inline\n",
    "\n",
    "plt.figure(figsize=(15,10))\n",
    "plt.tight_layout()\n",
    "seabornInstance.distplot(shear_df['shear_rate'])"
   ]
  },
  {
   "cell_type": "markdown",
   "metadata": {},
   "source": [
    "## Selecting features and target variable"
   ]
  },
  {
   "cell_type": "code",
   "execution_count": 34,
   "metadata": {},
   "outputs": [
    {
     "data": {
      "text/html": [
       "<div>\n",
       "<style scoped>\n",
       "    .dataframe tbody tr th:only-of-type {\n",
       "        vertical-align: middle;\n",
       "    }\n",
       "\n",
       "    .dataframe tbody tr th {\n",
       "        vertical-align: top;\n",
       "    }\n",
       "\n",
       "    .dataframe thead th {\n",
       "        text-align: right;\n",
       "    }\n",
       "</style>\n",
       "<table border=\"1\" class=\"dataframe\">\n",
       "  <thead>\n",
       "    <tr style=\"text-align: right;\">\n",
       "      <th></th>\n",
       "      <th>Temperature</th>\n",
       "      <th>N</th>\n",
       "      <th>K</th>\n",
       "      <th>shear_rate</th>\n",
       "      <th>viscosity_cp</th>\n",
       "    </tr>\n",
       "  </thead>\n",
       "  <tbody>\n",
       "    <tr>\n",
       "      <th>1</th>\n",
       "      <td>25</td>\n",
       "      <td>0.725</td>\n",
       "      <td>29.9</td>\n",
       "      <td>311.00</td>\n",
       "      <td>6.20</td>\n",
       "    </tr>\n",
       "    <tr>\n",
       "      <th>2</th>\n",
       "      <td>25</td>\n",
       "      <td>0.725</td>\n",
       "      <td>29.9</td>\n",
       "      <td>467.00</td>\n",
       "      <td>5.50</td>\n",
       "    </tr>\n",
       "    <tr>\n",
       "      <th>3</th>\n",
       "      <td>25</td>\n",
       "      <td>0.725</td>\n",
       "      <td>29.9</td>\n",
       "      <td>622.00</td>\n",
       "      <td>5.10</td>\n",
       "    </tr>\n",
       "    <tr>\n",
       "      <th>4</th>\n",
       "      <td>25</td>\n",
       "      <td>0.725</td>\n",
       "      <td>29.9</td>\n",
       "      <td>778.00</td>\n",
       "      <td>4.80</td>\n",
       "    </tr>\n",
       "    <tr>\n",
       "      <th>5</th>\n",
       "      <td>25</td>\n",
       "      <td>0.725</td>\n",
       "      <td>29.9</td>\n",
       "      <td>933.00</td>\n",
       "      <td>4.60</td>\n",
       "    </tr>\n",
       "    <tr>\n",
       "      <th>...</th>\n",
       "      <td>...</td>\n",
       "      <td>...</td>\n",
       "      <td>...</td>\n",
       "      <td>...</td>\n",
       "      <td>...</td>\n",
       "    </tr>\n",
       "    <tr>\n",
       "      <th>80</th>\n",
       "      <td>80</td>\n",
       "      <td>0.6421</td>\n",
       "      <td>32.9</td>\n",
       "      <td>647.52</td>\n",
       "      <td>3.24</td>\n",
       "    </tr>\n",
       "    <tr>\n",
       "      <th>81</th>\n",
       "      <td>80</td>\n",
       "      <td>0.6421</td>\n",
       "      <td>32.9</td>\n",
       "      <td>809.40</td>\n",
       "      <td>2.99</td>\n",
       "    </tr>\n",
       "    <tr>\n",
       "      <th>82</th>\n",
       "      <td>80</td>\n",
       "      <td>0.6421</td>\n",
       "      <td>32.9</td>\n",
       "      <td>971.28</td>\n",
       "      <td>2.80</td>\n",
       "    </tr>\n",
       "    <tr>\n",
       "      <th>83</th>\n",
       "      <td>80</td>\n",
       "      <td>0.6421</td>\n",
       "      <td>32.9</td>\n",
       "      <td>1133.16</td>\n",
       "      <td>2.65</td>\n",
       "    </tr>\n",
       "    <tr>\n",
       "      <th>84</th>\n",
       "      <td>80</td>\n",
       "      <td>0.6421</td>\n",
       "      <td>32.9</td>\n",
       "      <td>1295.04</td>\n",
       "      <td>2.53</td>\n",
       "    </tr>\n",
       "  </tbody>\n",
       "</table>\n",
       "<p>84 rows × 5 columns</p>\n",
       "</div>"
      ],
      "text/plain": [
       "0  Temperature       N     K  shear_rate  viscosity_cp\n",
       "1           25   0.725  29.9      311.00          6.20\n",
       "2           25   0.725  29.9      467.00          5.50\n",
       "3           25   0.725  29.9      622.00          5.10\n",
       "4           25   0.725  29.9      778.00          4.80\n",
       "5           25   0.725  29.9      933.00          4.60\n",
       "..         ...     ...   ...         ...           ...\n",
       "80          80  0.6421  32.9      647.52          3.24\n",
       "81          80  0.6421  32.9      809.40          2.99\n",
       "82          80  0.6421  32.9      971.28          2.80\n",
       "83          80  0.6421  32.9     1133.16          2.65\n",
       "84          80  0.6421  32.9     1295.04          2.53\n",
       "\n",
       "[84 rows x 5 columns]"
      ]
     },
     "execution_count": 34,
     "metadata": {},
     "output_type": "execute_result"
    }
   ],
   "source": [
    "#feature_cols = ['Foam_quality','Temperature', \"N\", \"K\",'shear_rate']\n",
    "feature_cols = [ 'Temperature', \"N\", \"K\",'shear_rate']\n",
    "\n",
    "from sklearn.preprocessing import MinMaxScaler\n",
    "#scaler = MinMaxScaler()\n",
    "#shear_df[feature_cols] = scaler.fit_transform(shear_df[feature_cols])\n",
    "X = shear_df[feature_cols] # Features\n",
    "shear_df"
   ]
  },
  {
   "cell_type": "code",
   "execution_count": 11,
   "metadata": {},
   "outputs": [],
   "source": [
    "y = shear_df.viscosity_cp # Target variable"
   ]
  },
  {
   "cell_type": "markdown",
   "metadata": {},
   "source": [
    "# Data splitting"
   ]
  },
  {
   "cell_type": "code",
   "execution_count": 12,
   "metadata": {},
   "outputs": [],
   "source": [
    "from sklearn.model_selection import train_test_split\n",
    "\n",
    "X_train,X_test,y_train,y_test=train_test_split(X,y,test_size=0.2,random_state=0)\n"
   ]
  },
  {
   "cell_type": "markdown",
   "metadata": {},
   "source": [
    "## Fit data to a Linear Regression model\n",
    "- regression technique will find a linear relationship between x (shear_rate) and y(cP)\n",
    "\n",
    "- linear regression algorithm fits multiple lines on the data points and returns the line that results in the least error"
   ]
  },
  {
   "cell_type": "code",
   "execution_count": 26,
   "metadata": {},
   "outputs": [
    {
     "data": {
      "text/plain": [
       "array([0.18943246, 0.6990981 , 0.64388786, 0.1315386 , 0.47626874])"
      ]
     },
     "execution_count": 26,
     "metadata": {},
     "output_type": "execute_result"
    }
   ],
   "source": [
    "from sklearn.linear_model import LinearRegression\n",
    "from sklearn.model_selection import cross_val_score\n",
    "\n",
    "# instantiate the model (using the default parameters)\n",
    "logreg = LinearRegression()\n",
    "scores = cross_val_score(logreg, X_train, y_train, scoring='r2', cv=5)\n",
    "scores "
   ]
  },
  {
   "cell_type": "code",
   "execution_count": 27,
   "metadata": {},
   "outputs": [
    {
     "data": {
      "text/plain": [
       "LinearRegression()"
      ]
     },
     "execution_count": 27,
     "metadata": {},
     "output_type": "execute_result"
    }
   ],
   "source": [
    "# fit the model with data\n",
    "logreg.fit(X_train,y_train)"
   ]
  },
  {
   "cell_type": "markdown",
   "metadata": {},
   "source": [
    "## k-fold cross-validation"
   ]
  },
  {
   "cell_type": "code",
   "execution_count": 28,
   "metadata": {},
   "outputs": [
    {
     "name": "stderr",
     "output_type": "stream",
     "text": [
      "C:\\Users\\maab_\\Anaconda3\\lib\\site-packages\\sklearn\\model_selection\\_split.py:297: FutureWarning: Setting a random_state has no effect since shuffle is False. This will raise an error in 0.24. You should leave random_state to its default (None), or set shuffle=True.\n",
      "  FutureWarning\n"
     ]
    },
    {
     "data": {
      "image/png": "[encoded data removed]",
      "text/plain": [
       "<Figure size 576x396 with 1 Axes>"
      ]
     },
     "metadata": {},
     "output_type": "display_data"
    },
    {
     "data": {
      "text/plain": [
       "<AxesSubplot:title={'center':'Cross Validation Scores for Ridge'}, xlabel='Training Instances', ylabel='Score'>"
      ]
     },
     "execution_count": 28,
     "metadata": {},
     "output_type": "execute_result"
    }
   ],
   "source": [
    "from sklearn.linear_model import Ridge\n",
    "from sklearn.model_selection import KFold\n",
    "\n",
    "from yellowbrick.datasets import load_energy\n",
    "from yellowbrick.model_selection import CVScores\n",
    "\n",
    "# Instantiate the regression model and visualizer\n",
    "cv = KFold(n_splits=12, random_state=42)\n",
    "\n",
    "model = Ridge()\n",
    "visualizer = CVScores(model, cv=cv, scoring='r2')\n",
    "\n",
    "visualizer.fit(X_train, y_train)        # Fit the data to the visualizer\n",
    "visualizer.show()    "
   ]
  },
  {
   "cell_type": "markdown",
   "metadata": {},
   "source": [
    "# Model Coefficients ( β1 )\n",
    "Y= mx + b. \n",
    "(b is the intercept and m is the slope of the line)"
   ]
  },
  {
   "cell_type": "markdown",
   "metadata": {},
   "source": [
    "*Interpretation\n",
    "- Intercept: for every one unit of change in shear rate, the change in the cP is about 0.002%."
   ]
  },
  {
   "cell_type": "code",
   "execution_count": 29,
   "metadata": {},
   "outputs": [
    {
     "name": "stdout",
     "output_type": "stream",
     "text": [
      "-1.92651698971962\n",
      "[-2.35991372e-02  9.48223512e+00  3.17662571e-02 -1.49662782e-03]\n"
     ]
    }
   ],
   "source": [
    "#To retrieve the intercept:\n",
    "print(logreg.intercept_)\n",
    "#For retrieving the slope:\n",
    "print(logreg.coef_)"
   ]
  },
  {
   "cell_type": "markdown",
   "metadata": {},
   "source": [
    "# Predict (cP) using the Model (y=β0+β1x)"
   ]
  },
  {
   "cell_type": "code",
   "execution_count": 30,
   "metadata": {},
   "outputs": [
    {
     "data": {
      "text/html": [
       "<div>\n",
       "<style scoped>\n",
       "    .dataframe tbody tr th:only-of-type {\n",
       "        vertical-align: middle;\n",
       "    }\n",
       "\n",
       "    .dataframe tbody tr th {\n",
       "        vertical-align: top;\n",
       "    }\n",
       "\n",
       "    .dataframe thead th {\n",
       "        text-align: right;\n",
       "    }\n",
       "</style>\n",
       "<table border=\"1\" class=\"dataframe\">\n",
       "  <thead>\n",
       "    <tr style=\"text-align: right;\">\n",
       "      <th></th>\n",
       "      <th>Actual</th>\n",
       "      <th>Predicted</th>\n",
       "    </tr>\n",
       "  </thead>\n",
       "  <tbody>\n",
       "    <tr>\n",
       "      <th>31</th>\n",
       "      <td>3.02</td>\n",
       "      <td>3.802769</td>\n",
       "    </tr>\n",
       "    <tr>\n",
       "      <th>41</th>\n",
       "      <td>1.55</td>\n",
       "      <td>1.488247</td>\n",
       "    </tr>\n",
       "    <tr>\n",
       "      <th>44</th>\n",
       "      <td>3.39</td>\n",
       "      <td>3.336514</td>\n",
       "    </tr>\n",
       "    <tr>\n",
       "      <th>51</th>\n",
       "      <td>3.99</td>\n",
       "      <td>3.386877</td>\n",
       "    </tr>\n",
       "    <tr>\n",
       "      <th>23</th>\n",
       "      <td>5.42</td>\n",
       "      <td>4.608110</td>\n",
       "    </tr>\n",
       "    <tr>\n",
       "      <th>55</th>\n",
       "      <td>2.77</td>\n",
       "      <td>2.374708</td>\n",
       "    </tr>\n",
       "    <tr>\n",
       "      <th>3</th>\n",
       "      <td>5.10</td>\n",
       "      <td>4.377034</td>\n",
       "    </tr>\n",
       "    <tr>\n",
       "      <th>57</th>\n",
       "      <td>3.03</td>\n",
       "      <td>2.683140</td>\n",
       "    </tr>\n",
       "    <tr>\n",
       "      <th>27</th>\n",
       "      <td>3.78</td>\n",
       "      <td>3.600236</td>\n",
       "    </tr>\n",
       "    <tr>\n",
       "      <th>9</th>\n",
       "      <td>2.57</td>\n",
       "      <td>3.337429</td>\n",
       "    </tr>\n",
       "    <tr>\n",
       "      <th>70</th>\n",
       "      <td>1.41</td>\n",
       "      <td>1.971708</td>\n",
       "    </tr>\n",
       "    <tr>\n",
       "      <th>14</th>\n",
       "      <td>1.70</td>\n",
       "      <td>2.079902</td>\n",
       "    </tr>\n",
       "    <tr>\n",
       "      <th>67</th>\n",
       "      <td>1.56</td>\n",
       "      <td>2.653781</td>\n",
       "    </tr>\n",
       "    <tr>\n",
       "      <th>78</th>\n",
       "      <td>4.15</td>\n",
       "      <td>2.834657</td>\n",
       "    </tr>\n",
       "    <tr>\n",
       "      <th>17</th>\n",
       "      <td>3.02</td>\n",
       "      <td>3.791199</td>\n",
       "    </tr>\n",
       "    <tr>\n",
       "      <th>28</th>\n",
       "      <td>3.57</td>\n",
       "      <td>3.348264</td>\n",
       "    </tr>\n",
       "    <tr>\n",
       "      <th>76</th>\n",
       "      <td>1.78</td>\n",
       "      <td>2.096227</td>\n",
       "    </tr>\n",
       "  </tbody>\n",
       "</table>\n",
       "</div>"
      ],
      "text/plain": [
       "    Actual  Predicted\n",
       "31    3.02   3.802769\n",
       "41    1.55   1.488247\n",
       "44    3.39   3.336514\n",
       "51    3.99   3.386877\n",
       "23    5.42   4.608110\n",
       "55    2.77   2.374708\n",
       "3     5.10   4.377034\n",
       "57    3.03   2.683140\n",
       "27    3.78   3.600236\n",
       "9     2.57   3.337429\n",
       "70    1.41   1.971708\n",
       "14    1.70   2.079902\n",
       "67    1.56   2.653781\n",
       "78    4.15   2.834657\n",
       "17    3.02   3.791199\n",
       "28    3.57   3.348264\n",
       "76    1.78   2.096227"
      ]
     },
     "execution_count": 30,
     "metadata": {},
     "output_type": "execute_result"
    }
   ],
   "source": [
    "\n",
    "# try the testset\n",
    "y_pred=logreg.predict(X_test)\n",
    "\n",
    "df = pd.DataFrame({'Actual': y_test, 'Predicted': y_pred})\n",
    "df"
   ]
  },
  {
   "cell_type": "code",
   "execution_count": 35,
   "metadata": {},
   "outputs": [],
   "source": [
    "# plotting the regression line on the scatter plot\n",
    "#plt.figure(figsize=(10,6))\n",
    "#plt.scatter(X_test, y_test)\n",
    "#plt.plot(X_test, y_pred, c='r')\n",
    "#plt.title('Scatter plot and a Simple Linear Regression Model')\n",
    "#plt.ylabel(\"y\")\n",
    "#plt.xlabel(\"bmi\")\n",
    "#plt.show()"
   ]
  },
  {
   "cell_type": "code",
   "execution_count": 36,
   "metadata": {},
   "outputs": [],
   "source": [
    "#plt.scatter(X_test, y_test,  color='gray')\n",
    "#plt.plot(X_test, y_pred, color='red', linewidth=2)\n",
    "#plt.show()"
   ]
  },
  {
   "cell_type": "code",
   "execution_count": 37,
   "metadata": {},
   "outputs": [
    {
     "name": "stdout",
     "output_type": "stream",
     "text": [
      "0.552072241567485\n",
      "0.42312200666083005\n",
      "0.6504782906914189\n"
     ]
    }
   ],
   "source": [
    "from sklearn import metrics\n",
    "\n",
    "# calculate MAE, MSE, RMSE\n",
    "#MAE\n",
    "print(metrics.mean_absolute_error(y_test, y_pred))\n",
    "#MSE\n",
    "print(metrics.mean_squared_error(y_test, y_pred))\n",
    "# RMSE\n",
    "print(np.sqrt(metrics.mean_squared_error(y_test, y_pred)))"
   ]
  },
  {
   "cell_type": "markdown",
   "metadata": {},
   "source": [
    "# Confidence in the Model"
   ]
  },
  {
   "cell_type": "code",
   "execution_count": 38,
   "metadata": {},
   "outputs": [
    {
     "data": {
      "text/html": [
       "<div>\n",
       "<style scoped>\n",
       "    .dataframe tbody tr th:only-of-type {\n",
       "        vertical-align: middle;\n",
       "    }\n",
       "\n",
       "    .dataframe tbody tr th {\n",
       "        vertical-align: top;\n",
       "    }\n",
       "\n",
       "    .dataframe thead th {\n",
       "        text-align: right;\n",
       "    }\n",
       "</style>\n",
       "<table border=\"1\" class=\"dataframe\">\n",
       "  <thead>\n",
       "    <tr style=\"text-align: right;\">\n",
       "      <th></th>\n",
       "      <th>0</th>\n",
       "      <th>1</th>\n",
       "    </tr>\n",
       "  </thead>\n",
       "  <tbody>\n",
       "    <tr>\n",
       "      <th>Intercept</th>\n",
       "      <td>1085.728651</td>\n",
       "      <td>1449.297367</td>\n",
       "    </tr>\n",
       "    <tr>\n",
       "      <th>viscosity_cp</th>\n",
       "      <td>-204.040324</td>\n",
       "      <td>-88.650822</td>\n",
       "    </tr>\n",
       "  </tbody>\n",
       "</table>\n",
       "</div>"
      ],
      "text/plain": [
       "                        0            1\n",
       "Intercept     1085.728651  1449.297367\n",
       "viscosity_cp  -204.040324   -88.650822"
      ]
     },
     "execution_count": 38,
     "metadata": {},
     "output_type": "execute_result"
    }
   ],
   "source": [
    "# print the confidence intervals for the model coefficients\n",
    "lm1.conf_int()"
   ]
  },
  {
   "cell_type": "markdown",
   "metadata": {},
   "source": [
    "# Hypothesis Testing and p-values"
   ]
  },
  {
   "cell_type": "code",
   "execution_count": 39,
   "metadata": {},
   "outputs": [
    {
     "data": {
      "text/plain": [
       "Intercept       3.246185e-23\n",
       "viscosity_cp    2.666586e-06\n",
       "dtype: float64"
      ]
     },
     "execution_count": 39,
     "metadata": {},
     "output_type": "execute_result"
    }
   ],
   "source": [
    "lm1.pvalues"
   ]
  },
  {
   "cell_type": "code",
   "execution_count": 40,
   "metadata": {},
   "outputs": [
    {
     "data": {
      "text/plain": [
       "0.2369407057896612"
      ]
     },
     "execution_count": 40,
     "metadata": {},
     "output_type": "execute_result"
    }
   ],
   "source": [
    "### STATSMODELS ###\n",
    "\n",
    "# print the R-squared value for the model\n",
    "lm1.rsquared"
   ]
  },
  {
   "cell_type": "code",
   "execution_count": 41,
   "metadata": {},
   "outputs": [
    {
     "data": {
      "text/plain": [
       "0.6421635812447315"
      ]
     },
     "execution_count": 41,
     "metadata": {},
     "output_type": "execute_result"
    }
   ],
   "source": [
    "### SCIKIT-LEARN ###\n",
    "\n",
    "# print the R-squared value for the model\n",
    "logreg.score(X, y)"
   ]
  },
  {
   "cell_type": "code",
   "execution_count": 42,
   "metadata": {},
   "outputs": [
    {
     "data": {
      "text/plain": [
       "Intercept            3.531232\n",
       "Temperature[T.50]    0.427198\n",
       "Temperature[T.80]    0.141083\n",
       "N[T.0.492]           0.402474\n",
       "N[T.0.499]           0.140498\n",
       "N[T.0.527]          -0.311863\n",
       "N[T.0.5682]          0.393735\n",
       "N[T.0.5748]          1.219478\n",
       "N[T.0.578]           0.001813\n",
       "N[T.0.6421]          0.376011\n",
       "N[T.0.666]          -0.034713\n",
       "N[T.0.725]           1.339187\n",
       "N[T.0.783]          -0.430083\n",
       "N[T.0.784]           0.204827\n",
       "K[T.127.4]           0.229868\n",
       "K[T.20.81]          -0.034713\n",
       "K[T.29.9]            1.339187\n",
       "K[T.32.9]            0.376011\n",
       "K[T.35.5]            0.001813\n",
       "K[T.44.7]           -0.311863\n",
       "K[T.5.68]           -0.430083\n",
       "K[T.58.7]            0.393735\n",
       "K[T.76.5]            1.219478\n",
       "K[T.79]              0.140498\n",
       "K[T.85.4]            0.402474\n",
       "shear_rate          -0.001592\n",
       "dtype: float64"
      ]
     },
     "execution_count": 42,
     "metadata": {},
     "output_type": "execute_result"
    }
   ],
   "source": [
    "### STATSMODELS ###\n",
    "\n",
    "# create a fitted model with all 5 features\n",
    "lm1 = smf.ols(formula='viscosity_cp ~ Temperature + N + K + shear_rate', data=shear_df).fit()\n",
    "\n",
    "# print the coefficients\n",
    "lm1.params"
   ]
  },
  {
   "cell_type": "code",
   "execution_count": 43,
   "metadata": {},
   "outputs": [
    {
     "data": {
      "text/plain": [
       "[('Temperature', -0.023599137231987987),\n",
       " ('N', 9.482235123439194),\n",
       " ('K', 0.03176625709901024),\n",
       " ('shear_rate', -0.001496627815486668)]"
      ]
     },
     "execution_count": 43,
     "metadata": {},
     "output_type": "execute_result"
    }
   ],
   "source": [
    "# pairing the feature with the coefficients\n",
    "list(zip(feature_cols, logreg.coef_))"
   ]
  },
  {
   "cell_type": "code",
   "execution_count": 44,
   "metadata": {},
   "outputs": [
    {
     "data": {
      "text/html": [
       "<table class=\"simpletable\">\n",
       "<caption>OLS Regression Results</caption>\n",
       "<tr>\n",
       "  <th>Dep. Variable:</th>      <td>viscosity_cp</td>   <th>  R-squared:         </th> <td>   0.953</td>\n",
       "</tr>\n",
       "<tr>\n",
       "  <th>Model:</th>                   <td>OLS</td>       <th>  Adj. R-squared:    </th> <td>   0.946</td>\n",
       "</tr>\n",
       "<tr>\n",
       "  <th>Method:</th>             <td>Least Squares</td>  <th>  F-statistic:       </th> <td>   121.2</td>\n",
       "</tr>\n",
       "<tr>\n",
       "  <th>Date:</th>             <td>Sun, 18 Oct 2020</td> <th>  Prob (F-statistic):</th> <td>2.83e-42</td>\n",
       "</tr>\n",
       "<tr>\n",
       "  <th>Time:</th>                 <td>11:03:54</td>     <th>  Log-Likelihood:    </th> <td>-0.84903</td>\n",
       "</tr>\n",
       "<tr>\n",
       "  <th>No. Observations:</th>      <td>    84</td>      <th>  AIC:               </th> <td>   27.70</td>\n",
       "</tr>\n",
       "<tr>\n",
       "  <th>Df Residuals:</th>          <td>    71</td>      <th>  BIC:               </th> <td>   59.30</td>\n",
       "</tr>\n",
       "<tr>\n",
       "  <th>Df Model:</th>              <td>    12</td>      <th>                     </th>     <td> </td>   \n",
       "</tr>\n",
       "<tr>\n",
       "  <th>Covariance Type:</th>      <td>nonrobust</td>    <th>                     </th>     <td> </td>   \n",
       "</tr>\n",
       "</table>\n",
       "<table class=\"simpletable\">\n",
       "<tr>\n",
       "          <td></td>             <th>coef</th>     <th>std err</th>      <th>t</th>      <th>P>|t|</th>  <th>[0.025</th>    <th>0.975]</th>  \n",
       "</tr>\n",
       "<tr>\n",
       "  <th>Intercept</th>         <td>    3.5312</td> <td>    0.062</td> <td>   57.152</td> <td> 0.000</td> <td>    3.408</td> <td>    3.654</td>\n",
       "</tr>\n",
       "<tr>\n",
       "  <th>Temperature[T.50]</th> <td>    0.4272</td> <td>    0.038</td> <td>   11.293</td> <td> 0.000</td> <td>    0.352</td> <td>    0.503</td>\n",
       "</tr>\n",
       "<tr>\n",
       "  <th>Temperature[T.80]</th> <td>    0.1411</td> <td>    0.038</td> <td>    3.667</td> <td> 0.000</td> <td>    0.064</td> <td>    0.218</td>\n",
       "</tr>\n",
       "<tr>\n",
       "  <th>N[T.0.492]</th>        <td>    0.4025</td> <td>    0.047</td> <td>    8.521</td> <td> 0.000</td> <td>    0.308</td> <td>    0.497</td>\n",
       "</tr>\n",
       "<tr>\n",
       "  <th>N[T.0.499]</th>        <td>    0.1405</td> <td>    0.047</td> <td>    2.994</td> <td> 0.004</td> <td>    0.047</td> <td>    0.234</td>\n",
       "</tr>\n",
       "<tr>\n",
       "  <th>N[T.0.527]</th>        <td>   -0.3119</td> <td>    0.047</td> <td>   -6.658</td> <td> 0.000</td> <td>   -0.405</td> <td>   -0.218</td>\n",
       "</tr>\n",
       "<tr>\n",
       "  <th>N[T.0.5682]</th>       <td>    0.3937</td> <td>    0.047</td> <td>    8.420</td> <td> 0.000</td> <td>    0.300</td> <td>    0.487</td>\n",
       "</tr>\n",
       "<tr>\n",
       "  <th>N[T.0.5748]</th>       <td>    1.2195</td> <td>    0.047</td> <td>   26.067</td> <td> 0.000</td> <td>    1.126</td> <td>    1.313</td>\n",
       "</tr>\n",
       "<tr>\n",
       "  <th>N[T.0.578]</th>        <td>    0.0018</td> <td>    0.047</td> <td>    0.039</td> <td> 0.969</td> <td>   -0.091</td> <td>    0.095</td>\n",
       "</tr>\n",
       "<tr>\n",
       "  <th>N[T.0.6421]</th>       <td>    0.3760</td> <td>    0.047</td> <td>    8.058</td> <td> 0.000</td> <td>    0.283</td> <td>    0.469</td>\n",
       "</tr>\n",
       "<tr>\n",
       "  <th>N[T.0.666]</th>        <td>   -0.0347</td> <td>    0.047</td> <td>   -0.744</td> <td> 0.459</td> <td>   -0.128</td> <td>    0.058</td>\n",
       "</tr>\n",
       "<tr>\n",
       "  <th>N[T.0.725]</th>        <td>    1.3392</td> <td>    0.046</td> <td>   28.879</td> <td> 0.000</td> <td>    1.247</td> <td>    1.432</td>\n",
       "</tr>\n",
       "<tr>\n",
       "  <th>N[T.0.783]</th>        <td>   -0.4301</td> <td>    0.047</td> <td>   -9.211</td> <td> 0.000</td> <td>   -0.523</td> <td>   -0.337</td>\n",
       "</tr>\n",
       "<tr>\n",
       "  <th>N[T.0.784]</th>        <td>    0.2048</td> <td>    0.075</td> <td>    2.727</td> <td> 0.008</td> <td>    0.055</td> <td>    0.355</td>\n",
       "</tr>\n",
       "<tr>\n",
       "  <th>K[T.127.4]</th>        <td>    0.2299</td> <td>    0.076</td> <td>    3.009</td> <td> 0.004</td> <td>    0.078</td> <td>    0.382</td>\n",
       "</tr>\n",
       "<tr>\n",
       "  <th>K[T.20.81]</th>        <td>   -0.0347</td> <td>    0.047</td> <td>   -0.744</td> <td> 0.459</td> <td>   -0.128</td> <td>    0.058</td>\n",
       "</tr>\n",
       "<tr>\n",
       "  <th>K[T.29.9]</th>         <td>    1.3392</td> <td>    0.046</td> <td>   28.879</td> <td> 0.000</td> <td>    1.247</td> <td>    1.432</td>\n",
       "</tr>\n",
       "<tr>\n",
       "  <th>K[T.32.9]</th>         <td>    0.3760</td> <td>    0.047</td> <td>    8.058</td> <td> 0.000</td> <td>    0.283</td> <td>    0.469</td>\n",
       "</tr>\n",
       "<tr>\n",
       "  <th>K[T.35.5]</th>         <td>    0.0018</td> <td>    0.047</td> <td>    0.039</td> <td> 0.969</td> <td>   -0.091</td> <td>    0.095</td>\n",
       "</tr>\n",
       "<tr>\n",
       "  <th>K[T.44.7]</th>         <td>   -0.3119</td> <td>    0.047</td> <td>   -6.658</td> <td> 0.000</td> <td>   -0.405</td> <td>   -0.218</td>\n",
       "</tr>\n",
       "<tr>\n",
       "  <th>K[T.5.68]</th>         <td>   -0.4301</td> <td>    0.047</td> <td>   -9.211</td> <td> 0.000</td> <td>   -0.523</td> <td>   -0.337</td>\n",
       "</tr>\n",
       "<tr>\n",
       "  <th>K[T.58.7]</th>         <td>    0.3937</td> <td>    0.047</td> <td>    8.420</td> <td> 0.000</td> <td>    0.300</td> <td>    0.487</td>\n",
       "</tr>\n",
       "<tr>\n",
       "  <th>K[T.76.5]</th>         <td>    1.2195</td> <td>    0.047</td> <td>   26.067</td> <td> 0.000</td> <td>    1.126</td> <td>    1.313</td>\n",
       "</tr>\n",
       "<tr>\n",
       "  <th>K[T.79]</th>           <td>    0.1405</td> <td>    0.047</td> <td>    2.994</td> <td> 0.004</td> <td>    0.047</td> <td>    0.234</td>\n",
       "</tr>\n",
       "<tr>\n",
       "  <th>K[T.85.4]</th>         <td>    0.4025</td> <td>    0.047</td> <td>    8.521</td> <td> 0.000</td> <td>    0.308</td> <td>    0.497</td>\n",
       "</tr>\n",
       "<tr>\n",
       "  <th>shear_rate</th>        <td>   -0.0016</td> <td> 8.64e-05</td> <td>  -18.424</td> <td> 0.000</td> <td>   -0.002</td> <td>   -0.001</td>\n",
       "</tr>\n",
       "</table>\n",
       "<table class=\"simpletable\">\n",
       "<tr>\n",
       "  <th>Omnibus:</th>       <td>27.453</td> <th>  Durbin-Watson:     </th> <td>   0.954</td>\n",
       "</tr>\n",
       "<tr>\n",
       "  <th>Prob(Omnibus):</th> <td> 0.000</td> <th>  Jarque-Bera (JB):  </th> <td>  44.120</td>\n",
       "</tr>\n",
       "<tr>\n",
       "  <th>Skew:</th>          <td> 1.347</td> <th>  Prob(JB):          </th> <td>2.63e-10</td>\n",
       "</tr>\n",
       "<tr>\n",
       "  <th>Kurtosis:</th>      <td> 5.312</td> <th>  Cond. No.          </th> <td>1.92e+19</td>\n",
       "</tr>\n",
       "</table><br/><br/>Warnings:<br/>[1] Standard Errors assume that the covariance matrix of the errors is correctly specified.<br/>[2] The smallest eigenvalue is 1.86e-31. This might indicate that there are<br/>strong multicollinearity problems or that the design matrix is singular."
      ],
      "text/plain": [
       "<class 'statsmodels.iolib.summary.Summary'>\n",
       "\"\"\"\n",
       "                            OLS Regression Results                            \n",
       "==============================================================================\n",
       "Dep. Variable:           viscosity_cp   R-squared:                       0.953\n",
       "Model:                            OLS   Adj. R-squared:                  0.946\n",
       "Method:                 Least Squares   F-statistic:                     121.2\n",
       "Date:                Sun, 18 Oct 2020   Prob (F-statistic):           2.83e-42\n",
       "Time:                        11:03:54   Log-Likelihood:               -0.84903\n",
       "No. Observations:                  84   AIC:                             27.70\n",
       "Df Residuals:                      71   BIC:                             59.30\n",
       "Df Model:                          12                                         \n",
       "Covariance Type:            nonrobust                                         \n",
       "=====================================================================================\n",
       "                        coef    std err          t      P>|t|      [0.025      0.975]\n",
       "-------------------------------------------------------------------------------------\n",
       "Intercept             3.5312      0.062     57.152      0.000       3.408       3.654\n",
       "Temperature[T.50]     0.4272      0.038     11.293      0.000       0.352       0.503\n",
       "Temperature[T.80]     0.1411      0.038      3.667      0.000       0.064       0.218\n",
       "N[T.0.492]            0.4025      0.047      8.521      0.000       0.308       0.497\n",
       "N[T.0.499]            0.1405      0.047      2.994      0.004       0.047       0.234\n",
       "N[T.0.527]           -0.3119      0.047     -6.658      0.000      -0.405      -0.218\n",
       "N[T.0.5682]           0.3937      0.047      8.420      0.000       0.300       0.487\n",
       "N[T.0.5748]           1.2195      0.047     26.067      0.000       1.126       1.313\n",
       "N[T.0.578]            0.0018      0.047      0.039      0.969      -0.091       0.095\n",
       "N[T.0.6421]           0.3760      0.047      8.058      0.000       0.283       0.469\n",
       "N[T.0.666]           -0.0347      0.047     -0.744      0.459      -0.128       0.058\n",
       "N[T.0.725]            1.3392      0.046     28.879      0.000       1.247       1.432\n",
       "N[T.0.783]           -0.4301      0.047     -9.211      0.000      -0.523      -0.337\n",
       "N[T.0.784]            0.2048      0.075      2.727      0.008       0.055       0.355\n",
       "K[T.127.4]            0.2299      0.076      3.009      0.004       0.078       0.382\n",
       "K[T.20.81]           -0.0347      0.047     -0.744      0.459      -0.128       0.058\n",
       "K[T.29.9]             1.3392      0.046     28.879      0.000       1.247       1.432\n",
       "K[T.32.9]             0.3760      0.047      8.058      0.000       0.283       0.469\n",
       "K[T.35.5]             0.0018      0.047      0.039      0.969      -0.091       0.095\n",
       "K[T.44.7]            -0.3119      0.047     -6.658      0.000      -0.405      -0.218\n",
       "K[T.5.68]            -0.4301      0.047     -9.211      0.000      -0.523      -0.337\n",
       "K[T.58.7]             0.3937      0.047      8.420      0.000       0.300       0.487\n",
       "K[T.76.5]             1.2195      0.047     26.067      0.000       1.126       1.313\n",
       "K[T.79]               0.1405      0.047      2.994      0.004       0.047       0.234\n",
       "K[T.85.4]             0.4025      0.047      8.521      0.000       0.308       0.497\n",
       "shear_rate           -0.0016   8.64e-05    -18.424      0.000      -0.002      -0.001\n",
       "==============================================================================\n",
       "Omnibus:                       27.453   Durbin-Watson:                   0.954\n",
       "Prob(Omnibus):                  0.000   Jarque-Bera (JB):               44.120\n",
       "Skew:                           1.347   Prob(JB):                     2.63e-10\n",
       "Kurtosis:                       5.312   Cond. No.                     1.92e+19\n",
       "==============================================================================\n",
       "\n",
       "Warnings:\n",
       "[1] Standard Errors assume that the covariance matrix of the errors is correctly specified.\n",
       "[2] The smallest eigenvalue is 1.86e-31. This might indicate that there are\n",
       "strong multicollinearity problems or that the design matrix is singular.\n",
       "\"\"\""
      ]
     },
     "execution_count": 44,
     "metadata": {},
     "output_type": "execute_result"
    }
   ],
   "source": [
    "### STATSMODELS ###\n",
    "\n",
    "# a summary of the fitted model\n",
    "lm1.summary()"
   ]
  },
  {
   "cell_type": "markdown",
   "metadata": {},
   "source": [
    "# Feature Selection"
   ]
  },
  {
   "cell_type": "code",
   "execution_count": 45,
   "metadata": {},
   "outputs": [
    {
     "data": {
      "text/plain": [
       "0.9534660799105896"
      ]
     },
     "execution_count": 45,
     "metadata": {},
     "output_type": "execute_result"
    }
   ],
   "source": [
    "### STATSMODELS ###\n",
    "\n",
    "# include Foam_quality,Temperature in the model\n",
    "\n",
    "# instantiate and fit model\n",
    "lm1 = smf.ols(formula='viscosity_cp ~ Temperature + N + K + shear_rate', data=shear_df).fit()\n",
    "\n",
    "# calculate r-square \n",
    "lm1.rsquared"
   ]
  },
  {
   "cell_type": "code",
   "execution_count": 53,
   "metadata": {},
   "outputs": [
    {
     "data": {
      "text/plain": [
       "0.9534660799105896"
      ]
     },
     "execution_count": 53,
     "metadata": {},
     "output_type": "execute_result"
    }
   ],
   "source": [
    "### STATSMODELS ###\n",
    "\n",
    "# instantiate and fit model\n",
    "lm1 = smf.ols(formula='viscosity_cp ~  N + K + shear_rate + Temperature', data=shear_df).fit()\n",
    "\n",
    "# calculate r-square \n",
    "lm1.rsquared"
   ]
  },
  {
   "cell_type": "code",
   "execution_count": 54,
   "metadata": {},
   "outputs": [
    {
     "data": {
      "image/png": "[encoded data removed]",
      "text/plain": [
       "<Figure size 1152x720 with 1 Axes>"
      ]
     },
     "metadata": {
      "needs_background": "light"
     },
     "output_type": "display_data"
    }
   ],
   "source": [
    "df1 = df.head(25)\n",
    "df1.plot(kind='bar',figsize=(16,10))\n",
    "plt.grid(which='major', linestyle='-', linewidth='0.5', color='green')\n",
    "plt.grid(which='minor', linestyle=':', linewidth='0.5', color='black')\n",
    "plt.show()"
   ]
  },
  {
   "cell_type": "markdown",
   "metadata": {},
   "source": [
    "## Model Evaluation"
   ]
  },
  {
   "cell_type": "code",
   "execution_count": 55,
   "metadata": {},
   "outputs": [
    {
     "name": "stdout",
     "output_type": "stream",
     "text": [
      "0.6504782906914189\n"
     ]
    }
   ],
   "source": [
    "# RMSE\n",
    "print(np.sqrt(metrics.mean_squared_error(y_test, y_pred)))"
   ]
  },
  {
   "cell_type": "markdown",
   "metadata": {},
   "source": [
    "# Compare"
   ]
  },
  {
   "cell_type": "code",
   "execution_count": 56,
   "metadata": {},
   "outputs": [
    {
     "name": "stdout",
     "output_type": "stream",
     "text": [
      "0.697055898047816\n",
      "0.7230792386324917\n",
      "0.8503406603429544\n"
     ]
    }
   ],
   "source": [
    "from sklearn import metrics\n",
    "from sklearn.linear_model import LinearRegression\n",
    "from sklearn.model_selection import train_test_split\n",
    "\n",
    "feature_cols = ['K', 'N', 'shear_rate']\n",
    "\n",
    "X = shear_df[feature_cols] # Features\n",
    "y = shear_df.viscosity_cp # Target variable\n",
    "X_train,X_test,y_train,y_test=train_test_split(X,y,test_size=0.2,random_state=0)\n",
    "\n",
    "# instantiate the model (using the default parameters)\n",
    "logreg = LinearRegression()\n",
    "\n",
    "# fit the model with data\n",
    "logreg.fit(X_train,y_train)\n",
    "# try the testset\n",
    "y_pred=logreg.predict(X_test)\n",
    "\n",
    "df = pd.DataFrame({'Actual': y_test, 'Predicted': y_pred})\n",
    "df\n",
    "# calculate MAE, MSE, RMSE\n",
    "#MAE\n",
    "print(metrics.mean_absolute_error(y_test, y_pred))\n",
    "#MSE\n",
    "print(metrics.mean_squared_error(y_test, y_pred))\n",
    "# RMSE\n",
    "print(np.sqrt(metrics.mean_squared_error(y_test, y_pred)))"
   ]
  },
  {
   "cell_type": "code",
   "execution_count": 57,
   "metadata": {},
   "outputs": [
    {
     "name": "stdout",
     "output_type": "stream",
     "text": [
      "0.5520722415675796\n",
      "0.42312200666099353\n",
      "0.6504782906915445\n"
     ]
    }
   ],
   "source": [
    "from sklearn import metrics\n",
    "from sklearn.linear_model import LinearRegression\n",
    "from sklearn.model_selection import train_test_split\n",
    "\n",
    "#feature_cols = ['Foam_quality','Temperature', 'K', 'N', 'shear_rate']\n",
    "feature_cols = ['Temperature', 'K', 'N', 'shear_rate']\n",
    "#feature_cols = [ 'shear_rate']\n",
    "\n",
    "X = shear_df[feature_cols] # Features\n",
    "y = shear_df.viscosity_cp # Target variable\n",
    "X_train,X_test,y_train,y_test=train_test_split(X,y,test_size=0.2,random_state=0)\n",
    "\n",
    "# instantiate the model (using the default parameters)\n",
    "logreg = LinearRegression()\n",
    "\n",
    "# fit the model with data\n",
    "logreg.fit(X_train,y_train)\n",
    "# try the testset\n",
    "y_pred=logreg.predict(X_test)\n",
    "\n",
    "df = pd.DataFrame({'Actual': y_test, 'Predicted': y_pred})\n",
    "df\n",
    "# calculate MAE, MSE, RMSE\n",
    "#MAE\n",
    "print(metrics.mean_absolute_error(y_test, y_pred))\n",
    "#MSE\n",
    "print(metrics.mean_squared_error(y_test, y_pred))\n",
    "# RMSE\n",
    "print(np.sqrt(metrics.mean_squared_error(y_test, y_pred)))"
   ]
  },
  {
   "cell_type": "code",
   "execution_count": null,
   "metadata": {},
   "outputs": [],
   "source": []
  }
 ],
 "metadata": {
  "kernelspec": {
   "display_name": "Python 3",
   "language": "python",
   "name": "python3"
  },
  "language_info": {
   "codemirror_mode": {
    "name": "ipython",
    "version": 3
   },
   "file_extension": ".py",
   "mimetype": "text/x-python",
   "name": "python",
   "nbconvert_exporter": "python",
   "pygments_lexer": "ipython3",
   "version": "3.7.9"
  }
 },
 "nbformat": 4,
 "nbformat_minor": 4
}
