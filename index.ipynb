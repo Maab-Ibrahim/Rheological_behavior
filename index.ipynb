{
 "cells": [
  {
   "cell_type": "markdown",
   "metadata": {},
   "source": [
    "# Loading data"
   ]
  },
  {
   "cell_type": "code",
   "execution_count": 112,
   "metadata": {},
   "outputs": [
    {
     "data": {
      "text/html": [
       "<div>\n",
       "<style scoped>\n",
       "    .dataframe tbody tr th:only-of-type {\n",
       "        vertical-align: middle;\n",
       "    }\n",
       "\n",
       "    .dataframe tbody tr th {\n",
       "        vertical-align: top;\n",
       "    }\n",
       "\n",
       "    .dataframe thead th {\n",
       "        text-align: right;\n",
       "    }\n",
       "</style>\n",
       "<table border=\"1\" class=\"dataframe\">\n",
       "  <thead>\n",
       "    <tr style=\"text-align: right;\">\n",
       "      <th></th>\n",
       "      <th>Foam_quality</th>\n",
       "      <th>Temperature</th>\n",
       "      <th>Foam_CO2</th>\n",
       "      <th>Foam_AOS</th>\n",
       "      <th>Foam_NaCl</th>\n",
       "      <th>Foam_SiO2</th>\n",
       "      <th>Foam_XG</th>\n",
       "      <th>Pa</th>\n",
       "      <th>shear_rate</th>\n",
       "      <th>viscosity_cp</th>\n",
       "    </tr>\n",
       "  </thead>\n",
       "  <tbody>\n",
       "    <tr>\n",
       "      <th>1</th>\n",
       "      <td>95</td>\n",
       "      <td>25</td>\n",
       "      <td>Yes</td>\n",
       "      <td>Yes</td>\n",
       "      <td>No</td>\n",
       "      <td>No</td>\n",
       "      <td>No</td>\n",
       "      <td>1.94</td>\n",
       "      <td>311</td>\n",
       "      <td>6.2</td>\n",
       "    </tr>\n",
       "    <tr>\n",
       "      <th>2</th>\n",
       "      <td>95</td>\n",
       "      <td>25</td>\n",
       "      <td>Yes</td>\n",
       "      <td>Yes</td>\n",
       "      <td>No</td>\n",
       "      <td>No</td>\n",
       "      <td>No</td>\n",
       "      <td>2.74</td>\n",
       "      <td>467</td>\n",
       "      <td>5.5</td>\n",
       "    </tr>\n",
       "    <tr>\n",
       "      <th>3</th>\n",
       "      <td>95</td>\n",
       "      <td>25</td>\n",
       "      <td>Yes</td>\n",
       "      <td>Yes</td>\n",
       "      <td>No</td>\n",
       "      <td>No</td>\n",
       "      <td>No</td>\n",
       "      <td>2.93</td>\n",
       "      <td>622</td>\n",
       "      <td>5.1</td>\n",
       "    </tr>\n",
       "    <tr>\n",
       "      <th>4</th>\n",
       "      <td>95</td>\n",
       "      <td>25</td>\n",
       "      <td>Yes</td>\n",
       "      <td>Yes</td>\n",
       "      <td>No</td>\n",
       "      <td>No</td>\n",
       "      <td>No</td>\n",
       "      <td>3.50</td>\n",
       "      <td>778</td>\n",
       "      <td>4.8</td>\n",
       "    </tr>\n",
       "    <tr>\n",
       "      <th>5</th>\n",
       "      <td>95</td>\n",
       "      <td>25</td>\n",
       "      <td>Yes</td>\n",
       "      <td>Yes</td>\n",
       "      <td>No</td>\n",
       "      <td>No</td>\n",
       "      <td>No</td>\n",
       "      <td>4.37</td>\n",
       "      <td>933</td>\n",
       "      <td>4.6</td>\n",
       "    </tr>\n",
       "    <tr>\n",
       "      <th>...</th>\n",
       "      <td>...</td>\n",
       "      <td>...</td>\n",
       "      <td>...</td>\n",
       "      <td>...</td>\n",
       "      <td>...</td>\n",
       "      <td>...</td>\n",
       "      <td>...</td>\n",
       "      <td>...</td>\n",
       "      <td>...</td>\n",
       "      <td>...</td>\n",
       "    </tr>\n",
       "    <tr>\n",
       "      <th>164</th>\n",
       "      <td>75</td>\n",
       "      <td>80</td>\n",
       "      <td>Yes</td>\n",
       "      <td>Yes</td>\n",
       "      <td>Yes</td>\n",
       "      <td>Yes</td>\n",
       "      <td>Yes</td>\n",
       "      <td>1.63</td>\n",
       "      <td>641.68</td>\n",
       "      <td>2.65</td>\n",
       "    </tr>\n",
       "    <tr>\n",
       "      <th>165</th>\n",
       "      <td>75</td>\n",
       "      <td>80</td>\n",
       "      <td>Yes</td>\n",
       "      <td>Yes</td>\n",
       "      <td>Yes</td>\n",
       "      <td>Yes</td>\n",
       "      <td>Yes</td>\n",
       "      <td>1.86</td>\n",
       "      <td>802.11</td>\n",
       "      <td>2.46</td>\n",
       "    </tr>\n",
       "    <tr>\n",
       "      <th>166</th>\n",
       "      <td>75</td>\n",
       "      <td>80</td>\n",
       "      <td>Yes</td>\n",
       "      <td>Yes</td>\n",
       "      <td>Yes</td>\n",
       "      <td>Yes</td>\n",
       "      <td>Yes</td>\n",
       "      <td>1.97</td>\n",
       "      <td>962.53</td>\n",
       "      <td>2.31</td>\n",
       "    </tr>\n",
       "    <tr>\n",
       "      <th>167</th>\n",
       "      <td>75</td>\n",
       "      <td>80</td>\n",
       "      <td>Yes</td>\n",
       "      <td>Yes</td>\n",
       "      <td>Yes</td>\n",
       "      <td>Yes</td>\n",
       "      <td>Yes</td>\n",
       "      <td>2.59</td>\n",
       "      <td>1122.95</td>\n",
       "      <td>2.19</td>\n",
       "    </tr>\n",
       "    <tr>\n",
       "      <th>168</th>\n",
       "      <td>75</td>\n",
       "      <td>80</td>\n",
       "      <td>Yes</td>\n",
       "      <td>Yes</td>\n",
       "      <td>Yes</td>\n",
       "      <td>Yes</td>\n",
       "      <td>Yes</td>\n",
       "      <td>3.03</td>\n",
       "      <td>1283.37</td>\n",
       "      <td>2.10</td>\n",
       "    </tr>\n",
       "  </tbody>\n",
       "</table>\n",
       "<p>168 rows × 10 columns</p>\n",
       "</div>"
      ],
      "text/plain": [
       "0   Foam_quality Temperature Foam_CO2 Foam_AOS Foam_NaCl Foam_SiO2 Foam_XG  \\\n",
       "1             95          25      Yes      Yes        No        No      No   \n",
       "2             95          25      Yes      Yes        No        No      No   \n",
       "3             95          25      Yes      Yes        No        No      No   \n",
       "4             95          25      Yes      Yes        No        No      No   \n",
       "5             95          25      Yes      Yes        No        No      No   \n",
       "..           ...         ...      ...      ...       ...       ...     ...   \n",
       "164           75          80      Yes      Yes       Yes       Yes     Yes   \n",
       "165           75          80      Yes      Yes       Yes       Yes     Yes   \n",
       "166           75          80      Yes      Yes       Yes       Yes     Yes   \n",
       "167           75          80      Yes      Yes       Yes       Yes     Yes   \n",
       "168           75          80      Yes      Yes       Yes       Yes     Yes   \n",
       "\n",
       "0      Pa shear_rate viscosity_cp  \n",
       "1    1.94        311          6.2  \n",
       "2    2.74        467          5.5  \n",
       "3    2.93        622          5.1  \n",
       "4    3.50        778          4.8  \n",
       "5    4.37        933          4.6  \n",
       "..    ...        ...          ...  \n",
       "164  1.63     641.68         2.65  \n",
       "165  1.86     802.11         2.46  \n",
       "166  1.97     962.53         2.31  \n",
       "167  2.59    1122.95         2.19  \n",
       "168  3.03    1283.37         2.10  \n",
       "\n",
       "[168 rows x 10 columns]"
      ]
     },
     "execution_count": 112,
     "metadata": {},
     "output_type": "execute_result"
    }
   ],
   "source": [
    "import pandas as pd\n",
    "import csv\n",
    "import chardet\n",
    "\n",
    "#LOAD the Data\n",
    "\n",
    "shear_df = pd.read_csv('Dataset/reading_data.csv',sep=\",\",header=None)\n",
    "\n",
    "new_header2 = shear_df.iloc[0] \n",
    "shear_df = shear_df[1:] \n",
    "shear_df.columns = new_header2 \n",
    "\n",
    "#shear_df = shear_df[shear_df['Foam_quality'] == '95']\n",
    "#shear_df = shear_df[shear_df['Temperature'] == '25']\n",
    "\n",
    "shear_df"
   ]
  },
  {
   "cell_type": "code",
   "execution_count": 113,
   "metadata": {},
   "outputs": [
    {
     "data": {
      "text/html": [
       "<div>\n",
       "<style scoped>\n",
       "    .dataframe tbody tr th:only-of-type {\n",
       "        vertical-align: middle;\n",
       "    }\n",
       "\n",
       "    .dataframe tbody tr th {\n",
       "        vertical-align: top;\n",
       "    }\n",
       "\n",
       "    .dataframe thead th {\n",
       "        text-align: right;\n",
       "    }\n",
       "</style>\n",
       "<table border=\"1\" class=\"dataframe\">\n",
       "  <thead>\n",
       "    <tr style=\"text-align: right;\">\n",
       "      <th></th>\n",
       "      <th>Foam_quality</th>\n",
       "      <th>Temperature</th>\n",
       "      <th>Foam_CO2</th>\n",
       "      <th>Foam_AOS</th>\n",
       "      <th>Foam_NaCl</th>\n",
       "      <th>Foam_SiO2</th>\n",
       "      <th>Foam_XG</th>\n",
       "      <th>Pa</th>\n",
       "      <th>shear_rate</th>\n",
       "      <th>viscosity_cp</th>\n",
       "    </tr>\n",
       "  </thead>\n",
       "  <tbody>\n",
       "    <tr>\n",
       "      <th>count</th>\n",
       "      <td>168</td>\n",
       "      <td>168</td>\n",
       "      <td>168</td>\n",
       "      <td>168</td>\n",
       "      <td>168</td>\n",
       "      <td>168</td>\n",
       "      <td>168</td>\n",
       "      <td>168</td>\n",
       "      <td>168</td>\n",
       "      <td>168</td>\n",
       "    </tr>\n",
       "    <tr>\n",
       "      <th>unique</th>\n",
       "      <td>2</td>\n",
       "      <td>3</td>\n",
       "      <td>1</td>\n",
       "      <td>1</td>\n",
       "      <td>2</td>\n",
       "      <td>2</td>\n",
       "      <td>2</td>\n",
       "      <td>127</td>\n",
       "      <td>168</td>\n",
       "      <td>132</td>\n",
       "    </tr>\n",
       "    <tr>\n",
       "      <th>top</th>\n",
       "      <td>95</td>\n",
       "      <td>80</td>\n",
       "      <td>Yes</td>\n",
       "      <td>Yes</td>\n",
       "      <td>Yes</td>\n",
       "      <td>Yes</td>\n",
       "      <td>No</td>\n",
       "      <td>1.49</td>\n",
       "      <td>842.38</td>\n",
       "      <td>1.91</td>\n",
       "    </tr>\n",
       "    <tr>\n",
       "      <th>freq</th>\n",
       "      <td>84</td>\n",
       "      <td>56</td>\n",
       "      <td>168</td>\n",
       "      <td>168</td>\n",
       "      <td>126</td>\n",
       "      <td>84</td>\n",
       "      <td>126</td>\n",
       "      <td>4</td>\n",
       "      <td>1</td>\n",
       "      <td>4</td>\n",
       "    </tr>\n",
       "  </tbody>\n",
       "</table>\n",
       "</div>"
      ],
      "text/plain": [
       "0      Foam_quality Temperature Foam_CO2 Foam_AOS Foam_NaCl Foam_SiO2 Foam_XG  \\\n",
       "count           168         168      168      168       168       168     168   \n",
       "unique            2           3        1        1         2         2       2   \n",
       "top              95          80      Yes      Yes       Yes       Yes      No   \n",
       "freq             84          56      168      168       126        84     126   \n",
       "\n",
       "0         Pa shear_rate viscosity_cp  \n",
       "count    168        168          168  \n",
       "unique   127        168          132  \n",
       "top     1.49     842.38         1.91  \n",
       "freq       4          1            4  "
      ]
     },
     "execution_count": 113,
     "metadata": {},
     "output_type": "execute_result"
    }
   ],
   "source": [
    "shear_df.describe()"
   ]
  },
  {
   "cell_type": "code",
   "execution_count": 114,
   "metadata": {},
   "outputs": [
    {
     "data": {
      "text/html": [
       "<div>\n",
       "<style scoped>\n",
       "    .dataframe tbody tr th:only-of-type {\n",
       "        vertical-align: middle;\n",
       "    }\n",
       "\n",
       "    .dataframe tbody tr th {\n",
       "        vertical-align: top;\n",
       "    }\n",
       "\n",
       "    .dataframe thead th {\n",
       "        text-align: right;\n",
       "    }\n",
       "</style>\n",
       "<table border=\"1\" class=\"dataframe\">\n",
       "  <thead>\n",
       "    <tr style=\"text-align: right;\">\n",
       "      <th></th>\n",
       "      <th>Foam_quality</th>\n",
       "      <th>Temperature</th>\n",
       "      <th>Foam_CO2</th>\n",
       "      <th>Foam_AOS</th>\n",
       "      <th>Foam_NaCl</th>\n",
       "      <th>Foam_SiO2</th>\n",
       "      <th>Foam_XG</th>\n",
       "      <th>Pa</th>\n",
       "      <th>shear_rate</th>\n",
       "      <th>viscosity_cp</th>\n",
       "      <th>CO2</th>\n",
       "      <th>AOS</th>\n",
       "      <th>NaCl</th>\n",
       "      <th>SiO2</th>\n",
       "      <th>XG</th>\n",
       "    </tr>\n",
       "  </thead>\n",
       "  <tbody>\n",
       "    <tr>\n",
       "      <th>1</th>\n",
       "      <td>95</td>\n",
       "      <td>25</td>\n",
       "      <td>Yes</td>\n",
       "      <td>Yes</td>\n",
       "      <td>No</td>\n",
       "      <td>No</td>\n",
       "      <td>No</td>\n",
       "      <td>1.94</td>\n",
       "      <td>311</td>\n",
       "      <td>6.2</td>\n",
       "      <td>1</td>\n",
       "      <td>1</td>\n",
       "      <td>0</td>\n",
       "      <td>0</td>\n",
       "      <td>0</td>\n",
       "    </tr>\n",
       "    <tr>\n",
       "      <th>2</th>\n",
       "      <td>95</td>\n",
       "      <td>25</td>\n",
       "      <td>Yes</td>\n",
       "      <td>Yes</td>\n",
       "      <td>No</td>\n",
       "      <td>No</td>\n",
       "      <td>No</td>\n",
       "      <td>2.74</td>\n",
       "      <td>467</td>\n",
       "      <td>5.5</td>\n",
       "      <td>1</td>\n",
       "      <td>1</td>\n",
       "      <td>0</td>\n",
       "      <td>0</td>\n",
       "      <td>0</td>\n",
       "    </tr>\n",
       "    <tr>\n",
       "      <th>3</th>\n",
       "      <td>95</td>\n",
       "      <td>25</td>\n",
       "      <td>Yes</td>\n",
       "      <td>Yes</td>\n",
       "      <td>No</td>\n",
       "      <td>No</td>\n",
       "      <td>No</td>\n",
       "      <td>2.93</td>\n",
       "      <td>622</td>\n",
       "      <td>5.1</td>\n",
       "      <td>1</td>\n",
       "      <td>1</td>\n",
       "      <td>0</td>\n",
       "      <td>0</td>\n",
       "      <td>0</td>\n",
       "    </tr>\n",
       "    <tr>\n",
       "      <th>4</th>\n",
       "      <td>95</td>\n",
       "      <td>25</td>\n",
       "      <td>Yes</td>\n",
       "      <td>Yes</td>\n",
       "      <td>No</td>\n",
       "      <td>No</td>\n",
       "      <td>No</td>\n",
       "      <td>3.50</td>\n",
       "      <td>778</td>\n",
       "      <td>4.8</td>\n",
       "      <td>1</td>\n",
       "      <td>1</td>\n",
       "      <td>0</td>\n",
       "      <td>0</td>\n",
       "      <td>0</td>\n",
       "    </tr>\n",
       "    <tr>\n",
       "      <th>5</th>\n",
       "      <td>95</td>\n",
       "      <td>25</td>\n",
       "      <td>Yes</td>\n",
       "      <td>Yes</td>\n",
       "      <td>No</td>\n",
       "      <td>No</td>\n",
       "      <td>No</td>\n",
       "      <td>4.37</td>\n",
       "      <td>933</td>\n",
       "      <td>4.6</td>\n",
       "      <td>1</td>\n",
       "      <td>1</td>\n",
       "      <td>0</td>\n",
       "      <td>0</td>\n",
       "      <td>0</td>\n",
       "    </tr>\n",
       "    <tr>\n",
       "      <th>...</th>\n",
       "      <td>...</td>\n",
       "      <td>...</td>\n",
       "      <td>...</td>\n",
       "      <td>...</td>\n",
       "      <td>...</td>\n",
       "      <td>...</td>\n",
       "      <td>...</td>\n",
       "      <td>...</td>\n",
       "      <td>...</td>\n",
       "      <td>...</td>\n",
       "      <td>...</td>\n",
       "      <td>...</td>\n",
       "      <td>...</td>\n",
       "      <td>...</td>\n",
       "      <td>...</td>\n",
       "    </tr>\n",
       "    <tr>\n",
       "      <th>164</th>\n",
       "      <td>75</td>\n",
       "      <td>80</td>\n",
       "      <td>Yes</td>\n",
       "      <td>Yes</td>\n",
       "      <td>Yes</td>\n",
       "      <td>Yes</td>\n",
       "      <td>Yes</td>\n",
       "      <td>1.63</td>\n",
       "      <td>641.68</td>\n",
       "      <td>2.65</td>\n",
       "      <td>1</td>\n",
       "      <td>1</td>\n",
       "      <td>1</td>\n",
       "      <td>1</td>\n",
       "      <td>1</td>\n",
       "    </tr>\n",
       "    <tr>\n",
       "      <th>165</th>\n",
       "      <td>75</td>\n",
       "      <td>80</td>\n",
       "      <td>Yes</td>\n",
       "      <td>Yes</td>\n",
       "      <td>Yes</td>\n",
       "      <td>Yes</td>\n",
       "      <td>Yes</td>\n",
       "      <td>1.86</td>\n",
       "      <td>802.11</td>\n",
       "      <td>2.46</td>\n",
       "      <td>1</td>\n",
       "      <td>1</td>\n",
       "      <td>1</td>\n",
       "      <td>1</td>\n",
       "      <td>1</td>\n",
       "    </tr>\n",
       "    <tr>\n",
       "      <th>166</th>\n",
       "      <td>75</td>\n",
       "      <td>80</td>\n",
       "      <td>Yes</td>\n",
       "      <td>Yes</td>\n",
       "      <td>Yes</td>\n",
       "      <td>Yes</td>\n",
       "      <td>Yes</td>\n",
       "      <td>1.97</td>\n",
       "      <td>962.53</td>\n",
       "      <td>2.31</td>\n",
       "      <td>1</td>\n",
       "      <td>1</td>\n",
       "      <td>1</td>\n",
       "      <td>1</td>\n",
       "      <td>1</td>\n",
       "    </tr>\n",
       "    <tr>\n",
       "      <th>167</th>\n",
       "      <td>75</td>\n",
       "      <td>80</td>\n",
       "      <td>Yes</td>\n",
       "      <td>Yes</td>\n",
       "      <td>Yes</td>\n",
       "      <td>Yes</td>\n",
       "      <td>Yes</td>\n",
       "      <td>2.59</td>\n",
       "      <td>1122.95</td>\n",
       "      <td>2.19</td>\n",
       "      <td>1</td>\n",
       "      <td>1</td>\n",
       "      <td>1</td>\n",
       "      <td>1</td>\n",
       "      <td>1</td>\n",
       "    </tr>\n",
       "    <tr>\n",
       "      <th>168</th>\n",
       "      <td>75</td>\n",
       "      <td>80</td>\n",
       "      <td>Yes</td>\n",
       "      <td>Yes</td>\n",
       "      <td>Yes</td>\n",
       "      <td>Yes</td>\n",
       "      <td>Yes</td>\n",
       "      <td>3.03</td>\n",
       "      <td>1283.37</td>\n",
       "      <td>2.10</td>\n",
       "      <td>1</td>\n",
       "      <td>1</td>\n",
       "      <td>1</td>\n",
       "      <td>1</td>\n",
       "      <td>1</td>\n",
       "    </tr>\n",
       "  </tbody>\n",
       "</table>\n",
       "<p>168 rows × 15 columns</p>\n",
       "</div>"
      ],
      "text/plain": [
       "0   Foam_quality Temperature Foam_CO2 Foam_AOS Foam_NaCl Foam_SiO2 Foam_XG  \\\n",
       "1             95          25      Yes      Yes        No        No      No   \n",
       "2             95          25      Yes      Yes        No        No      No   \n",
       "3             95          25      Yes      Yes        No        No      No   \n",
       "4             95          25      Yes      Yes        No        No      No   \n",
       "5             95          25      Yes      Yes        No        No      No   \n",
       "..           ...         ...      ...      ...       ...       ...     ...   \n",
       "164           75          80      Yes      Yes       Yes       Yes     Yes   \n",
       "165           75          80      Yes      Yes       Yes       Yes     Yes   \n",
       "166           75          80      Yes      Yes       Yes       Yes     Yes   \n",
       "167           75          80      Yes      Yes       Yes       Yes     Yes   \n",
       "168           75          80      Yes      Yes       Yes       Yes     Yes   \n",
       "\n",
       "0      Pa shear_rate viscosity_cp  CO2  AOS  NaCl  SiO2  XG  \n",
       "1    1.94        311          6.2    1    1     0     0   0  \n",
       "2    2.74        467          5.5    1    1     0     0   0  \n",
       "3    2.93        622          5.1    1    1     0     0   0  \n",
       "4    3.50        778          4.8    1    1     0     0   0  \n",
       "5    4.37        933          4.6    1    1     0     0   0  \n",
       "..    ...        ...          ...  ...  ...   ...   ...  ..  \n",
       "164  1.63     641.68         2.65    1    1     1     1   1  \n",
       "165  1.86     802.11         2.46    1    1     1     1   1  \n",
       "166  1.97     962.53         2.31    1    1     1     1   1  \n",
       "167  2.59    1122.95         2.19    1    1     1     1   1  \n",
       "168  3.03    1283.37         2.10    1    1     1     1   1  \n",
       "\n",
       "[168 rows x 15 columns]"
      ]
     },
     "execution_count": 114,
     "metadata": {},
     "output_type": "execute_result"
    }
   ],
   "source": [
    "#from sklearn.preprocessing import LabelEncoder\n",
    "#shear_df['Foam_CO2']=LabelEncoder().fit_transform(shear_df['Foam_CO2'])\n",
    "\n",
    "shear_df['CO2']=shear_df.Foam_CO2.map({'No':0, 'Yes':1})\n",
    "shear_df['AOS']=shear_df.Foam_AOS.map({'No':0, 'Yes':1})\n",
    "shear_df['NaCl']=shear_df.Foam_NaCl.map({'No':0, 'Yes':1})\n",
    "shear_df['SiO2']=shear_df.Foam_SiO2.map({'No':0, 'Yes':1})\n",
    "shear_df['XG']=shear_df.Foam_XG.map({'No':0, 'Yes':1})\n",
    "\n",
    "shear_df"
   ]
  },
  {
   "cell_type": "markdown",
   "metadata": {},
   "source": [
    "# Visualize shear_rate vs viscosity (cP) using scatter plot"
   ]
  },
  {
   "cell_type": "code",
   "execution_count": 115,
   "metadata": {},
   "outputs": [],
   "source": [
    "import numpy as np\n",
    "import matplotlib.pyplot as plt\n",
    "import seaborn as sns\n",
    "import matplotlib.patches as mpatches\n",
    "%matplotlib inline"
   ]
  },
  {
   "cell_type": "code",
   "execution_count": 116,
   "metadata": {},
   "outputs": [
    {
     "data": {
      "image/png": "[encoded data removed]",
      "text/plain": [
       "<Figure size 432x288 with 1 Axes>"
      ]
     },
     "metadata": {
      "needs_background": "light"
     },
     "output_type": "display_data"
    }
   ],
   "source": [
    "fig, ax = plt.subplots()\n",
    "\n",
    "\n",
    "shear_df.viscosity_cp=pd.to_numeric(shear_df.viscosity_cp)\n",
    "shear_df.shear_rate=pd.to_numeric(shear_df.shear_rate)\n",
    "colors = {'25':'red', '50':'blue', '80':'green'}\n",
    "scatter = ax.scatter(shear_df.shear_rate, shear_df.viscosity_cp,  c=shear_df.Temperature.apply(lambda x: colors[x]))\n",
    "\n",
    "\n",
    "# build the legend\n",
    "red_patch = mpatches.Patch(color='red', label='25C')\n",
    "blue_patch = mpatches.Patch(color='blue', label='50C')\n",
    "green_patch = mpatches.Patch(color='green', label='80C')\n",
    "\n",
    "# set up for handles declaration\n",
    "patches = [red_patch, blue_patch, green_patch]\n",
    "\n",
    "# alternative declaration for placing legend outside of plot\n",
    "legend = ax.legend(handles=patches,bbox_to_anchor=(1.05, 1), loc=2, borderaxespad=0.)\n",
    "\n",
    "plt.title('rheological behavior')\n",
    "plt.xlabel('Shear Rate')\n",
    "plt.ylabel('viscosity(cP)')\n",
    "\n",
    "plt.show()"
   ]
  },
  {
   "cell_type": "code",
   "execution_count": 117,
   "metadata": {},
   "outputs": [
    {
     "data": {
      "text/plain": [
       "<seaborn.axisgrid.FacetGrid at 0x1fa7f1dce48>"
      ]
     },
     "execution_count": 117,
     "metadata": {},
     "output_type": "execute_result"
    },
    {
     "data": {
      "image/png": "[encoded data removed]",
      "text/plain": [
       "<Figure size 1148.62x360 with 3 Axes>"
      ]
     },
     "metadata": {
      "needs_background": "light"
     },
     "output_type": "display_data"
    }
   ],
   "source": [
    "sns.lmplot(data=shear_df, x=\"shear_rate\", y=\"viscosity_cp\", col=\"Temperature\", hue=\"Foam_quality\" )"
   ]
  },
  {
   "cell_type": "code",
   "execution_count": 118,
   "metadata": {},
   "outputs": [],
   "source": [
    "#sns.scatterplot(data=shear_df, x=\"shear_rate\", y=\"viscosity_cp\", hue=\"Temperature\" )#shear_df.Temperature.tolist())"
   ]
  },
  {
   "cell_type": "code",
   "execution_count": 119,
   "metadata": {},
   "outputs": [
    {
     "name": "stderr",
     "output_type": "stream",
     "text": [
      "C:\\Users\\maab_\\Anaconda3\\lib\\site-packages\\seaborn\\axisgrid.py:2071: UserWarning: The `size` parameter has been renamed to `height`; please update your code.\n",
      "  warnings.warn(msg, UserWarning)\n"
     ]
    },
    {
     "data": {
      "text/plain": [
       "<seaborn.axisgrid.PairGrid at 0x1fa7ecc44c8>"
      ]
     },
     "execution_count": 119,
     "metadata": {},
     "output_type": "execute_result"
    },
    {
     "data": {
      "image/png": "[encoded data removed]",
      "text/plain": [
       "<Figure size 352.8x504 with 1 Axes>"
      ]
     },
     "metadata": {
      "needs_background": "light"
     },
     "output_type": "display_data"
    }
   ],
   "source": [
    "sns.pairplot(shear_df, x_vars='shear_rate', y_vars='viscosity_cp', size=7, aspect=0.7, kind='reg')"
   ]
  },
  {
   "cell_type": "markdown",
   "metadata": {},
   "source": [
    "# Estimate Model Coefficients"
   ]
  },
  {
   "cell_type": "code",
   "execution_count": 120,
   "metadata": {},
   "outputs": [
    {
     "data": {
      "text/plain": [
       "Intercept       1248.713351\n",
       "viscosity_cp    -155.958268\n",
       "dtype: float64"
      ]
     },
     "execution_count": 120,
     "metadata": {},
     "output_type": "execute_result"
    }
   ],
   "source": [
    "### STATSMODELS ###\n",
    "import statsmodels.formula.api as smf\n",
    "lm1 = smf.ols(formula='shear_rate ~ viscosity_cp', data=shear_df).fit()\n",
    "\n",
    "# print the coefficients\n",
    "lm1.params"
   ]
  },
  {
   "cell_type": "code",
   "execution_count": 121,
   "metadata": {},
   "outputs": [
    {
     "data": {
      "text/plain": [
       "<AxesSubplot:xlabel='shear_rate'>"
      ]
     },
     "execution_count": 121,
     "metadata": {},
     "output_type": "execute_result"
    },
    {
     "data": {
      "image/png": "[encoded data removed]",
      "text/plain": [
       "<Figure size 1080x720 with 1 Axes>"
      ]
     },
     "metadata": {
      "needs_background": "light"
     },
     "output_type": "display_data"
    }
   ],
   "source": [
    "import pandas as pd  \n",
    "import numpy as np  \n",
    "import matplotlib.pyplot as plt  \n",
    "import seaborn as seabornInstance \n",
    "from sklearn.model_selection import train_test_split \n",
    "from sklearn.linear_model import LinearRegression\n",
    "from sklearn import metrics\n",
    "%matplotlib inline\n",
    "\n",
    "plt.figure(figsize=(15,10))\n",
    "plt.tight_layout()\n",
    "seabornInstance.distplot(shear_df['shear_rate'])"
   ]
  },
  {
   "cell_type": "markdown",
   "metadata": {},
   "source": [
    "## Selecting features and target variable"
   ]
  },
  {
   "cell_type": "code",
   "execution_count": 122,
   "metadata": {},
   "outputs": [],
   "source": [
    "\n",
    "#feature_cols = ['Foam_quality','Temperature', 'CO2', 'AOS', 'NaCl', 'SiO2', 'XG','Pa', 'shear_rate']\n",
    "feature_cols = ['shear_rate']\n",
    "\n",
    "\n",
    "X = shear_df[feature_cols] # Features\n",
    "y = shear_df.viscosity_cp # Target variable"
   ]
  },
  {
   "cell_type": "markdown",
   "metadata": {},
   "source": [
    "# Data splitting"
   ]
  },
  {
   "cell_type": "code",
   "execution_count": 123,
   "metadata": {},
   "outputs": [],
   "source": [
    "from sklearn.model_selection import train_test_split\n",
    "\n",
    "X_train,X_test,y_train,y_test=train_test_split(X,y,test_size=0.2,random_state=0)\n"
   ]
  },
  {
   "cell_type": "markdown",
   "metadata": {},
   "source": [
    "## Fit data to a Linear Regression model\n",
    "- regression technique will find a linear relationship between x (shear_rate) and y(cP)\n",
    "\n",
    "- linear regression algorithm fits multiple lines on the data points and returns the line that results in the least error"
   ]
  },
  {
   "cell_type": "code",
   "execution_count": 124,
   "metadata": {},
   "outputs": [
    {
     "data": {
      "text/plain": [
       "array([-0.03067241,  0.19025848,  0.35525913,  0.15322064,  0.31809081])"
      ]
     },
     "execution_count": 124,
     "metadata": {},
     "output_type": "execute_result"
    }
   ],
   "source": [
    "from sklearn.linear_model import LinearRegression\n",
    "from sklearn.model_selection import cross_val_score\n",
    "\n",
    "# instantiate the model (using the default parameters)\n",
    "logreg = LinearRegression()\n",
    "scores = cross_val_score(logreg, X_train, y_train, scoring='r2', cv=5)\n",
    "scores "
   ]
  },
  {
   "cell_type": "code",
   "execution_count": 125,
   "metadata": {},
   "outputs": [
    {
     "data": {
      "text/plain": [
       "LinearRegression()"
      ]
     },
     "execution_count": 125,
     "metadata": {},
     "output_type": "execute_result"
    }
   ],
   "source": [
    "# fit the model with data\n",
    "logreg.fit(X_train,y_train)"
   ]
  },
  {
   "cell_type": "code",
   "execution_count": 126,
   "metadata": {},
   "outputs": [
    {
     "name": "stderr",
     "output_type": "stream",
     "text": [
      "C:\\Users\\maab_\\Anaconda3\\lib\\site-packages\\sklearn\\model_selection\\_split.py:297: FutureWarning: Setting a random_state has no effect since shuffle is False. This will raise an error in 0.24. You should leave random_state to its default (None), or set shuffle=True.\n",
      "  FutureWarning\n"
     ]
    },
    {
     "data": {
      "image/png": "[encoded data removed]",
      "text/plain": [
       "<Figure size 432x288 with 1 Axes>"
      ]
     },
     "metadata": {
      "needs_background": "light"
     },
     "output_type": "display_data"
    },
    {
     "data": {
      "text/plain": [
       "<AxesSubplot:title={'center':'Cross Validation Scores for Ridge'}, xlabel='Training Instances', ylabel='Score'>"
      ]
     },
     "execution_count": 126,
     "metadata": {},
     "output_type": "execute_result"
    }
   ],
   "source": [
    "from sklearn.linear_model import Ridge\n",
    "from sklearn.model_selection import KFold\n",
    "\n",
    "from yellowbrick.datasets import load_energy\n",
    "from yellowbrick.model_selection import CVScores\n",
    "\n",
    "# Instantiate the regression model and visualizer\n",
    "cv = KFold(n_splits=12, random_state=42)\n",
    "\n",
    "model = Ridge()\n",
    "visualizer = CVScores(model, cv=cv, scoring='r2')\n",
    "\n",
    "visualizer.fit(X_train, y_train)        # Fit the data to the visualizer\n",
    "visualizer.show()    "
   ]
  },
  {
   "cell_type": "markdown",
   "metadata": {},
   "source": [
    "# Model Coefficients ( β1 )\n",
    "Y= mx + b. \n",
    "(b is the intercept and m is the slope of the line)"
   ]
  },
  {
   "cell_type": "markdown",
   "metadata": {},
   "source": [
    "*Interpretation\n",
    "- Intercept: for every one unit of change in shear rate, the change in the cP is about 0.002%."
   ]
  },
  {
   "cell_type": "code",
   "execution_count": 127,
   "metadata": {},
   "outputs": [
    {
     "name": "stdout",
     "output_type": "stream",
     "text": [
      "3.9432044408108706\n",
      "[-0.00154647]\n"
     ]
    }
   ],
   "source": [
    "#To retrieve the intercept:\n",
    "print(logreg.intercept_)\n",
    "#For retrieving the slope:\n",
    "print(logreg.coef_)"
   ]
  },
  {
   "cell_type": "markdown",
   "metadata": {},
   "source": [
    "# Predict (cP) using the Model (y=β0+β1x)"
   ]
  },
  {
   "cell_type": "code",
   "execution_count": 128,
   "metadata": {},
   "outputs": [
    {
     "data": {
      "text/html": [
       "<div>\n",
       "<style scoped>\n",
       "    .dataframe tbody tr th:only-of-type {\n",
       "        vertical-align: middle;\n",
       "    }\n",
       "\n",
       "    .dataframe tbody tr th {\n",
       "        vertical-align: top;\n",
       "    }\n",
       "\n",
       "    .dataframe thead th {\n",
       "        text-align: right;\n",
       "    }\n",
       "</style>\n",
       "<table border=\"1\" class=\"dataframe\">\n",
       "  <thead>\n",
       "    <tr style=\"text-align: right;\">\n",
       "      <th></th>\n",
       "      <th>Actual</th>\n",
       "      <th>Predicted</th>\n",
       "    </tr>\n",
       "  </thead>\n",
       "  <tbody>\n",
       "    <tr>\n",
       "      <th>152</th>\n",
       "      <td>1.05</td>\n",
       "      <td>2.280440</td>\n",
       "    </tr>\n",
       "    <tr>\n",
       "      <th>57</th>\n",
       "      <td>3.03</td>\n",
       "      <td>3.448628</td>\n",
       "    </tr>\n",
       "    <tr>\n",
       "      <th>124</th>\n",
       "      <td>1.14</td>\n",
       "      <td>2.252139</td>\n",
       "    </tr>\n",
       "    <tr>\n",
       "      <th>61</th>\n",
       "      <td>2.10</td>\n",
       "      <td>2.459490</td>\n",
       "    </tr>\n",
       "    <tr>\n",
       "      <th>101</th>\n",
       "      <td>2.42</td>\n",
       "      <td>2.901038</td>\n",
       "    </tr>\n",
       "    <tr>\n",
       "      <th>52</th>\n",
       "      <td>3.52</td>\n",
       "      <td>2.897327</td>\n",
       "    </tr>\n",
       "    <tr>\n",
       "      <th>8</th>\n",
       "      <td>3.05</td>\n",
       "      <td>3.423451</td>\n",
       "    </tr>\n",
       "    <tr>\n",
       "      <th>6</th>\n",
       "      <td>4.40</td>\n",
       "      <td>2.259098</td>\n",
       "    </tr>\n",
       "    <tr>\n",
       "      <th>87</th>\n",
       "      <td>3.53</td>\n",
       "      <td>2.947386</td>\n",
       "    </tr>\n",
       "    <tr>\n",
       "      <th>136</th>\n",
       "      <td>3.03</td>\n",
       "      <td>2.966361</td>\n",
       "    </tr>\n",
       "    <tr>\n",
       "      <th>55</th>\n",
       "      <td>2.77</td>\n",
       "      <td>2.112911</td>\n",
       "    </tr>\n",
       "    <tr>\n",
       "      <th>95</th>\n",
       "      <td>1.39</td>\n",
       "      <td>2.503271</td>\n",
       "    </tr>\n",
       "    <tr>\n",
       "      <th>158</th>\n",
       "      <td>1.74</td>\n",
       "      <td>2.689543</td>\n",
       "    </tr>\n",
       "    <tr>\n",
       "      <th>102</th>\n",
       "      <td>2.20</td>\n",
       "      <td>2.640489</td>\n",
       "    </tr>\n",
       "    <tr>\n",
       "      <th>74</th>\n",
       "      <td>2.16</td>\n",
       "      <td>2.456289</td>\n",
       "    </tr>\n",
       "    <tr>\n",
       "      <th>46</th>\n",
       "      <td>2.62</td>\n",
       "      <td>2.568594</td>\n",
       "    </tr>\n",
       "    <tr>\n",
       "      <th>75</th>\n",
       "      <td>1.94</td>\n",
       "      <td>2.158918</td>\n",
       "    </tr>\n",
       "    <tr>\n",
       "      <th>98</th>\n",
       "      <td>1.07</td>\n",
       "      <td>1.639320</td>\n",
       "    </tr>\n",
       "    <tr>\n",
       "      <th>140</th>\n",
       "      <td>2.45</td>\n",
       "      <td>1.989533</td>\n",
       "    </tr>\n",
       "    <tr>\n",
       "      <th>97</th>\n",
       "      <td>1.15</td>\n",
       "      <td>1.927303</td>\n",
       "    </tr>\n",
       "    <tr>\n",
       "      <th>108</th>\n",
       "      <td>4.05</td>\n",
       "      <td>2.982908</td>\n",
       "    </tr>\n",
       "    <tr>\n",
       "      <th>107</th>\n",
       "      <td>4.38</td>\n",
       "      <td>3.222982</td>\n",
       "    </tr>\n",
       "    <tr>\n",
       "      <th>151</th>\n",
       "      <td>1.15</td>\n",
       "      <td>2.557567</td>\n",
       "    </tr>\n",
       "    <tr>\n",
       "      <th>167</th>\n",
       "      <td>2.19</td>\n",
       "      <td>2.206596</td>\n",
       "    </tr>\n",
       "    <tr>\n",
       "      <th>56</th>\n",
       "      <td>2.61</td>\n",
       "      <td>1.851449</td>\n",
       "    </tr>\n",
       "    <tr>\n",
       "      <th>153</th>\n",
       "      <td>0.97</td>\n",
       "      <td>2.003312</td>\n",
       "    </tr>\n",
       "    <tr>\n",
       "      <th>27</th>\n",
       "      <td>3.78</td>\n",
       "      <td>2.120689</td>\n",
       "    </tr>\n",
       "    <tr>\n",
       "      <th>144</th>\n",
       "      <td>1.97</td>\n",
       "      <td>2.635772</td>\n",
       "    </tr>\n",
       "    <tr>\n",
       "      <th>156</th>\n",
       "      <td>2.09</td>\n",
       "      <td>3.191017</td>\n",
       "    </tr>\n",
       "    <tr>\n",
       "      <th>34</th>\n",
       "      <td>2.68</td>\n",
       "      <td>2.299121</td>\n",
       "    </tr>\n",
       "    <tr>\n",
       "      <th>9</th>\n",
       "      <td>2.57</td>\n",
       "      <td>3.163567</td>\n",
       "    </tr>\n",
       "    <tr>\n",
       "      <th>109</th>\n",
       "      <td>3.82</td>\n",
       "      <td>2.742834</td>\n",
       "    </tr>\n",
       "    <tr>\n",
       "      <th>123</th>\n",
       "      <td>1.25</td>\n",
       "      <td>2.533984</td>\n",
       "    </tr>\n",
       "    <tr>\n",
       "      <th>38</th>\n",
       "      <td>2.02</td>\n",
       "      <td>2.867171</td>\n",
       "    </tr>\n",
       "  </tbody>\n",
       "</table>\n",
       "</div>"
      ],
      "text/plain": [
       "     Actual  Predicted\n",
       "152    1.05   2.280440\n",
       "57     3.03   3.448628\n",
       "124    1.14   2.252139\n",
       "61     2.10   2.459490\n",
       "101    2.42   2.901038\n",
       "52     3.52   2.897327\n",
       "8      3.05   3.423451\n",
       "6      4.40   2.259098\n",
       "87     3.53   2.947386\n",
       "136    3.03   2.966361\n",
       "55     2.77   2.112911\n",
       "95     1.39   2.503271\n",
       "158    1.74   2.689543\n",
       "102    2.20   2.640489\n",
       "74     2.16   2.456289\n",
       "46     2.62   2.568594\n",
       "75     1.94   2.158918\n",
       "98     1.07   1.639320\n",
       "140    2.45   1.989533\n",
       "97     1.15   1.927303\n",
       "108    4.05   2.982908\n",
       "107    4.38   3.222982\n",
       "151    1.15   2.557567\n",
       "167    2.19   2.206596\n",
       "56     2.61   1.851449\n",
       "153    0.97   2.003312\n",
       "27     3.78   2.120689\n",
       "144    1.97   2.635772\n",
       "156    2.09   3.191017\n",
       "34     2.68   2.299121\n",
       "9      2.57   3.163567\n",
       "109    3.82   2.742834\n",
       "123    1.25   2.533984\n",
       "38     2.02   2.867171"
      ]
     },
     "execution_count": 128,
     "metadata": {},
     "output_type": "execute_result"
    }
   ],
   "source": [
    "\n",
    "# try the testset\n",
    "y_pred=logreg.predict(X_test)\n",
    "\n",
    "df = pd.DataFrame({'Actual': y_test, 'Predicted': y_pred})\n",
    "df"
   ]
  },
  {
   "cell_type": "code",
   "execution_count": 129,
   "metadata": {},
   "outputs": [
    {
     "data": {
      "image/png": "[encoded data removed]",
      "text/plain": [
       "<Figure size 720x432 with 1 Axes>"
      ]
     },
     "metadata": {
      "needs_background": "light"
     },
     "output_type": "display_data"
    }
   ],
   "source": [
    "# plotting the regression line on the scatter plot\n",
    "plt.figure(figsize=(10,6))\n",
    "plt.scatter(X_test, y_test)\n",
    "plt.plot(X_test, y_pred, c='r')\n",
    "plt.title('Scatter plot and a Simple Linear Regression Model')\n",
    "plt.ylabel(\"y\")\n",
    "plt.xlabel(\"bmi\")\n",
    "plt.show()"
   ]
  },
  {
   "cell_type": "code",
   "execution_count": 130,
   "metadata": {},
   "outputs": [
    {
     "data": {
      "image/png": "[encoded data removed]",
      "text/plain": [
       "<Figure size 432x288 with 1 Axes>"
      ]
     },
     "metadata": {
      "needs_background": "light"
     },
     "output_type": "display_data"
    }
   ],
   "source": [
    "plt.scatter(X_test, y_test,  color='gray')\n",
    "plt.plot(X_test, y_pred, color='red', linewidth=2)\n",
    "plt.show()"
   ]
  },
  {
   "cell_type": "code",
   "execution_count": 131,
   "metadata": {},
   "outputs": [
    {
     "name": "stdout",
     "output_type": "stream",
     "text": [
      "0.7637679432549952\n",
      "0.8035641736259067\n",
      "0.8964174103763863\n"
     ]
    }
   ],
   "source": [
    "from sklearn import metrics\n",
    "\n",
    "# calculate MAE, MSE, RMSE\n",
    "#MAE\n",
    "print(metrics.mean_absolute_error(y_test, y_pred))\n",
    "#MSE\n",
    "print(metrics.mean_squared_error(y_test, y_pred))\n",
    "# RMSE\n",
    "print(np.sqrt(metrics.mean_squared_error(y_test, y_pred)))"
   ]
  },
  {
   "cell_type": "markdown",
   "metadata": {},
   "source": [
    "# Confidence in the Model"
   ]
  },
  {
   "cell_type": "code",
   "execution_count": 132,
   "metadata": {},
   "outputs": [
    {
     "data": {
      "text/html": [
       "<div>\n",
       "<style scoped>\n",
       "    .dataframe tbody tr th:only-of-type {\n",
       "        vertical-align: middle;\n",
       "    }\n",
       "\n",
       "    .dataframe tbody tr th {\n",
       "        vertical-align: top;\n",
       "    }\n",
       "\n",
       "    .dataframe thead th {\n",
       "        text-align: right;\n",
       "    }\n",
       "</style>\n",
       "<table border=\"1\" class=\"dataframe\">\n",
       "  <thead>\n",
       "    <tr style=\"text-align: right;\">\n",
       "      <th></th>\n",
       "      <th>0</th>\n",
       "      <th>1</th>\n",
       "    </tr>\n",
       "  </thead>\n",
       "  <tbody>\n",
       "    <tr>\n",
       "      <th>Intercept</th>\n",
       "      <td>1128.620544</td>\n",
       "      <td>1368.806158</td>\n",
       "    </tr>\n",
       "    <tr>\n",
       "      <th>viscosity_cp</th>\n",
       "      <td>-198.438581</td>\n",
       "      <td>-113.477955</td>\n",
       "    </tr>\n",
       "  </tbody>\n",
       "</table>\n",
       "</div>"
      ],
      "text/plain": [
       "                        0            1\n",
       "Intercept     1128.620544  1368.806158\n",
       "viscosity_cp  -198.438581  -113.477955"
      ]
     },
     "execution_count": 132,
     "metadata": {},
     "output_type": "execute_result"
    }
   ],
   "source": [
    "# print the confidence intervals for the model coefficients\n",
    "lm1.conf_int()"
   ]
  },
  {
   "cell_type": "markdown",
   "metadata": {},
   "source": [
    "# Hypothesis Testing and p-values"
   ]
  },
  {
   "cell_type": "code",
   "execution_count": 133,
   "metadata": {},
   "outputs": [
    {
     "data": {
      "text/plain": [
       "Intercept       2.027156e-47\n",
       "viscosity_cp    1.516264e-11\n",
       "dtype: float64"
      ]
     },
     "execution_count": 133,
     "metadata": {},
     "output_type": "execute_result"
    }
   ],
   "source": [
    "lm1.pvalues"
   ]
  },
  {
   "cell_type": "code",
   "execution_count": 134,
   "metadata": {},
   "outputs": [
    {
     "data": {
      "text/plain": [
       "0.240414929062029"
      ]
     },
     "execution_count": 134,
     "metadata": {},
     "output_type": "execute_result"
    }
   ],
   "source": [
    "### STATSMODELS ###\n",
    "\n",
    "# print the R-squared value for the model\n",
    "lm1.rsquared"
   ]
  },
  {
   "cell_type": "code",
   "execution_count": 135,
   "metadata": {},
   "outputs": [
    {
     "data": {
      "text/plain": [
       "0.23975832034635547"
      ]
     },
     "execution_count": 135,
     "metadata": {},
     "output_type": "execute_result"
    }
   ],
   "source": [
    "### SCIKIT-LEARN ###\n",
    "\n",
    "# print the R-squared value for the model\n",
    "logreg.score(X, y)"
   ]
  },
  {
   "cell_type": "code",
   "execution_count": 136,
   "metadata": {},
   "outputs": [
    {
     "data": {
      "text/plain": [
       "Intercept             1.147164\n",
       "Foam_quality[T.95]    0.259316\n",
       "Temperature[T.50]    -0.422641\n",
       "Temperature[T.80]    -0.505132\n",
       "Pa[T.0.39]           -0.244432\n",
       "                        ...   \n",
       "CO2                   1.147164\n",
       "AOS                   1.147164\n",
       "NaCl                 -0.232355\n",
       "XG                    0.568127\n",
       "shear_rate           -0.002662\n",
       "Length: 135, dtype: float64"
      ]
     },
     "execution_count": 136,
     "metadata": {},
     "output_type": "execute_result"
    }
   ],
   "source": [
    "### STATSMODELS ###\n",
    "\n",
    "# create a fitted model with all 9 features\n",
    "lm1 = smf.ols(formula='viscosity_cp ~ Foam_quality + Temperature + CO2 + AOS + NaCl + XG + Pa + shear_rate', data=shear_df).fit()\n",
    "\n",
    "# print the coefficients\n",
    "lm1.params"
   ]
  },
  {
   "cell_type": "code",
   "execution_count": 137,
   "metadata": {},
   "outputs": [
    {
     "data": {
      "text/plain": [
       "[('shear_rate', -0.0015464701573784229)]"
      ]
     },
     "execution_count": 137,
     "metadata": {},
     "output_type": "execute_result"
    }
   ],
   "source": [
    "# pair the feature names with the coefficients\n",
    "list(zip(feature_cols, logreg.coef_))"
   ]
  },
  {
   "cell_type": "code",
   "execution_count": 138,
   "metadata": {},
   "outputs": [
    {
     "data": {
      "text/html": [
       "<table class=\"simpletable\">\n",
       "<caption>OLS Regression Results</caption>\n",
       "<tr>\n",
       "  <th>Dep. Variable:</th>      <td>viscosity_cp</td>   <th>  R-squared:         </th> <td>   0.964</td>\n",
       "</tr>\n",
       "<tr>\n",
       "  <th>Model:</th>                   <td>OLS</td>       <th>  Adj. R-squared:    </th> <td>   0.829</td>\n",
       "</tr>\n",
       "<tr>\n",
       "  <th>Method:</th>             <td>Least Squares</td>  <th>  F-statistic:       </th> <td>   7.154</td>\n",
       "</tr>\n",
       "<tr>\n",
       "  <th>Date:</th>             <td>Mon, 14 Sep 2020</td> <th>  Prob (F-statistic):</th> <td>1.81e-09</td>\n",
       "</tr>\n",
       "<tr>\n",
       "  <th>Time:</th>                 <td>09:36:31</td>     <th>  Log-Likelihood:    </th> <td>  29.627</td>\n",
       "</tr>\n",
       "<tr>\n",
       "  <th>No. Observations:</th>      <td>   168</td>      <th>  AIC:               </th> <td>   206.7</td>\n",
       "</tr>\n",
       "<tr>\n",
       "  <th>Df Residuals:</th>          <td>    35</td>      <th>  BIC:               </th> <td>   622.2</td>\n",
       "</tr>\n",
       "<tr>\n",
       "  <th>Df Model:</th>              <td>   132</td>      <th>                     </th>     <td> </td>   \n",
       "</tr>\n",
       "<tr>\n",
       "  <th>Covariance Type:</th>      <td>nonrobust</td>    <th>                     </th>     <td> </td>   \n",
       "</tr>\n",
       "</table>\n",
       "<table class=\"simpletable\">\n",
       "<tr>\n",
       "           <td></td>             <th>coef</th>     <th>std err</th>      <th>t</th>      <th>P>|t|</th>  <th>[0.025</th>    <th>0.975]</th>  \n",
       "</tr>\n",
       "<tr>\n",
       "  <th>Intercept</th>          <td>    1.1472</td> <td>    0.192</td> <td>    5.985</td> <td> 0.000</td> <td>    0.758</td> <td>    1.536</td>\n",
       "</tr>\n",
       "<tr>\n",
       "  <th>Foam_quality[T.95]</th> <td>    0.2593</td> <td>    0.161</td> <td>    1.607</td> <td> 0.117</td> <td>   -0.068</td> <td>    0.587</td>\n",
       "</tr>\n",
       "<tr>\n",
       "  <th>Temperature[T.50]</th>  <td>   -0.4226</td> <td>    0.184</td> <td>   -2.299</td> <td> 0.028</td> <td>   -0.796</td> <td>   -0.050</td>\n",
       "</tr>\n",
       "<tr>\n",
       "  <th>Temperature[T.80]</th>  <td>   -0.5051</td> <td>    0.254</td> <td>   -1.992</td> <td> 0.054</td> <td>   -1.020</td> <td>    0.010</td>\n",
       "</tr>\n",
       "<tr>\n",
       "  <th>Pa[T.0.39]</th>         <td>   -0.2444</td> <td>    0.631</td> <td>   -0.387</td> <td> 0.701</td> <td>   -1.526</td> <td>    1.037</td>\n",
       "</tr>\n",
       "<tr>\n",
       "  <th>Pa[T.0.75]</th>         <td>    0.0802</td> <td>    0.655</td> <td>    0.122</td> <td> 0.903</td> <td>   -1.249</td> <td>    1.409</td>\n",
       "</tr>\n",
       "<tr>\n",
       "  <th>Pa[T.0.79]</th>         <td>    0.6904</td> <td>    0.656</td> <td>    1.053</td> <td> 0.300</td> <td>   -0.641</td> <td>    2.022</td>\n",
       "</tr>\n",
       "<tr>\n",
       "  <th>Pa[T.0.80]</th>         <td>    0.2173</td> <td>    0.646</td> <td>    0.337</td> <td> 0.738</td> <td>   -1.093</td> <td>    1.528</td>\n",
       "</tr>\n",
       "<tr>\n",
       "  <th>Pa[T.0.83]</th>         <td>    0.5793</td> <td>    0.657</td> <td>    0.881</td> <td> 0.384</td> <td>   -0.755</td> <td>    1.914</td>\n",
       "</tr>\n",
       "<tr>\n",
       "  <th>Pa[T.0.85]</th>         <td>    0.2239</td> <td>    0.670</td> <td>    0.334</td> <td> 0.740</td> <td>   -1.137</td> <td>    1.585</td>\n",
       "</tr>\n",
       "<tr>\n",
       "  <th>Pa[T.0.86]</th>         <td>    0.3091</td> <td>    0.672</td> <td>    0.460</td> <td> 0.648</td> <td>   -1.055</td> <td>    1.673</td>\n",
       "</tr>\n",
       "<tr>\n",
       "  <th>Pa[T.0.92]</th>         <td>    0.4943</td> <td>    0.643</td> <td>    0.769</td> <td> 0.447</td> <td>   -0.811</td> <td>    1.800</td>\n",
       "</tr>\n",
       "<tr>\n",
       "  <th>Pa[T.0.99]</th>         <td>    0.8393</td> <td>    0.671</td> <td>    1.251</td> <td> 0.219</td> <td>   -0.523</td> <td>    2.201</td>\n",
       "</tr>\n",
       "<tr>\n",
       "  <th>Pa[T.1.01]</th>         <td>    0.5810</td> <td>    0.583</td> <td>    0.997</td> <td> 0.326</td> <td>   -0.602</td> <td>    1.764</td>\n",
       "</tr>\n",
       "<tr>\n",
       "  <th>Pa[T.1.02]</th>         <td>    0.4236</td> <td>    0.534</td> <td>    0.793</td> <td> 0.433</td> <td>   -0.661</td> <td>    1.508</td>\n",
       "</tr>\n",
       "<tr>\n",
       "  <th>Pa[T.1.03]</th>         <td>    0.8314</td> <td>    0.648</td> <td>    1.283</td> <td> 0.208</td> <td>   -0.484</td> <td>    2.147</td>\n",
       "</tr>\n",
       "<tr>\n",
       "  <th>Pa[T.1.04]</th>         <td>    0.8024</td> <td>    0.619</td> <td>    1.296</td> <td> 0.203</td> <td>   -0.454</td> <td>    2.059</td>\n",
       "</tr>\n",
       "<tr>\n",
       "  <th>Pa[T.1.05]</th>         <td>    0.6809</td> <td>    0.647</td> <td>    1.052</td> <td> 0.300</td> <td>   -0.633</td> <td>    1.995</td>\n",
       "</tr>\n",
       "<tr>\n",
       "  <th>Pa[T.1.08]</th>         <td>    0.1182</td> <td>    0.680</td> <td>    0.174</td> <td> 0.863</td> <td>   -1.263</td> <td>    1.500</td>\n",
       "</tr>\n",
       "<tr>\n",
       "  <th>Pa[T.1.12]</th>         <td>    1.2085</td> <td>    0.660</td> <td>    1.832</td> <td> 0.075</td> <td>   -0.130</td> <td>    2.548</td>\n",
       "</tr>\n",
       "<tr>\n",
       "  <th>Pa[T.1.14]</th>         <td>    0.8621</td> <td>    0.671</td> <td>    1.285</td> <td> 0.207</td> <td>   -0.500</td> <td>    2.224</td>\n",
       "</tr>\n",
       "<tr>\n",
       "  <th>Pa[T.1.15]</th>         <td>    0.6168</td> <td>    0.612</td> <td>    1.007</td> <td> 0.321</td> <td>   -0.626</td> <td>    1.860</td>\n",
       "</tr>\n",
       "<tr>\n",
       "  <th>Pa[T.1.16]</th>         <td>    0.8478</td> <td>    0.547</td> <td>    1.551</td> <td> 0.130</td> <td>   -0.262</td> <td>    1.958</td>\n",
       "</tr>\n",
       "<tr>\n",
       "  <th>Pa[T.1.18]</th>         <td>    0.6189</td> <td>    0.639</td> <td>    0.969</td> <td> 0.339</td> <td>   -0.678</td> <td>    1.916</td>\n",
       "</tr>\n",
       "<tr>\n",
       "  <th>Pa[T.1.21]</th>         <td>    0.9026</td> <td>    0.643</td> <td>    1.403</td> <td> 0.169</td> <td>   -0.403</td> <td>    2.208</td>\n",
       "</tr>\n",
       "<tr>\n",
       "  <th>Pa[T.1.22]</th>         <td>    1.6056</td> <td>    0.678</td> <td>    2.369</td> <td> 0.023</td> <td>    0.230</td> <td>    2.981</td>\n",
       "</tr>\n",
       "<tr>\n",
       "  <th>Pa[T.1.23]</th>         <td>    0.9295</td> <td>    0.589</td> <td>    1.579</td> <td> 0.123</td> <td>   -0.266</td> <td>    2.125</td>\n",
       "</tr>\n",
       "<tr>\n",
       "  <th>Pa[T.1.25]</th>         <td>    1.2462</td> <td>    0.725</td> <td>    1.718</td> <td> 0.095</td> <td>   -0.226</td> <td>    2.719</td>\n",
       "</tr>\n",
       "<tr>\n",
       "  <th>Pa[T.1.27]</th>         <td>    1.0550</td> <td>    0.676</td> <td>    1.560</td> <td> 0.128</td> <td>   -0.318</td> <td>    2.428</td>\n",
       "</tr>\n",
       "<tr>\n",
       "  <th>Pa[T.1.28]</th>         <td>    0.4437</td> <td>    0.682</td> <td>    0.651</td> <td> 0.519</td> <td>   -0.940</td> <td>    1.828</td>\n",
       "</tr>\n",
       "<tr>\n",
       "  <th>Pa[T.1.29]</th>         <td>    1.3347</td> <td>    0.586</td> <td>    2.279</td> <td> 0.029</td> <td>    0.146</td> <td>    2.524</td>\n",
       "</tr>\n",
       "<tr>\n",
       "  <th>Pa[T.1.30]</th>         <td>    1.6599</td> <td>    0.743</td> <td>    2.234</td> <td> 0.032</td> <td>    0.152</td> <td>    3.168</td>\n",
       "</tr>\n",
       "<tr>\n",
       "  <th>Pa[T.1.33]</th>         <td>    0.9633</td> <td>    0.651</td> <td>    1.479</td> <td> 0.148</td> <td>   -0.359</td> <td>    2.286</td>\n",
       "</tr>\n",
       "<tr>\n",
       "  <th>Pa[T.1.35]</th>         <td>    1.4606</td> <td>    0.667</td> <td>    2.191</td> <td> 0.035</td> <td>    0.107</td> <td>    2.814</td>\n",
       "</tr>\n",
       "<tr>\n",
       "  <th>Pa[T.1.37]</th>         <td>    0.8665</td> <td>    0.678</td> <td>    1.278</td> <td> 0.210</td> <td>   -0.510</td> <td>    2.243</td>\n",
       "</tr>\n",
       "<tr>\n",
       "  <th>Pa[T.1.38]</th>         <td>    1.0667</td> <td>    0.577</td> <td>    1.850</td> <td> 0.073</td> <td>   -0.104</td> <td>    2.237</td>\n",
       "</tr>\n",
       "<tr>\n",
       "  <th>Pa[T.1.40]</th>         <td>    1.7656</td> <td>    0.573</td> <td>    3.082</td> <td> 0.004</td> <td>    0.603</td> <td>    2.929</td>\n",
       "</tr>\n",
       "<tr>\n",
       "  <th>Pa[T.1.42]</th>         <td>    0.8266</td> <td>    0.680</td> <td>    1.216</td> <td> 0.232</td> <td>   -0.554</td> <td>    2.207</td>\n",
       "</tr>\n",
       "<tr>\n",
       "  <th>Pa[T.1.43]</th>         <td>    1.0343</td> <td>    0.695</td> <td>    1.487</td> <td> 0.146</td> <td>   -0.377</td> <td>    2.446</td>\n",
       "</tr>\n",
       "<tr>\n",
       "  <th>Pa[T.1.45]</th>         <td>    1.9393</td> <td>    0.755</td> <td>    2.570</td> <td> 0.015</td> <td>    0.407</td> <td>    3.471</td>\n",
       "</tr>\n",
       "<tr>\n",
       "  <th>Pa[T.1.46]</th>         <td>    1.6965</td> <td>    0.651</td> <td>    2.605</td> <td> 0.013</td> <td>    0.374</td> <td>    3.019</td>\n",
       "</tr>\n",
       "<tr>\n",
       "  <th>Pa[T.1.47]</th>         <td>    0.9072</td> <td>    0.708</td> <td>    1.282</td> <td> 0.208</td> <td>   -0.530</td> <td>    2.344</td>\n",
       "</tr>\n",
       "<tr>\n",
       "  <th>Pa[T.1.48]</th>         <td>    1.7606</td> <td>    0.629</td> <td>    2.799</td> <td> 0.008</td> <td>    0.483</td> <td>    3.038</td>\n",
       "</tr>\n",
       "<tr>\n",
       "  <th>Pa[T.1.49]</th>         <td>    1.2243</td> <td>    0.631</td> <td>    1.940</td> <td> 0.061</td> <td>   -0.057</td> <td>    2.506</td>\n",
       "</tr>\n",
       "<tr>\n",
       "  <th>Pa[T.1.52]</th>         <td>    0.5911</td> <td>    0.699</td> <td>    0.846</td> <td> 0.403</td> <td>   -0.828</td> <td>    2.010</td>\n",
       "</tr>\n",
       "<tr>\n",
       "  <th>Pa[T.1.55]</th>         <td>    1.3178</td> <td>    0.669</td> <td>    1.971</td> <td> 0.057</td> <td>   -0.040</td> <td>    2.675</td>\n",
       "</tr>\n",
       "<tr>\n",
       "  <th>Pa[T.1.58]</th>         <td>    1.3943</td> <td>    0.598</td> <td>    2.330</td> <td> 0.026</td> <td>    0.180</td> <td>    2.609</td>\n",
       "</tr>\n",
       "<tr>\n",
       "  <th>Pa[T.1.60]</th>         <td>    1.2844</td> <td>    0.716</td> <td>    1.794</td> <td> 0.081</td> <td>   -0.169</td> <td>    2.738</td>\n",
       "</tr>\n",
       "<tr>\n",
       "  <th>Pa[T.1.62]</th>         <td>    1.4337</td> <td>    0.581</td> <td>    2.469</td> <td> 0.019</td> <td>    0.255</td> <td>    2.612</td>\n",
       "</tr>\n",
       "<tr>\n",
       "  <th>Pa[T.1.63]</th>         <td>    1.0862</td> <td>    0.699</td> <td>    1.554</td> <td> 0.129</td> <td>   -0.332</td> <td>    2.505</td>\n",
       "</tr>\n",
       "<tr>\n",
       "  <th>Pa[T.1.64]</th>         <td>    1.1908</td> <td>    0.673</td> <td>    1.769</td> <td> 0.086</td> <td>   -0.176</td> <td>    2.557</td>\n",
       "</tr>\n",
       "<tr>\n",
       "  <th>Pa[T.1.66]</th>         <td>    1.4988</td> <td>    0.598</td> <td>    2.506</td> <td> 0.017</td> <td>    0.285</td> <td>    2.713</td>\n",
       "</tr>\n",
       "<tr>\n",
       "  <th>Pa[T.1.68]</th>         <td>    1.6208</td> <td>    0.704</td> <td>    2.301</td> <td> 0.027</td> <td>    0.191</td> <td>    3.050</td>\n",
       "</tr>\n",
       "<tr>\n",
       "  <th>Pa[T.1.70]</th>         <td>    1.6510</td> <td>    0.638</td> <td>    2.587</td> <td> 0.014</td> <td>    0.356</td> <td>    2.946</td>\n",
       "</tr>\n",
       "<tr>\n",
       "  <th>Pa[T.1.72]</th>         <td>    1.4925</td> <td>    0.630</td> <td>    2.369</td> <td> 0.024</td> <td>    0.213</td> <td>    2.772</td>\n",
       "</tr>\n",
       "<tr>\n",
       "  <th>Pa[T.1.75]</th>         <td>    1.6822</td> <td>    0.690</td> <td>    2.437</td> <td> 0.020</td> <td>    0.281</td> <td>    3.083</td>\n",
       "</tr>\n",
       "<tr>\n",
       "  <th>Pa[T.1.76]</th>         <td>    1.4028</td> <td>    0.727</td> <td>    1.929</td> <td> 0.062</td> <td>   -0.074</td> <td>    2.879</td>\n",
       "</tr>\n",
       "<tr>\n",
       "  <th>Pa[T.1.79]</th>         <td>    1.5445</td> <td>    0.639</td> <td>    2.415</td> <td> 0.021</td> <td>    0.246</td> <td>    2.843</td>\n",
       "</tr>\n",
       "<tr>\n",
       "  <th>Pa[T.1.82]</th>         <td>    0.8385</td> <td>    0.721</td> <td>    1.162</td> <td> 0.253</td> <td>   -0.626</td> <td>    2.303</td>\n",
       "</tr>\n",
       "<tr>\n",
       "  <th>Pa[T.1.83]</th>         <td>    1.8575</td> <td>    0.665</td> <td>    2.794</td> <td> 0.008</td> <td>    0.508</td> <td>    3.207</td>\n",
       "</tr>\n",
       "<tr>\n",
       "  <th>Pa[T.1.86]</th>         <td>    1.5201</td> <td>    0.575</td> <td>    2.645</td> <td> 0.012</td> <td>    0.354</td> <td>    2.687</td>\n",
       "</tr>\n",
       "<tr>\n",
       "  <th>Pa[T.1.89]</th>         <td>    1.5995</td> <td>    0.704</td> <td>    2.270</td> <td> 0.029</td> <td>    0.169</td> <td>    3.030</td>\n",
       "</tr>\n",
       "<tr>\n",
       "  <th>Pa[T.1.90]</th>         <td>    1.5846</td> <td>    0.741</td> <td>    2.138</td> <td> 0.040</td> <td>    0.080</td> <td>    3.090</td>\n",
       "</tr>\n",
       "<tr>\n",
       "  <th>Pa[T.1.93]</th>         <td>    1.7996</td> <td>    0.611</td> <td>    2.944</td> <td> 0.006</td> <td>    0.559</td> <td>    3.040</td>\n",
       "</tr>\n",
       "<tr>\n",
       "  <th>Pa[T.1.94]</th>         <td>    3.3272</td> <td>    0.768</td> <td>    4.332</td> <td> 0.000</td> <td>    1.768</td> <td>    4.886</td>\n",
       "</tr>\n",
       "<tr>\n",
       "  <th>Pa[T.1.96]</th>         <td>    1.3571</td> <td>    0.762</td> <td>    1.782</td> <td> 0.083</td> <td>   -0.189</td> <td>    2.903</td>\n",
       "</tr>\n",
       "<tr>\n",
       "  <th>Pa[T.1.97]</th>         <td>    1.6004</td> <td>    0.741</td> <td>    2.160</td> <td> 0.038</td> <td>    0.096</td> <td>    3.104</td>\n",
       "</tr>\n",
       "<tr>\n",
       "  <th>Pa[T.1.98]</th>         <td>    1.4586</td> <td>    0.762</td> <td>    1.915</td> <td> 0.064</td> <td>   -0.087</td> <td>    3.005</td>\n",
       "</tr>\n",
       "<tr>\n",
       "  <th>Pa[T.2.04]</th>         <td>    1.5253</td> <td>    0.680</td> <td>    2.243</td> <td> 0.031</td> <td>    0.145</td> <td>    2.906</td>\n",
       "</tr>\n",
       "<tr>\n",
       "  <th>Pa[T.2.05]</th>         <td>    1.6193</td> <td>    0.662</td> <td>    2.446</td> <td> 0.020</td> <td>    0.276</td> <td>    2.963</td>\n",
       "</tr>\n",
       "<tr>\n",
       "  <th>Pa[T.2.07]</th>         <td>    1.4479</td> <td>    0.666</td> <td>    2.173</td> <td> 0.037</td> <td>    0.095</td> <td>    2.801</td>\n",
       "</tr>\n",
       "<tr>\n",
       "  <th>Pa[T.2.09]</th>         <td>    2.2191</td> <td>    0.683</td> <td>    3.250</td> <td> 0.003</td> <td>    0.833</td> <td>    3.606</td>\n",
       "</tr>\n",
       "<tr>\n",
       "  <th>Pa[T.2.11]</th>         <td>    1.4557</td> <td>    0.704</td> <td>    2.067</td> <td> 0.046</td> <td>    0.026</td> <td>    2.885</td>\n",
       "</tr>\n",
       "<tr>\n",
       "  <th>Pa[T.2.13]</th>         <td>    1.7443</td> <td>    0.769</td> <td>    2.270</td> <td> 0.029</td> <td>    0.184</td> <td>    3.304</td>\n",
       "</tr>\n",
       "<tr>\n",
       "  <th>Pa[T.2.16]</th>         <td>    1.5775</td> <td>    0.786</td> <td>    2.007</td> <td> 0.052</td> <td>   -0.018</td> <td>    3.173</td>\n",
       "</tr>\n",
       "<tr>\n",
       "  <th>Pa[T.2.17]</th>         <td>    1.8107</td> <td>    0.815</td> <td>    2.223</td> <td> 0.033</td> <td>    0.157</td> <td>    3.464</td>\n",
       "</tr>\n",
       "<tr>\n",
       "  <th>Pa[T.2.18]</th>         <td>    1.7375</td> <td>    0.834</td> <td>    2.084</td> <td> 0.044</td> <td>    0.045</td> <td>    3.430</td>\n",
       "</tr>\n",
       "<tr>\n",
       "  <th>Pa[T.2.19]</th>         <td>    2.0484</td> <td>    0.681</td> <td>    3.008</td> <td> 0.005</td> <td>    0.666</td> <td>    3.431</td>\n",
       "</tr>\n",
       "<tr>\n",
       "  <th>Pa[T.2.20]</th>         <td>    1.9908</td> <td>    0.720</td> <td>    2.764</td> <td> 0.009</td> <td>    0.528</td> <td>    3.453</td>\n",
       "</tr>\n",
       "<tr>\n",
       "  <th>Pa[T.2.23]</th>         <td>    1.6235</td> <td>    0.806</td> <td>    2.016</td> <td> 0.052</td> <td>   -0.012</td> <td>    3.259</td>\n",
       "</tr>\n",
       "<tr>\n",
       "  <th>Pa[T.2.27]</th>         <td>    1.8426</td> <td>    0.773</td> <td>    2.385</td> <td> 0.023</td> <td>    0.274</td> <td>    3.411</td>\n",
       "</tr>\n",
       "<tr>\n",
       "  <th>Pa[T.2.28]</th>         <td>    2.3073</td> <td>    0.686</td> <td>    3.363</td> <td> 0.002</td> <td>    0.915</td> <td>    3.700</td>\n",
       "</tr>\n",
       "<tr>\n",
       "  <th>Pa[T.2.29]</th>         <td>    1.8028</td> <td>    0.791</td> <td>    2.278</td> <td> 0.029</td> <td>    0.197</td> <td>    3.409</td>\n",
       "</tr>\n",
       "<tr>\n",
       "  <th>Pa[T.2.31]</th>         <td>    2.0719</td> <td>    0.871</td> <td>    2.379</td> <td> 0.023</td> <td>    0.304</td> <td>    3.840</td>\n",
       "</tr>\n",
       "<tr>\n",
       "  <th>Pa[T.2.34]</th>         <td>    2.3165</td> <td>    0.752</td> <td>    3.080</td> <td> 0.004</td> <td>    0.790</td> <td>    3.843</td>\n",
       "</tr>\n",
       "<tr>\n",
       "  <th>Pa[T.2.36]</th>         <td>    1.9178</td> <td>    0.836</td> <td>    2.294</td> <td> 0.028</td> <td>    0.220</td> <td>    3.615</td>\n",
       "</tr>\n",
       "<tr>\n",
       "  <th>Pa[T.2.37]</th>         <td>    1.7762</td> <td>    0.638</td> <td>    2.786</td> <td> 0.009</td> <td>    0.482</td> <td>    3.070</td>\n",
       "</tr>\n",
       "<tr>\n",
       "  <th>Pa[T.2.38]</th>         <td>    1.8406</td> <td>    0.748</td> <td>    2.459</td> <td> 0.019</td> <td>    0.321</td> <td>    3.360</td>\n",
       "</tr>\n",
       "<tr>\n",
       "  <th>Pa[T.2.43]</th>         <td>    2.4004</td> <td>    0.712</td> <td>    3.372</td> <td> 0.002</td> <td>    0.955</td> <td>    3.846</td>\n",
       "</tr>\n",
       "<tr>\n",
       "  <th>Pa[T.2.50]</th>         <td>    2.3448</td> <td>    0.738</td> <td>    3.178</td> <td> 0.003</td> <td>    0.847</td> <td>    3.843</td>\n",
       "</tr>\n",
       "<tr>\n",
       "  <th>Pa[T.2.52]</th>         <td>    1.9259</td> <td>    0.794</td> <td>    2.425</td> <td> 0.021</td> <td>    0.313</td> <td>    3.539</td>\n",
       "</tr>\n",
       "<tr>\n",
       "  <th>Pa[T.2.53]</th>         <td>    2.1792</td> <td>    0.778</td> <td>    2.801</td> <td> 0.008</td> <td>    0.600</td> <td>    3.758</td>\n",
       "</tr>\n",
       "<tr>\n",
       "  <th>Pa[T.2.54]</th>         <td>    2.4263</td> <td>    0.912</td> <td>    2.661</td> <td> 0.012</td> <td>    0.575</td> <td>    4.277</td>\n",
       "</tr>\n",
       "<tr>\n",
       "  <th>Pa[T.2.55]</th>         <td>    2.1839</td> <td>    0.731</td> <td>    2.987</td> <td> 0.005</td> <td>    0.700</td> <td>    3.668</td>\n",
       "</tr>\n",
       "<tr>\n",
       "  <th>Pa[T.2.56]</th>         <td>    1.7251</td> <td>    0.710</td> <td>    2.430</td> <td> 0.020</td> <td>    0.284</td> <td>    3.166</td>\n",
       "</tr>\n",
       "<tr>\n",
       "  <th>Pa[T.2.59]</th>         <td>    1.9075</td> <td>    0.768</td> <td>    2.483</td> <td> 0.018</td> <td>    0.348</td> <td>    3.467</td>\n",
       "</tr>\n",
       "<tr>\n",
       "  <th>Pa[T.2.62]</th>         <td>    2.1200</td> <td>    0.829</td> <td>    2.556</td> <td> 0.015</td> <td>    0.436</td> <td>    3.804</td>\n",
       "</tr>\n",
       "<tr>\n",
       "  <th>Pa[T.2.63]</th>         <td>    1.8477</td> <td>    0.760</td> <td>    2.431</td> <td> 0.020</td> <td>    0.305</td> <td>    3.391</td>\n",
       "</tr>\n",
       "<tr>\n",
       "  <th>Pa[T.2.68]</th>         <td>    1.8544</td> <td>    0.770</td> <td>    2.408</td> <td> 0.021</td> <td>    0.291</td> <td>    3.418</td>\n",
       "</tr>\n",
       "<tr>\n",
       "  <th>Pa[T.2.70]</th>         <td>    2.1092</td> <td>    0.820</td> <td>    2.573</td> <td> 0.014</td> <td>    0.445</td> <td>    3.773</td>\n",
       "</tr>\n",
       "<tr>\n",
       "  <th>Pa[T.2.72]</th>         <td>    2.7723</td> <td>    0.749</td> <td>    3.703</td> <td> 0.001</td> <td>    1.253</td> <td>    4.292</td>\n",
       "</tr>\n",
       "<tr>\n",
       "  <th>Pa[T.2.74]</th>         <td>    3.0425</td> <td>    0.792</td> <td>    3.843</td> <td> 0.000</td> <td>    1.435</td> <td>    4.650</td>\n",
       "</tr>\n",
       "<tr>\n",
       "  <th>Pa[T.2.77]</th>         <td>    2.4872</td> <td>    0.763</td> <td>    3.258</td> <td> 0.003</td> <td>    0.937</td> <td>    4.037</td>\n",
       "</tr>\n",
       "<tr>\n",
       "  <th>Pa[T.2.85]</th>         <td>    2.1900</td> <td>    0.848</td> <td>    2.583</td> <td> 0.014</td> <td>    0.469</td> <td>    3.911</td>\n",
       "</tr>\n",
       "<tr>\n",
       "  <th>Pa[T.2.88]</th>         <td>    2.2322</td> <td>    0.870</td> <td>    2.567</td> <td> 0.015</td> <td>    0.467</td> <td>    3.997</td>\n",
       "</tr>\n",
       "<tr>\n",
       "  <th>Pa[T.2.91]</th>         <td>    2.1437</td> <td>    0.795</td> <td>    2.697</td> <td> 0.011</td> <td>    0.530</td> <td>    3.757</td>\n",
       "</tr>\n",
       "<tr>\n",
       "  <th>Pa[T.2.93]</th>         <td>    2.5510</td> <td>    0.766</td> <td>    3.328</td> <td> 0.002</td> <td>    0.995</td> <td>    4.107</td>\n",
       "</tr>\n",
       "<tr>\n",
       "  <th>Pa[T.2.94]</th>         <td>    2.1383</td> <td>    0.845</td> <td>    2.531</td> <td> 0.016</td> <td>    0.423</td> <td>    3.853</td>\n",
       "</tr>\n",
       "<tr>\n",
       "  <th>Pa[T.2.96]</th>         <td>    2.8105</td> <td>    0.800</td> <td>    3.513</td> <td> 0.001</td> <td>    1.186</td> <td>    4.435</td>\n",
       "</tr>\n",
       "<tr>\n",
       "  <th>Pa[T.3.03]</th>         <td>    2.2446</td> <td>    0.799</td> <td>    2.809</td> <td> 0.008</td> <td>    0.623</td> <td>    3.867</td>\n",
       "</tr>\n",
       "<tr>\n",
       "  <th>Pa[T.3.08]</th>         <td>    2.1354</td> <td>    0.803</td> <td>    2.658</td> <td> 0.012</td> <td>    0.504</td> <td>    3.766</td>\n",
       "</tr>\n",
       "<tr>\n",
       "  <th>Pa[T.3.09]</th>         <td>    2.4697</td> <td>    0.834</td> <td>    2.962</td> <td> 0.005</td> <td>    0.777</td> <td>    4.162</td>\n",
       "</tr>\n",
       "<tr>\n",
       "  <th>Pa[T.3.17]</th>         <td>    2.5565</td> <td>    0.905</td> <td>    2.824</td> <td> 0.008</td> <td>    0.719</td> <td>    4.394</td>\n",
       "</tr>\n",
       "<tr>\n",
       "  <th>Pa[T.3.21]</th>         <td>    2.4464</td> <td>    0.840</td> <td>    2.913</td> <td> 0.006</td> <td>    0.741</td> <td>    4.151</td>\n",
       "</tr>\n",
       "<tr>\n",
       "  <th>Pa[T.3.25]</th>         <td>    2.5563</td> <td>    0.834</td> <td>    3.067</td> <td> 0.004</td> <td>    0.864</td> <td>    4.248</td>\n",
       "</tr>\n",
       "<tr>\n",
       "  <th>Pa[T.3.29]</th>         <td>    2.4586</td> <td>    0.881</td> <td>    2.790</td> <td> 0.008</td> <td>    0.670</td> <td>    4.247</td>\n",
       "</tr>\n",
       "<tr>\n",
       "  <th>Pa[T.3.33]</th>         <td>    2.3828</td> <td>    0.829</td> <td>    2.874</td> <td> 0.007</td> <td>    0.700</td> <td>    4.066</td>\n",
       "</tr>\n",
       "<tr>\n",
       "  <th>Pa[T.3.40]</th>         <td>    2.3325</td> <td>    0.848</td> <td>    2.749</td> <td> 0.009</td> <td>    0.610</td> <td>    4.055</td>\n",
       "</tr>\n",
       "<tr>\n",
       "  <th>Pa[T.3.50]</th>         <td>    3.1705</td> <td>    0.849</td> <td>    3.735</td> <td> 0.001</td> <td>    1.447</td> <td>    4.894</td>\n",
       "</tr>\n",
       "<tr>\n",
       "  <th>Pa[T.3.63]</th>         <td>    2.7572</td> <td>    0.917</td> <td>    3.007</td> <td> 0.005</td> <td>    0.895</td> <td>    4.619</td>\n",
       "</tr>\n",
       "<tr>\n",
       "  <th>Pa[T.3.74]</th>         <td>    2.5958</td> <td>    0.880</td> <td>    2.950</td> <td> 0.006</td> <td>    0.809</td> <td>    4.382</td>\n",
       "</tr>\n",
       "<tr>\n",
       "  <th>Pa[T.3.81]</th>         <td>    2.5971</td> <td>    0.943</td> <td>    2.755</td> <td> 0.009</td> <td>    0.684</td> <td>    4.511</td>\n",
       "</tr>\n",
       "<tr>\n",
       "  <th>Pa[T.3.82]</th>         <td>    2.5645</td> <td>    0.868</td> <td>    2.955</td> <td> 0.006</td> <td>    0.803</td> <td>    4.326</td>\n",
       "</tr>\n",
       "<tr>\n",
       "  <th>Pa[T.4.04]</th>         <td>    2.6928</td> <td>    0.905</td> <td>    2.975</td> <td> 0.005</td> <td>    0.855</td> <td>    4.530</td>\n",
       "</tr>\n",
       "<tr>\n",
       "  <th>Pa[T.4.33]</th>         <td>    2.8891</td> <td>    0.914</td> <td>    3.160</td> <td> 0.003</td> <td>    1.033</td> <td>    4.745</td>\n",
       "</tr>\n",
       "<tr>\n",
       "  <th>Pa[T.4.37]</th>         <td>    3.3831</td> <td>    0.882</td> <td>    3.837</td> <td> 0.000</td> <td>    1.593</td> <td>    5.173</td>\n",
       "</tr>\n",
       "<tr>\n",
       "  <th>Pa[T.4.46]</th>         <td>    2.8810</td> <td>    0.945</td> <td>    3.048</td> <td> 0.004</td> <td>    0.962</td> <td>    4.800</td>\n",
       "</tr>\n",
       "<tr>\n",
       "  <th>Pa[T.4.83]</th>         <td>    3.1192</td> <td>    0.988</td> <td>    3.158</td> <td> 0.003</td> <td>    1.114</td> <td>    5.124</td>\n",
       "</tr>\n",
       "<tr>\n",
       "  <th>Pa[T.5.02]</th>         <td>    3.5984</td> <td>    0.917</td> <td>    3.922</td> <td> 0.000</td> <td>    1.736</td> <td>    5.461</td>\n",
       "</tr>\n",
       "<tr>\n",
       "  <th>Pa[T.5.24]</th>         <td>    3.8111</td> <td>    0.955</td> <td>    3.990</td> <td> 0.000</td> <td>    1.872</td> <td>    5.750</td>\n",
       "</tr>\n",
       "<tr>\n",
       "  <th>CO2</th>                <td>    1.1472</td> <td>    0.192</td> <td>    5.985</td> <td> 0.000</td> <td>    0.758</td> <td>    1.536</td>\n",
       "</tr>\n",
       "<tr>\n",
       "  <th>AOS</th>                <td>    1.1472</td> <td>    0.192</td> <td>    5.985</td> <td> 0.000</td> <td>    0.758</td> <td>    1.536</td>\n",
       "</tr>\n",
       "<tr>\n",
       "  <th>NaCl</th>               <td>   -0.2324</td> <td>    0.271</td> <td>   -0.857</td> <td> 0.397</td> <td>   -0.783</td> <td>    0.318</td>\n",
       "</tr>\n",
       "<tr>\n",
       "  <th>XG</th>                 <td>    0.5681</td> <td>    0.283</td> <td>    2.006</td> <td> 0.053</td> <td>   -0.007</td> <td>    1.143</td>\n",
       "</tr>\n",
       "<tr>\n",
       "  <th>shear_rate</th>         <td>   -0.0027</td> <td>    0.000</td> <td>   -7.088</td> <td> 0.000</td> <td>   -0.003</td> <td>   -0.002</td>\n",
       "</tr>\n",
       "</table>\n",
       "<table class=\"simpletable\">\n",
       "<tr>\n",
       "  <th>Omnibus:</th>       <td>31.864</td> <th>  Durbin-Watson:     </th> <td>   1.697</td>\n",
       "</tr>\n",
       "<tr>\n",
       "  <th>Prob(Omnibus):</th> <td> 0.000</td> <th>  Jarque-Bera (JB):  </th> <td> 150.152</td>\n",
       "</tr>\n",
       "<tr>\n",
       "  <th>Skew:</th>          <td> 0.531</td> <th>  Prob(JB):          </th> <td>2.48e-33</td>\n",
       "</tr>\n",
       "<tr>\n",
       "  <th>Kurtosis:</th>      <td> 7.508</td> <th>  Cond. No.          </th> <td>8.88e+16</td>\n",
       "</tr>\n",
       "</table><br/><br/>Warnings:<br/>[1] Standard Errors assume that the covariance matrix of the errors is correctly specified.<br/>[2] The smallest eigenvalue is 1.76e-26. This might indicate that there are<br/>strong multicollinearity problems or that the design matrix is singular."
      ],
      "text/plain": [
       "<class 'statsmodels.iolib.summary.Summary'>\n",
       "\"\"\"\n",
       "                            OLS Regression Results                            \n",
       "==============================================================================\n",
       "Dep. Variable:           viscosity_cp   R-squared:                       0.964\n",
       "Model:                            OLS   Adj. R-squared:                  0.829\n",
       "Method:                 Least Squares   F-statistic:                     7.154\n",
       "Date:                Mon, 14 Sep 2020   Prob (F-statistic):           1.81e-09\n",
       "Time:                        09:36:31   Log-Likelihood:                 29.627\n",
       "No. Observations:                 168   AIC:                             206.7\n",
       "Df Residuals:                      35   BIC:                             622.2\n",
       "Df Model:                         132                                         \n",
       "Covariance Type:            nonrobust                                         \n",
       "======================================================================================\n",
       "                         coef    std err          t      P>|t|      [0.025      0.975]\n",
       "--------------------------------------------------------------------------------------\n",
       "Intercept              1.1472      0.192      5.985      0.000       0.758       1.536\n",
       "Foam_quality[T.95]     0.2593      0.161      1.607      0.117      -0.068       0.587\n",
       "Temperature[T.50]     -0.4226      0.184     -2.299      0.028      -0.796      -0.050\n",
       "Temperature[T.80]     -0.5051      0.254     -1.992      0.054      -1.020       0.010\n",
       "Pa[T.0.39]            -0.2444      0.631     -0.387      0.701      -1.526       1.037\n",
       "Pa[T.0.75]             0.0802      0.655      0.122      0.903      -1.249       1.409\n",
       "Pa[T.0.79]             0.6904      0.656      1.053      0.300      -0.641       2.022\n",
       "Pa[T.0.80]             0.2173      0.646      0.337      0.738      -1.093       1.528\n",
       "Pa[T.0.83]             0.5793      0.657      0.881      0.384      -0.755       1.914\n",
       "Pa[T.0.85]             0.2239      0.670      0.334      0.740      -1.137       1.585\n",
       "Pa[T.0.86]             0.3091      0.672      0.460      0.648      -1.055       1.673\n",
       "Pa[T.0.92]             0.4943      0.643      0.769      0.447      -0.811       1.800\n",
       "Pa[T.0.99]             0.8393      0.671      1.251      0.219      -0.523       2.201\n",
       "Pa[T.1.01]             0.5810      0.583      0.997      0.326      -0.602       1.764\n",
       "Pa[T.1.02]             0.4236      0.534      0.793      0.433      -0.661       1.508\n",
       "Pa[T.1.03]             0.8314      0.648      1.283      0.208      -0.484       2.147\n",
       "Pa[T.1.04]             0.8024      0.619      1.296      0.203      -0.454       2.059\n",
       "Pa[T.1.05]             0.6809      0.647      1.052      0.300      -0.633       1.995\n",
       "Pa[T.1.08]             0.1182      0.680      0.174      0.863      -1.263       1.500\n",
       "Pa[T.1.12]             1.2085      0.660      1.832      0.075      -0.130       2.548\n",
       "Pa[T.1.14]             0.8621      0.671      1.285      0.207      -0.500       2.224\n",
       "Pa[T.1.15]             0.6168      0.612      1.007      0.321      -0.626       1.860\n",
       "Pa[T.1.16]             0.8478      0.547      1.551      0.130      -0.262       1.958\n",
       "Pa[T.1.18]             0.6189      0.639      0.969      0.339      -0.678       1.916\n",
       "Pa[T.1.21]             0.9026      0.643      1.403      0.169      -0.403       2.208\n",
       "Pa[T.1.22]             1.6056      0.678      2.369      0.023       0.230       2.981\n",
       "Pa[T.1.23]             0.9295      0.589      1.579      0.123      -0.266       2.125\n",
       "Pa[T.1.25]             1.2462      0.725      1.718      0.095      -0.226       2.719\n",
       "Pa[T.1.27]             1.0550      0.676      1.560      0.128      -0.318       2.428\n",
       "Pa[T.1.28]             0.4437      0.682      0.651      0.519      -0.940       1.828\n",
       "Pa[T.1.29]             1.3347      0.586      2.279      0.029       0.146       2.524\n",
       "Pa[T.1.30]             1.6599      0.743      2.234      0.032       0.152       3.168\n",
       "Pa[T.1.33]             0.9633      0.651      1.479      0.148      -0.359       2.286\n",
       "Pa[T.1.35]             1.4606      0.667      2.191      0.035       0.107       2.814\n",
       "Pa[T.1.37]             0.8665      0.678      1.278      0.210      -0.510       2.243\n",
       "Pa[T.1.38]             1.0667      0.577      1.850      0.073      -0.104       2.237\n",
       "Pa[T.1.40]             1.7656      0.573      3.082      0.004       0.603       2.929\n",
       "Pa[T.1.42]             0.8266      0.680      1.216      0.232      -0.554       2.207\n",
       "Pa[T.1.43]             1.0343      0.695      1.487      0.146      -0.377       2.446\n",
       "Pa[T.1.45]             1.9393      0.755      2.570      0.015       0.407       3.471\n",
       "Pa[T.1.46]             1.6965      0.651      2.605      0.013       0.374       3.019\n",
       "Pa[T.1.47]             0.9072      0.708      1.282      0.208      -0.530       2.344\n",
       "Pa[T.1.48]             1.7606      0.629      2.799      0.008       0.483       3.038\n",
       "Pa[T.1.49]             1.2243      0.631      1.940      0.061      -0.057       2.506\n",
       "Pa[T.1.52]             0.5911      0.699      0.846      0.403      -0.828       2.010\n",
       "Pa[T.1.55]             1.3178      0.669      1.971      0.057      -0.040       2.675\n",
       "Pa[T.1.58]             1.3943      0.598      2.330      0.026       0.180       2.609\n",
       "Pa[T.1.60]             1.2844      0.716      1.794      0.081      -0.169       2.738\n",
       "Pa[T.1.62]             1.4337      0.581      2.469      0.019       0.255       2.612\n",
       "Pa[T.1.63]             1.0862      0.699      1.554      0.129      -0.332       2.505\n",
       "Pa[T.1.64]             1.1908      0.673      1.769      0.086      -0.176       2.557\n",
       "Pa[T.1.66]             1.4988      0.598      2.506      0.017       0.285       2.713\n",
       "Pa[T.1.68]             1.6208      0.704      2.301      0.027       0.191       3.050\n",
       "Pa[T.1.70]             1.6510      0.638      2.587      0.014       0.356       2.946\n",
       "Pa[T.1.72]             1.4925      0.630      2.369      0.024       0.213       2.772\n",
       "Pa[T.1.75]             1.6822      0.690      2.437      0.020       0.281       3.083\n",
       "Pa[T.1.76]             1.4028      0.727      1.929      0.062      -0.074       2.879\n",
       "Pa[T.1.79]             1.5445      0.639      2.415      0.021       0.246       2.843\n",
       "Pa[T.1.82]             0.8385      0.721      1.162      0.253      -0.626       2.303\n",
       "Pa[T.1.83]             1.8575      0.665      2.794      0.008       0.508       3.207\n",
       "Pa[T.1.86]             1.5201      0.575      2.645      0.012       0.354       2.687\n",
       "Pa[T.1.89]             1.5995      0.704      2.270      0.029       0.169       3.030\n",
       "Pa[T.1.90]             1.5846      0.741      2.138      0.040       0.080       3.090\n",
       "Pa[T.1.93]             1.7996      0.611      2.944      0.006       0.559       3.040\n",
       "Pa[T.1.94]             3.3272      0.768      4.332      0.000       1.768       4.886\n",
       "Pa[T.1.96]             1.3571      0.762      1.782      0.083      -0.189       2.903\n",
       "Pa[T.1.97]             1.6004      0.741      2.160      0.038       0.096       3.104\n",
       "Pa[T.1.98]             1.4586      0.762      1.915      0.064      -0.087       3.005\n",
       "Pa[T.2.04]             1.5253      0.680      2.243      0.031       0.145       2.906\n",
       "Pa[T.2.05]             1.6193      0.662      2.446      0.020       0.276       2.963\n",
       "Pa[T.2.07]             1.4479      0.666      2.173      0.037       0.095       2.801\n",
       "Pa[T.2.09]             2.2191      0.683      3.250      0.003       0.833       3.606\n",
       "Pa[T.2.11]             1.4557      0.704      2.067      0.046       0.026       2.885\n",
       "Pa[T.2.13]             1.7443      0.769      2.270      0.029       0.184       3.304\n",
       "Pa[T.2.16]             1.5775      0.786      2.007      0.052      -0.018       3.173\n",
       "Pa[T.2.17]             1.8107      0.815      2.223      0.033       0.157       3.464\n",
       "Pa[T.2.18]             1.7375      0.834      2.084      0.044       0.045       3.430\n",
       "Pa[T.2.19]             2.0484      0.681      3.008      0.005       0.666       3.431\n",
       "Pa[T.2.20]             1.9908      0.720      2.764      0.009       0.528       3.453\n",
       "Pa[T.2.23]             1.6235      0.806      2.016      0.052      -0.012       3.259\n",
       "Pa[T.2.27]             1.8426      0.773      2.385      0.023       0.274       3.411\n",
       "Pa[T.2.28]             2.3073      0.686      3.363      0.002       0.915       3.700\n",
       "Pa[T.2.29]             1.8028      0.791      2.278      0.029       0.197       3.409\n",
       "Pa[T.2.31]             2.0719      0.871      2.379      0.023       0.304       3.840\n",
       "Pa[T.2.34]             2.3165      0.752      3.080      0.004       0.790       3.843\n",
       "Pa[T.2.36]             1.9178      0.836      2.294      0.028       0.220       3.615\n",
       "Pa[T.2.37]             1.7762      0.638      2.786      0.009       0.482       3.070\n",
       "Pa[T.2.38]             1.8406      0.748      2.459      0.019       0.321       3.360\n",
       "Pa[T.2.43]             2.4004      0.712      3.372      0.002       0.955       3.846\n",
       "Pa[T.2.50]             2.3448      0.738      3.178      0.003       0.847       3.843\n",
       "Pa[T.2.52]             1.9259      0.794      2.425      0.021       0.313       3.539\n",
       "Pa[T.2.53]             2.1792      0.778      2.801      0.008       0.600       3.758\n",
       "Pa[T.2.54]             2.4263      0.912      2.661      0.012       0.575       4.277\n",
       "Pa[T.2.55]             2.1839      0.731      2.987      0.005       0.700       3.668\n",
       "Pa[T.2.56]             1.7251      0.710      2.430      0.020       0.284       3.166\n",
       "Pa[T.2.59]             1.9075      0.768      2.483      0.018       0.348       3.467\n",
       "Pa[T.2.62]             2.1200      0.829      2.556      0.015       0.436       3.804\n",
       "Pa[T.2.63]             1.8477      0.760      2.431      0.020       0.305       3.391\n",
       "Pa[T.2.68]             1.8544      0.770      2.408      0.021       0.291       3.418\n",
       "Pa[T.2.70]             2.1092      0.820      2.573      0.014       0.445       3.773\n",
       "Pa[T.2.72]             2.7723      0.749      3.703      0.001       1.253       4.292\n",
       "Pa[T.2.74]             3.0425      0.792      3.843      0.000       1.435       4.650\n",
       "Pa[T.2.77]             2.4872      0.763      3.258      0.003       0.937       4.037\n",
       "Pa[T.2.85]             2.1900      0.848      2.583      0.014       0.469       3.911\n",
       "Pa[T.2.88]             2.2322      0.870      2.567      0.015       0.467       3.997\n",
       "Pa[T.2.91]             2.1437      0.795      2.697      0.011       0.530       3.757\n",
       "Pa[T.2.93]             2.5510      0.766      3.328      0.002       0.995       4.107\n",
       "Pa[T.2.94]             2.1383      0.845      2.531      0.016       0.423       3.853\n",
       "Pa[T.2.96]             2.8105      0.800      3.513      0.001       1.186       4.435\n",
       "Pa[T.3.03]             2.2446      0.799      2.809      0.008       0.623       3.867\n",
       "Pa[T.3.08]             2.1354      0.803      2.658      0.012       0.504       3.766\n",
       "Pa[T.3.09]             2.4697      0.834      2.962      0.005       0.777       4.162\n",
       "Pa[T.3.17]             2.5565      0.905      2.824      0.008       0.719       4.394\n",
       "Pa[T.3.21]             2.4464      0.840      2.913      0.006       0.741       4.151\n",
       "Pa[T.3.25]             2.5563      0.834      3.067      0.004       0.864       4.248\n",
       "Pa[T.3.29]             2.4586      0.881      2.790      0.008       0.670       4.247\n",
       "Pa[T.3.33]             2.3828      0.829      2.874      0.007       0.700       4.066\n",
       "Pa[T.3.40]             2.3325      0.848      2.749      0.009       0.610       4.055\n",
       "Pa[T.3.50]             3.1705      0.849      3.735      0.001       1.447       4.894\n",
       "Pa[T.3.63]             2.7572      0.917      3.007      0.005       0.895       4.619\n",
       "Pa[T.3.74]             2.5958      0.880      2.950      0.006       0.809       4.382\n",
       "Pa[T.3.81]             2.5971      0.943      2.755      0.009       0.684       4.511\n",
       "Pa[T.3.82]             2.5645      0.868      2.955      0.006       0.803       4.326\n",
       "Pa[T.4.04]             2.6928      0.905      2.975      0.005       0.855       4.530\n",
       "Pa[T.4.33]             2.8891      0.914      3.160      0.003       1.033       4.745\n",
       "Pa[T.4.37]             3.3831      0.882      3.837      0.000       1.593       5.173\n",
       "Pa[T.4.46]             2.8810      0.945      3.048      0.004       0.962       4.800\n",
       "Pa[T.4.83]             3.1192      0.988      3.158      0.003       1.114       5.124\n",
       "Pa[T.5.02]             3.5984      0.917      3.922      0.000       1.736       5.461\n",
       "Pa[T.5.24]             3.8111      0.955      3.990      0.000       1.872       5.750\n",
       "CO2                    1.1472      0.192      5.985      0.000       0.758       1.536\n",
       "AOS                    1.1472      0.192      5.985      0.000       0.758       1.536\n",
       "NaCl                  -0.2324      0.271     -0.857      0.397      -0.783       0.318\n",
       "XG                     0.5681      0.283      2.006      0.053      -0.007       1.143\n",
       "shear_rate            -0.0027      0.000     -7.088      0.000      -0.003      -0.002\n",
       "==============================================================================\n",
       "Omnibus:                       31.864   Durbin-Watson:                   1.697\n",
       "Prob(Omnibus):                  0.000   Jarque-Bera (JB):              150.152\n",
       "Skew:                           0.531   Prob(JB):                     2.48e-33\n",
       "Kurtosis:                       7.508   Cond. No.                     8.88e+16\n",
       "==============================================================================\n",
       "\n",
       "Warnings:\n",
       "[1] Standard Errors assume that the covariance matrix of the errors is correctly specified.\n",
       "[2] The smallest eigenvalue is 1.76e-26. This might indicate that there are\n",
       "strong multicollinearity problems or that the design matrix is singular.\n",
       "\"\"\""
      ]
     },
     "execution_count": 138,
     "metadata": {},
     "output_type": "execute_result"
    }
   ],
   "source": [
    "### STATSMODELS ###\n",
    "\n",
    "# print a summary of the fitted model\n",
    "lm1.summary()"
   ]
  },
  {
   "cell_type": "markdown",
   "metadata": {},
   "source": [
    "# Feature Selection"
   ]
  },
  {
   "cell_type": "code",
   "execution_count": 139,
   "metadata": {},
   "outputs": [
    {
     "data": {
      "text/plain": [
       "0.240414929062029"
      ]
     },
     "execution_count": 139,
     "metadata": {},
     "output_type": "execute_result"
    }
   ],
   "source": [
    "### STATSMODELS ###\n",
    "\n",
    "# only include X and Y in the model\n",
    "\n",
    "# instantiate and fit model\n",
    "lm1 = smf.ols(formula='viscosity_cp ~ shear_rate', data=shear_df).fit()\n",
    "\n",
    "# calculate r-square \n",
    "lm1.rsquared"
   ]
  },
  {
   "cell_type": "code",
   "execution_count": 140,
   "metadata": {},
   "outputs": [
    {
     "data": {
      "text/plain": [
       "0.9548225013460407"
      ]
     },
     "execution_count": 140,
     "metadata": {},
     "output_type": "execute_result"
    }
   ],
   "source": [
    "### STATSMODELS ###\n",
    "\n",
    "# only include X and Y in the model\n",
    "\n",
    "# instantiate and fit model\n",
    "lm1 = smf.ols(formula='viscosity_cp ~ Pa + shear_rate', data=shear_df).fit()\n",
    "\n",
    "# calculate r-square \n",
    "lm1.rsquared"
   ]
  },
  {
   "cell_type": "code",
   "execution_count": 141,
   "metadata": {},
   "outputs": [
    {
     "data": {
      "text/plain": [
       "0.9591613374153249"
      ]
     },
     "execution_count": 141,
     "metadata": {},
     "output_type": "execute_result"
    }
   ],
   "source": [
    "### STATSMODELS ###\n",
    "\n",
    "# only include X and Y in the model\n",
    "\n",
    "# instantiate and fit model\n",
    "lm1 = smf.ols(formula='viscosity_cp ~ Foam_quality + Temperature + Pa + shear_rate', data=shear_df).fit()\n",
    "\n",
    "# calculate r-square \n",
    "lm1.rsquared"
   ]
  },
  {
   "cell_type": "code",
   "execution_count": 142,
   "metadata": {},
   "outputs": [
    {
     "data": {
      "text/plain": [
       "0.964260602708587"
      ]
     },
     "execution_count": 142,
     "metadata": {},
     "output_type": "execute_result"
    }
   ],
   "source": [
    "# add Foam(CO2,AOS,NaCl,SiO2,XG) to the model (which we believe has no association with cP)\n",
    "lm1 = smf.ols(formula='viscosity_cp ~ Foam_quality + Temperature + CO2 + AOS + NaCl + XG + Pa + shear_rate', data=shear_df).fit()\n",
    "lm1.rsquared"
   ]
  },
  {
   "cell_type": "code",
   "execution_count": 143,
   "metadata": {},
   "outputs": [
    {
     "data": {
      "image/png": "[encoded data removed]",
      "text/plain": [
       "<Figure size 1152x720 with 1 Axes>"
      ]
     },
     "metadata": {
      "needs_background": "light"
     },
     "output_type": "display_data"
    }
   ],
   "source": [
    "df1 = df.head(25)\n",
    "df1.plot(kind='bar',figsize=(16,10))\n",
    "plt.grid(which='major', linestyle='-', linewidth='0.5', color='green')\n",
    "plt.grid(which='minor', linestyle=':', linewidth='0.5', color='black')\n",
    "plt.show()"
   ]
  },
  {
   "cell_type": "markdown",
   "metadata": {},
   "source": [
    "## Model Evaluation"
   ]
  },
  {
   "cell_type": "code",
   "execution_count": 144,
   "metadata": {},
   "outputs": [
    {
     "name": "stdout",
     "output_type": "stream",
     "text": [
      "0.8964174103763863\n"
     ]
    }
   ],
   "source": [
    "# RMSE\n",
    "print(np.sqrt(metrics.mean_squared_error(y_test, y_pred)))"
   ]
  },
  {
   "cell_type": "markdown",
   "metadata": {},
   "source": [
    "# Compare"
   ]
  },
  {
   "cell_type": "code",
   "execution_count": 145,
   "metadata": {},
   "outputs": [
    {
     "name": "stdout",
     "output_type": "stream",
     "text": [
      "0.27061096812146274\n",
      "0.11834916695197274\n",
      "0.34401913747925816\n"
     ]
    }
   ],
   "source": [
    "from sklearn import metrics\n",
    "from sklearn.linear_model import LinearRegression\n",
    "from sklearn.model_selection import train_test_split\n",
    "\n",
    "feature_cols = ['Pa', 'shear_rate']\n",
    "\n",
    "X = shear_df[feature_cols] # Features\n",
    "y = shear_df.viscosity_cp # Target variable\n",
    "X_train,X_test,y_train,y_test=train_test_split(X,y,test_size=0.2,random_state=0)\n",
    "\n",
    "# instantiate the model (using the default parameters)\n",
    "logreg = LinearRegression()\n",
    "\n",
    "# fit the model with data\n",
    "logreg.fit(X_train,y_train)\n",
    "# try the testset\n",
    "y_pred=logreg.predict(X_test)\n",
    "\n",
    "df = pd.DataFrame({'Actual': y_test, 'Predicted': y_pred})\n",
    "df\n",
    "# calculate MAE, MSE, RMSE\n",
    "#MAE\n",
    "print(metrics.mean_absolute_error(y_test, y_pred))\n",
    "#MSE\n",
    "print(metrics.mean_squared_error(y_test, y_pred))\n",
    "# RMSE\n",
    "print(np.sqrt(metrics.mean_squared_error(y_test, y_pred)))"
   ]
  },
  {
   "cell_type": "code",
   "execution_count": 146,
   "metadata": {},
   "outputs": [
    {
     "name": "stdout",
     "output_type": "stream",
     "text": [
      "0.2594625372249355\n",
      "0.10240306187031617\n",
      "0.32000478413660655\n"
     ]
    }
   ],
   "source": [
    "from sklearn import metrics\n",
    "from sklearn.linear_model import LinearRegression\n",
    "from sklearn.model_selection import train_test_split\n",
    "\n",
    "feature_cols = ['Foam_quality','Temperature', 'CO2', 'AOS', 'NaCl', 'SiO2', 'XG','Pa', 'shear_rate']\n",
    "#feature_cols = [ 'shear_rate']\n",
    "\n",
    "X = shear_df[feature_cols] # Features\n",
    "y = shear_df.viscosity_cp # Target variable\n",
    "X_train,X_test,y_train,y_test=train_test_split(X,y,test_size=0.2,random_state=0)\n",
    "\n",
    "# instantiate the model (using the default parameters)\n",
    "logreg = LinearRegression()\n",
    "\n",
    "# fit the model with data\n",
    "logreg.fit(X_train,y_train)\n",
    "# try the testset\n",
    "y_pred=logreg.predict(X_test)\n",
    "\n",
    "df = pd.DataFrame({'Actual': y_test, 'Predicted': y_pred})\n",
    "df\n",
    "# calculate MAE, MSE, RMSE\n",
    "#MAE\n",
    "print(metrics.mean_absolute_error(y_test, y_pred))\n",
    "#MSE\n",
    "print(metrics.mean_squared_error(y_test, y_pred))\n",
    "# RMSE\n",
    "print(np.sqrt(metrics.mean_squared_error(y_test, y_pred)))"
   ]
  },
  {
   "cell_type": "code",
   "execution_count": 147,
   "metadata": {},
   "outputs": [
    {
     "ename": "AttributeError",
     "evalue": "'LinearRegression' object has no attribute 'conf_int'",
     "output_type": "error",
     "traceback": [
      "\u001b[1;31m---------------------------------------------------------------------------\u001b[0m",
      "\u001b[1;31mAttributeError\u001b[0m                            Traceback (most recent call last)",
      "\u001b[1;32m<ipython-input-147-0d136ea3d4ec>\u001b[0m in \u001b[0;36m<module>\u001b[1;34m\u001b[0m\n\u001b[0;32m      2\u001b[0m \u001b[1;33m\u001b[0m\u001b[0m\n\u001b[0;32m      3\u001b[0m \u001b[1;31m# print the confidence intervals for the model coefficients\u001b[0m\u001b[1;33m\u001b[0m\u001b[1;33m\u001b[0m\u001b[1;33m\u001b[0m\u001b[0m\n\u001b[1;32m----> 4\u001b[1;33m \u001b[0mlogreg\u001b[0m\u001b[1;33m.\u001b[0m\u001b[0mconf_int\u001b[0m\u001b[1;33m(\u001b[0m\u001b[1;33m)\u001b[0m\u001b[1;33m\u001b[0m\u001b[1;33m\u001b[0m\u001b[0m\n\u001b[0m",
      "\u001b[1;31mAttributeError\u001b[0m: 'LinearRegression' object has no attribute 'conf_int'"
     ]
    }
   ],
   "source": [
    "### STATSMODELS ###\n",
    "\n",
    "# print the confidence intervals for the model coefficients\n",
    "logreg.conf_int()"
   ]
  },
  {
   "cell_type": "code",
   "execution_count": 148,
   "metadata": {},
   "outputs": [
    {
     "ename": "ValueError",
     "evalue": "Classification metrics can't handle a mix of continuous and multiclass targets",
     "output_type": "error",
     "traceback": [
      "\u001b[1;31m---------------------------------------------------------------------------\u001b[0m",
      "\u001b[1;31mValueError\u001b[0m                                Traceback (most recent call last)",
      "\u001b[1;32m<ipython-input-148-a7249b18f747>\u001b[0m in \u001b[0;36m<module>\u001b[1;34m\u001b[0m\n\u001b[0;32m      4\u001b[0m \u001b[1;33m\u001b[0m\u001b[0m\n\u001b[0;32m      5\u001b[0m \u001b[0mpredicted\u001b[0m \u001b[1;33m=\u001b[0m \u001b[0mlogreg\u001b[0m\u001b[1;33m.\u001b[0m\u001b[0mpredict\u001b[0m\u001b[1;33m(\u001b[0m\u001b[0mX_test\u001b[0m\u001b[1;33m)\u001b[0m\u001b[1;33m\u001b[0m\u001b[1;33m\u001b[0m\u001b[0m\n\u001b[1;32m----> 6\u001b[1;33m \u001b[0mprint\u001b[0m\u001b[1;33m(\u001b[0m\u001b[0mconfusion_matrix\u001b[0m\u001b[1;33m(\u001b[0m\u001b[0my_test\u001b[0m\u001b[1;33m,\u001b[0m\u001b[0mpredicted\u001b[0m\u001b[1;33m.\u001b[0m\u001b[0mround\u001b[0m\u001b[1;33m(\u001b[0m\u001b[1;33m)\u001b[0m\u001b[1;33m)\u001b[0m\u001b[1;33m)\u001b[0m\u001b[1;33m\u001b[0m\u001b[1;33m\u001b[0m\u001b[0m\n\u001b[0m",
      "\u001b[1;32m~\\Anaconda3\\lib\\site-packages\\sklearn\\utils\\validation.py\u001b[0m in \u001b[0;36minner_f\u001b[1;34m(*args, **kwargs)\u001b[0m\n\u001b[0;32m     70\u001b[0m                           FutureWarning)\n\u001b[0;32m     71\u001b[0m         \u001b[0mkwargs\u001b[0m\u001b[1;33m.\u001b[0m\u001b[0mupdate\u001b[0m\u001b[1;33m(\u001b[0m\u001b[1;33m{\u001b[0m\u001b[0mk\u001b[0m\u001b[1;33m:\u001b[0m \u001b[0marg\u001b[0m \u001b[1;32mfor\u001b[0m \u001b[0mk\u001b[0m\u001b[1;33m,\u001b[0m \u001b[0marg\u001b[0m \u001b[1;32min\u001b[0m \u001b[0mzip\u001b[0m\u001b[1;33m(\u001b[0m\u001b[0msig\u001b[0m\u001b[1;33m.\u001b[0m\u001b[0mparameters\u001b[0m\u001b[1;33m,\u001b[0m \u001b[0margs\u001b[0m\u001b[1;33m)\u001b[0m\u001b[1;33m}\u001b[0m\u001b[1;33m)\u001b[0m\u001b[1;33m\u001b[0m\u001b[1;33m\u001b[0m\u001b[0m\n\u001b[1;32m---> 72\u001b[1;33m         \u001b[1;32mreturn\u001b[0m \u001b[0mf\u001b[0m\u001b[1;33m(\u001b[0m\u001b[1;33m**\u001b[0m\u001b[0mkwargs\u001b[0m\u001b[1;33m)\u001b[0m\u001b[1;33m\u001b[0m\u001b[1;33m\u001b[0m\u001b[0m\n\u001b[0m\u001b[0;32m     73\u001b[0m     \u001b[1;32mreturn\u001b[0m \u001b[0minner_f\u001b[0m\u001b[1;33m\u001b[0m\u001b[1;33m\u001b[0m\u001b[0m\n\u001b[0;32m     74\u001b[0m \u001b[1;33m\u001b[0m\u001b[0m\n",
      "\u001b[1;32m~\\Anaconda3\\lib\\site-packages\\sklearn\\metrics\\_classification.py\u001b[0m in \u001b[0;36mconfusion_matrix\u001b[1;34m(y_true, y_pred, labels, sample_weight, normalize)\u001b[0m\n\u001b[0;32m    274\u001b[0m \u001b[1;33m\u001b[0m\u001b[0m\n\u001b[0;32m    275\u001b[0m     \"\"\"\n\u001b[1;32m--> 276\u001b[1;33m     \u001b[0my_type\u001b[0m\u001b[1;33m,\u001b[0m \u001b[0my_true\u001b[0m\u001b[1;33m,\u001b[0m \u001b[0my_pred\u001b[0m \u001b[1;33m=\u001b[0m \u001b[0m_check_targets\u001b[0m\u001b[1;33m(\u001b[0m\u001b[0my_true\u001b[0m\u001b[1;33m,\u001b[0m \u001b[0my_pred\u001b[0m\u001b[1;33m)\u001b[0m\u001b[1;33m\u001b[0m\u001b[1;33m\u001b[0m\u001b[0m\n\u001b[0m\u001b[0;32m    277\u001b[0m     \u001b[1;32mif\u001b[0m \u001b[0my_type\u001b[0m \u001b[1;32mnot\u001b[0m \u001b[1;32min\u001b[0m \u001b[1;33m(\u001b[0m\u001b[1;34m\"binary\"\u001b[0m\u001b[1;33m,\u001b[0m \u001b[1;34m\"multiclass\"\u001b[0m\u001b[1;33m)\u001b[0m\u001b[1;33m:\u001b[0m\u001b[1;33m\u001b[0m\u001b[1;33m\u001b[0m\u001b[0m\n\u001b[0;32m    278\u001b[0m         \u001b[1;32mraise\u001b[0m \u001b[0mValueError\u001b[0m\u001b[1;33m(\u001b[0m\u001b[1;34m\"%s is not supported\"\u001b[0m \u001b[1;33m%\u001b[0m \u001b[0my_type\u001b[0m\u001b[1;33m)\u001b[0m\u001b[1;33m\u001b[0m\u001b[1;33m\u001b[0m\u001b[0m\n",
      "\u001b[1;32m~\\Anaconda3\\lib\\site-packages\\sklearn\\metrics\\_classification.py\u001b[0m in \u001b[0;36m_check_targets\u001b[1;34m(y_true, y_pred)\u001b[0m\n\u001b[0;32m     89\u001b[0m     \u001b[1;32mif\u001b[0m \u001b[0mlen\u001b[0m\u001b[1;33m(\u001b[0m\u001b[0my_type\u001b[0m\u001b[1;33m)\u001b[0m \u001b[1;33m>\u001b[0m \u001b[1;36m1\u001b[0m\u001b[1;33m:\u001b[0m\u001b[1;33m\u001b[0m\u001b[1;33m\u001b[0m\u001b[0m\n\u001b[0;32m     90\u001b[0m         raise ValueError(\"Classification metrics can't handle a mix of {0} \"\n\u001b[1;32m---> 91\u001b[1;33m                          \"and {1} targets\".format(type_true, type_pred))\n\u001b[0m\u001b[0;32m     92\u001b[0m \u001b[1;33m\u001b[0m\u001b[0m\n\u001b[0;32m     93\u001b[0m     \u001b[1;31m# We can't have more than one value on y_type => The set is no more needed\u001b[0m\u001b[1;33m\u001b[0m\u001b[1;33m\u001b[0m\u001b[1;33m\u001b[0m\u001b[0m\n",
      "\u001b[1;31mValueError\u001b[0m: Classification metrics can't handle a mix of continuous and multiclass targets"
     ]
    }
   ],
   "source": [
    "# import the metrics class\n",
    "\n",
    "from sklearn.metrics import confusion_matrix\n",
    "\n",
    "predicted = logreg.predict(X_test)\n",
    "print(confusion_matrix(y_test,predicted.round()))"
   ]
  },
  {
   "cell_type": "code",
   "execution_count": 149,
   "metadata": {},
   "outputs": [
    {
     "ename": "NameError",
     "evalue": "name 'sgd_clf' is not defined",
     "output_type": "error",
     "traceback": [
      "\u001b[1;31m---------------------------------------------------------------------------\u001b[0m",
      "\u001b[1;31mNameError\u001b[0m                                 Traceback (most recent call last)",
      "\u001b[1;32m<ipython-input-149-29f57d91420f>\u001b[0m in \u001b[0;36m<module>\u001b[1;34m\u001b[0m\n\u001b[0;32m      1\u001b[0m \u001b[1;31m# Creating some predictions.\u001b[0m\u001b[1;33m\u001b[0m\u001b[1;33m\u001b[0m\u001b[1;33m\u001b[0m\u001b[0m\n\u001b[0;32m      2\u001b[0m \u001b[1;32mfrom\u001b[0m \u001b[0msklearn\u001b[0m\u001b[1;33m.\u001b[0m\u001b[0mmodel_selection\u001b[0m \u001b[1;32mimport\u001b[0m \u001b[0mcross_val_predict\u001b[0m\u001b[1;33m\u001b[0m\u001b[1;33m\u001b[0m\u001b[0m\n\u001b[1;32m----> 3\u001b[1;33m \u001b[0my_train_pred\u001b[0m \u001b[1;33m=\u001b[0m \u001b[0mcross_val_predict\u001b[0m\u001b[1;33m(\u001b[0m\u001b[0msgd_clf\u001b[0m\u001b[1;33m,\u001b[0m \u001b[0mX_train\u001b[0m\u001b[1;33m,\u001b[0m \u001b[0my_train\u001b[0m\u001b[1;33m,\u001b[0m \u001b[0mcv\u001b[0m\u001b[1;33m=\u001b[0m\u001b[1;36m3\u001b[0m\u001b[1;33m)\u001b[0m\u001b[1;33m\u001b[0m\u001b[1;33m\u001b[0m\u001b[0m\n\u001b[0m",
      "\u001b[1;31mNameError\u001b[0m: name 'sgd_clf' is not defined"
     ]
    }
   ],
   "source": [
    "# Creating some predictions.\n",
    "from sklearn.model_selection import cross_val_predict\n",
    "y_train_pred = cross_val_predict(sgd_clf, X_train, y_train, cv=3)"
   ]
  },
  {
   "cell_type": "code",
   "execution_count": 150,
   "metadata": {},
   "outputs": [
    {
     "ename": "ValueError",
     "evalue": "continuous is not supported",
     "output_type": "error",
     "traceback": [
      "\u001b[1;31m---------------------------------------------------------------------------\u001b[0m",
      "\u001b[1;31mValueError\u001b[0m                                Traceback (most recent call last)",
      "\u001b[1;32m<ipython-input-150-ce094bccd796>\u001b[0m in \u001b[0;36m<module>\u001b[1;34m\u001b[0m\n\u001b[0;32m      1\u001b[0m \u001b[1;32mfrom\u001b[0m \u001b[0msklearn\u001b[0m\u001b[1;33m.\u001b[0m\u001b[0mmetrics\u001b[0m \u001b[1;32mimport\u001b[0m \u001b[0maccuracy_score\u001b[0m\u001b[1;33m\u001b[0m\u001b[1;33m\u001b[0m\u001b[0m\n\u001b[1;32m----> 2\u001b[1;33m \u001b[0maccuracy_score\u001b[0m\u001b[1;33m(\u001b[0m\u001b[0my_test\u001b[0m\u001b[1;33m,\u001b[0m \u001b[0my_pred\u001b[0m\u001b[1;33m)\u001b[0m\u001b[1;33m\u001b[0m\u001b[1;33m\u001b[0m\u001b[0m\n\u001b[0m",
      "\u001b[1;32m~\\Anaconda3\\lib\\site-packages\\sklearn\\utils\\validation.py\u001b[0m in \u001b[0;36minner_f\u001b[1;34m(*args, **kwargs)\u001b[0m\n\u001b[0;32m     70\u001b[0m                           FutureWarning)\n\u001b[0;32m     71\u001b[0m         \u001b[0mkwargs\u001b[0m\u001b[1;33m.\u001b[0m\u001b[0mupdate\u001b[0m\u001b[1;33m(\u001b[0m\u001b[1;33m{\u001b[0m\u001b[0mk\u001b[0m\u001b[1;33m:\u001b[0m \u001b[0marg\u001b[0m \u001b[1;32mfor\u001b[0m \u001b[0mk\u001b[0m\u001b[1;33m,\u001b[0m \u001b[0marg\u001b[0m \u001b[1;32min\u001b[0m \u001b[0mzip\u001b[0m\u001b[1;33m(\u001b[0m\u001b[0msig\u001b[0m\u001b[1;33m.\u001b[0m\u001b[0mparameters\u001b[0m\u001b[1;33m,\u001b[0m \u001b[0margs\u001b[0m\u001b[1;33m)\u001b[0m\u001b[1;33m}\u001b[0m\u001b[1;33m)\u001b[0m\u001b[1;33m\u001b[0m\u001b[1;33m\u001b[0m\u001b[0m\n\u001b[1;32m---> 72\u001b[1;33m         \u001b[1;32mreturn\u001b[0m \u001b[0mf\u001b[0m\u001b[1;33m(\u001b[0m\u001b[1;33m**\u001b[0m\u001b[0mkwargs\u001b[0m\u001b[1;33m)\u001b[0m\u001b[1;33m\u001b[0m\u001b[1;33m\u001b[0m\u001b[0m\n\u001b[0m\u001b[0;32m     73\u001b[0m     \u001b[1;32mreturn\u001b[0m \u001b[0minner_f\u001b[0m\u001b[1;33m\u001b[0m\u001b[1;33m\u001b[0m\u001b[0m\n\u001b[0;32m     74\u001b[0m \u001b[1;33m\u001b[0m\u001b[0m\n",
      "\u001b[1;32m~\\Anaconda3\\lib\\site-packages\\sklearn\\metrics\\_classification.py\u001b[0m in \u001b[0;36maccuracy_score\u001b[1;34m(y_true, y_pred, normalize, sample_weight)\u001b[0m\n\u001b[0;32m    185\u001b[0m \u001b[1;33m\u001b[0m\u001b[0m\n\u001b[0;32m    186\u001b[0m     \u001b[1;31m# Compute accuracy for each possible representation\u001b[0m\u001b[1;33m\u001b[0m\u001b[1;33m\u001b[0m\u001b[1;33m\u001b[0m\u001b[0m\n\u001b[1;32m--> 187\u001b[1;33m     \u001b[0my_type\u001b[0m\u001b[1;33m,\u001b[0m \u001b[0my_true\u001b[0m\u001b[1;33m,\u001b[0m \u001b[0my_pred\u001b[0m \u001b[1;33m=\u001b[0m \u001b[0m_check_targets\u001b[0m\u001b[1;33m(\u001b[0m\u001b[0my_true\u001b[0m\u001b[1;33m,\u001b[0m \u001b[0my_pred\u001b[0m\u001b[1;33m)\u001b[0m\u001b[1;33m\u001b[0m\u001b[1;33m\u001b[0m\u001b[0m\n\u001b[0m\u001b[0;32m    188\u001b[0m     \u001b[0mcheck_consistent_length\u001b[0m\u001b[1;33m(\u001b[0m\u001b[0my_true\u001b[0m\u001b[1;33m,\u001b[0m \u001b[0my_pred\u001b[0m\u001b[1;33m,\u001b[0m \u001b[0msample_weight\u001b[0m\u001b[1;33m)\u001b[0m\u001b[1;33m\u001b[0m\u001b[1;33m\u001b[0m\u001b[0m\n\u001b[0;32m    189\u001b[0m     \u001b[1;32mif\u001b[0m \u001b[0my_type\u001b[0m\u001b[1;33m.\u001b[0m\u001b[0mstartswith\u001b[0m\u001b[1;33m(\u001b[0m\u001b[1;34m'multilabel'\u001b[0m\u001b[1;33m)\u001b[0m\u001b[1;33m:\u001b[0m\u001b[1;33m\u001b[0m\u001b[1;33m\u001b[0m\u001b[0m\n",
      "\u001b[1;32m~\\Anaconda3\\lib\\site-packages\\sklearn\\metrics\\_classification.py\u001b[0m in \u001b[0;36m_check_targets\u001b[1;34m(y_true, y_pred)\u001b[0m\n\u001b[0;32m     96\u001b[0m     \u001b[1;31m# No metrics support \"multiclass-multioutput\" format\u001b[0m\u001b[1;33m\u001b[0m\u001b[1;33m\u001b[0m\u001b[1;33m\u001b[0m\u001b[0m\n\u001b[0;32m     97\u001b[0m     \u001b[1;32mif\u001b[0m \u001b[1;33m(\u001b[0m\u001b[0my_type\u001b[0m \u001b[1;32mnot\u001b[0m \u001b[1;32min\u001b[0m \u001b[1;33m[\u001b[0m\u001b[1;34m\"binary\"\u001b[0m\u001b[1;33m,\u001b[0m \u001b[1;34m\"multiclass\"\u001b[0m\u001b[1;33m,\u001b[0m \u001b[1;34m\"multilabel-indicator\"\u001b[0m\u001b[1;33m]\u001b[0m\u001b[1;33m)\u001b[0m\u001b[1;33m:\u001b[0m\u001b[1;33m\u001b[0m\u001b[1;33m\u001b[0m\u001b[0m\n\u001b[1;32m---> 98\u001b[1;33m         \u001b[1;32mraise\u001b[0m \u001b[0mValueError\u001b[0m\u001b[1;33m(\u001b[0m\u001b[1;34m\"{0} is not supported\"\u001b[0m\u001b[1;33m.\u001b[0m\u001b[0mformat\u001b[0m\u001b[1;33m(\u001b[0m\u001b[0my_type\u001b[0m\u001b[1;33m)\u001b[0m\u001b[1;33m)\u001b[0m\u001b[1;33m\u001b[0m\u001b[1;33m\u001b[0m\u001b[0m\n\u001b[0m\u001b[0;32m     99\u001b[0m \u001b[1;33m\u001b[0m\u001b[0m\n\u001b[0;32m    100\u001b[0m     \u001b[1;32mif\u001b[0m \u001b[0my_type\u001b[0m \u001b[1;32min\u001b[0m \u001b[1;33m[\u001b[0m\u001b[1;34m\"binary\"\u001b[0m\u001b[1;33m,\u001b[0m \u001b[1;34m\"multiclass\"\u001b[0m\u001b[1;33m]\u001b[0m\u001b[1;33m:\u001b[0m\u001b[1;33m\u001b[0m\u001b[1;33m\u001b[0m\u001b[0m\n",
      "\u001b[1;31mValueError\u001b[0m: continuous is not supported"
     ]
    }
   ],
   "source": [
    "from sklearn.metrics import accuracy_score\n",
    "accuracy_score(y_test, y_pred)"
   ]
  },
  {
   "cell_type": "markdown",
   "metadata": {},
   "source": [
    "## precision and recall"
   ]
  },
  {
   "cell_type": "code",
   "execution_count": 151,
   "metadata": {},
   "outputs": [
    {
     "ename": "ValueError",
     "evalue": "Found input variables with inconsistent numbers of samples: [134, 34]",
     "output_type": "error",
     "traceback": [
      "\u001b[1;31m---------------------------------------------------------------------------\u001b[0m",
      "\u001b[1;31mValueError\u001b[0m                                Traceback (most recent call last)",
      "\u001b[1;32m<ipython-input-151-725dbee1c411>\u001b[0m in \u001b[0;36m<module>\u001b[1;34m\u001b[0m\n\u001b[0;32m      1\u001b[0m \u001b[1;32mfrom\u001b[0m \u001b[0msklearn\u001b[0m\u001b[1;33m.\u001b[0m\u001b[0mmetrics\u001b[0m \u001b[1;32mimport\u001b[0m \u001b[0mprecision_score\u001b[0m\u001b[1;33m,\u001b[0m \u001b[0mrecall_score\u001b[0m\u001b[1;33m\u001b[0m\u001b[1;33m\u001b[0m\u001b[0m\n\u001b[1;32m----> 2\u001b[1;33m \u001b[0mprecision_score\u001b[0m\u001b[1;33m(\u001b[0m\u001b[0my_train\u001b[0m\u001b[1;33m,\u001b[0m \u001b[0my_pred\u001b[0m\u001b[1;33m)\u001b[0m\u001b[1;33m\u001b[0m\u001b[1;33m\u001b[0m\u001b[0m\n\u001b[0m\u001b[0;32m      3\u001b[0m \u001b[0mrecall_score\u001b[0m\u001b[1;33m(\u001b[0m\u001b[0my_train\u001b[0m\u001b[1;33m,\u001b[0m \u001b[0my_pred\u001b[0m\u001b[1;33m)\u001b[0m\u001b[1;33m\u001b[0m\u001b[1;33m\u001b[0m\u001b[0m\n",
      "\u001b[1;32m~\\Anaconda3\\lib\\site-packages\\sklearn\\utils\\validation.py\u001b[0m in \u001b[0;36minner_f\u001b[1;34m(*args, **kwargs)\u001b[0m\n\u001b[0;32m     70\u001b[0m                           FutureWarning)\n\u001b[0;32m     71\u001b[0m         \u001b[0mkwargs\u001b[0m\u001b[1;33m.\u001b[0m\u001b[0mupdate\u001b[0m\u001b[1;33m(\u001b[0m\u001b[1;33m{\u001b[0m\u001b[0mk\u001b[0m\u001b[1;33m:\u001b[0m \u001b[0marg\u001b[0m \u001b[1;32mfor\u001b[0m \u001b[0mk\u001b[0m\u001b[1;33m,\u001b[0m \u001b[0marg\u001b[0m \u001b[1;32min\u001b[0m \u001b[0mzip\u001b[0m\u001b[1;33m(\u001b[0m\u001b[0msig\u001b[0m\u001b[1;33m.\u001b[0m\u001b[0mparameters\u001b[0m\u001b[1;33m,\u001b[0m \u001b[0margs\u001b[0m\u001b[1;33m)\u001b[0m\u001b[1;33m}\u001b[0m\u001b[1;33m)\u001b[0m\u001b[1;33m\u001b[0m\u001b[1;33m\u001b[0m\u001b[0m\n\u001b[1;32m---> 72\u001b[1;33m         \u001b[1;32mreturn\u001b[0m \u001b[0mf\u001b[0m\u001b[1;33m(\u001b[0m\u001b[1;33m**\u001b[0m\u001b[0mkwargs\u001b[0m\u001b[1;33m)\u001b[0m\u001b[1;33m\u001b[0m\u001b[1;33m\u001b[0m\u001b[0m\n\u001b[0m\u001b[0;32m     73\u001b[0m     \u001b[1;32mreturn\u001b[0m \u001b[0minner_f\u001b[0m\u001b[1;33m\u001b[0m\u001b[1;33m\u001b[0m\u001b[0m\n\u001b[0;32m     74\u001b[0m \u001b[1;33m\u001b[0m\u001b[0m\n",
      "\u001b[1;32m~\\Anaconda3\\lib\\site-packages\\sklearn\\metrics\\_classification.py\u001b[0m in \u001b[0;36mprecision_score\u001b[1;34m(y_true, y_pred, labels, pos_label, average, sample_weight, zero_division)\u001b[0m\n\u001b[0;32m   1621\u001b[0m                                                  \u001b[0mwarn_for\u001b[0m\u001b[1;33m=\u001b[0m\u001b[1;33m(\u001b[0m\u001b[1;34m'precision'\u001b[0m\u001b[1;33m,\u001b[0m\u001b[1;33m)\u001b[0m\u001b[1;33m,\u001b[0m\u001b[1;33m\u001b[0m\u001b[1;33m\u001b[0m\u001b[0m\n\u001b[0;32m   1622\u001b[0m                                                  \u001b[0msample_weight\u001b[0m\u001b[1;33m=\u001b[0m\u001b[0msample_weight\u001b[0m\u001b[1;33m,\u001b[0m\u001b[1;33m\u001b[0m\u001b[1;33m\u001b[0m\u001b[0m\n\u001b[1;32m-> 1623\u001b[1;33m                                                  zero_division=zero_division)\n\u001b[0m\u001b[0;32m   1624\u001b[0m     \u001b[1;32mreturn\u001b[0m \u001b[0mp\u001b[0m\u001b[1;33m\u001b[0m\u001b[1;33m\u001b[0m\u001b[0m\n\u001b[0;32m   1625\u001b[0m \u001b[1;33m\u001b[0m\u001b[0m\n",
      "\u001b[1;32m~\\Anaconda3\\lib\\site-packages\\sklearn\\utils\\validation.py\u001b[0m in \u001b[0;36minner_f\u001b[1;34m(*args, **kwargs)\u001b[0m\n\u001b[0;32m     70\u001b[0m                           FutureWarning)\n\u001b[0;32m     71\u001b[0m         \u001b[0mkwargs\u001b[0m\u001b[1;33m.\u001b[0m\u001b[0mupdate\u001b[0m\u001b[1;33m(\u001b[0m\u001b[1;33m{\u001b[0m\u001b[0mk\u001b[0m\u001b[1;33m:\u001b[0m \u001b[0marg\u001b[0m \u001b[1;32mfor\u001b[0m \u001b[0mk\u001b[0m\u001b[1;33m,\u001b[0m \u001b[0marg\u001b[0m \u001b[1;32min\u001b[0m \u001b[0mzip\u001b[0m\u001b[1;33m(\u001b[0m\u001b[0msig\u001b[0m\u001b[1;33m.\u001b[0m\u001b[0mparameters\u001b[0m\u001b[1;33m,\u001b[0m \u001b[0margs\u001b[0m\u001b[1;33m)\u001b[0m\u001b[1;33m}\u001b[0m\u001b[1;33m)\u001b[0m\u001b[1;33m\u001b[0m\u001b[1;33m\u001b[0m\u001b[0m\n\u001b[1;32m---> 72\u001b[1;33m         \u001b[1;32mreturn\u001b[0m \u001b[0mf\u001b[0m\u001b[1;33m(\u001b[0m\u001b[1;33m**\u001b[0m\u001b[0mkwargs\u001b[0m\u001b[1;33m)\u001b[0m\u001b[1;33m\u001b[0m\u001b[1;33m\u001b[0m\u001b[0m\n\u001b[0m\u001b[0;32m     73\u001b[0m     \u001b[1;32mreturn\u001b[0m \u001b[0minner_f\u001b[0m\u001b[1;33m\u001b[0m\u001b[1;33m\u001b[0m\u001b[0m\n\u001b[0;32m     74\u001b[0m \u001b[1;33m\u001b[0m\u001b[0m\n",
      "\u001b[1;32m~\\Anaconda3\\lib\\site-packages\\sklearn\\metrics\\_classification.py\u001b[0m in \u001b[0;36mprecision_recall_fscore_support\u001b[1;34m(y_true, y_pred, beta, labels, pos_label, average, warn_for, sample_weight, zero_division)\u001b[0m\n\u001b[0;32m   1432\u001b[0m         \u001b[1;32mraise\u001b[0m \u001b[0mValueError\u001b[0m\u001b[1;33m(\u001b[0m\u001b[1;34m\"beta should be >=0 in the F-beta score\"\u001b[0m\u001b[1;33m)\u001b[0m\u001b[1;33m\u001b[0m\u001b[1;33m\u001b[0m\u001b[0m\n\u001b[0;32m   1433\u001b[0m     labels = _check_set_wise_labels(y_true, y_pred, average, labels,\n\u001b[1;32m-> 1434\u001b[1;33m                                     pos_label)\n\u001b[0m\u001b[0;32m   1435\u001b[0m \u001b[1;33m\u001b[0m\u001b[0m\n\u001b[0;32m   1436\u001b[0m     \u001b[1;31m# Calculate tp_sum, pred_sum, true_sum ###\u001b[0m\u001b[1;33m\u001b[0m\u001b[1;33m\u001b[0m\u001b[1;33m\u001b[0m\u001b[0m\n",
      "\u001b[1;32m~\\Anaconda3\\lib\\site-packages\\sklearn\\metrics\\_classification.py\u001b[0m in \u001b[0;36m_check_set_wise_labels\u001b[1;34m(y_true, y_pred, average, labels, pos_label)\u001b[0m\n\u001b[0;32m   1248\u001b[0m                          str(average_options))\n\u001b[0;32m   1249\u001b[0m \u001b[1;33m\u001b[0m\u001b[0m\n\u001b[1;32m-> 1250\u001b[1;33m     \u001b[0my_type\u001b[0m\u001b[1;33m,\u001b[0m \u001b[0my_true\u001b[0m\u001b[1;33m,\u001b[0m \u001b[0my_pred\u001b[0m \u001b[1;33m=\u001b[0m \u001b[0m_check_targets\u001b[0m\u001b[1;33m(\u001b[0m\u001b[0my_true\u001b[0m\u001b[1;33m,\u001b[0m \u001b[0my_pred\u001b[0m\u001b[1;33m)\u001b[0m\u001b[1;33m\u001b[0m\u001b[1;33m\u001b[0m\u001b[0m\n\u001b[0m\u001b[0;32m   1251\u001b[0m     \u001b[0mpresent_labels\u001b[0m \u001b[1;33m=\u001b[0m \u001b[0munique_labels\u001b[0m\u001b[1;33m(\u001b[0m\u001b[0my_true\u001b[0m\u001b[1;33m,\u001b[0m \u001b[0my_pred\u001b[0m\u001b[1;33m)\u001b[0m\u001b[1;33m\u001b[0m\u001b[1;33m\u001b[0m\u001b[0m\n\u001b[0;32m   1252\u001b[0m     \u001b[1;32mif\u001b[0m \u001b[0maverage\u001b[0m \u001b[1;33m==\u001b[0m \u001b[1;34m'binary'\u001b[0m\u001b[1;33m:\u001b[0m\u001b[1;33m\u001b[0m\u001b[1;33m\u001b[0m\u001b[0m\n",
      "\u001b[1;32m~\\Anaconda3\\lib\\site-packages\\sklearn\\metrics\\_classification.py\u001b[0m in \u001b[0;36m_check_targets\u001b[1;34m(y_true, y_pred)\u001b[0m\n\u001b[0;32m     79\u001b[0m     \u001b[0my_pred\u001b[0m \u001b[1;33m:\u001b[0m \u001b[0marray\u001b[0m \u001b[1;32mor\u001b[0m \u001b[0mindicator\u001b[0m \u001b[0mmatrix\u001b[0m\u001b[1;33m\u001b[0m\u001b[1;33m\u001b[0m\u001b[0m\n\u001b[0;32m     80\u001b[0m     \"\"\"\n\u001b[1;32m---> 81\u001b[1;33m     \u001b[0mcheck_consistent_length\u001b[0m\u001b[1;33m(\u001b[0m\u001b[0my_true\u001b[0m\u001b[1;33m,\u001b[0m \u001b[0my_pred\u001b[0m\u001b[1;33m)\u001b[0m\u001b[1;33m\u001b[0m\u001b[1;33m\u001b[0m\u001b[0m\n\u001b[0m\u001b[0;32m     82\u001b[0m     \u001b[0mtype_true\u001b[0m \u001b[1;33m=\u001b[0m \u001b[0mtype_of_target\u001b[0m\u001b[1;33m(\u001b[0m\u001b[0my_true\u001b[0m\u001b[1;33m)\u001b[0m\u001b[1;33m\u001b[0m\u001b[1;33m\u001b[0m\u001b[0m\n\u001b[0;32m     83\u001b[0m     \u001b[0mtype_pred\u001b[0m \u001b[1;33m=\u001b[0m \u001b[0mtype_of_target\u001b[0m\u001b[1;33m(\u001b[0m\u001b[0my_pred\u001b[0m\u001b[1;33m)\u001b[0m\u001b[1;33m\u001b[0m\u001b[1;33m\u001b[0m\u001b[0m\n",
      "\u001b[1;32m~\\Anaconda3\\lib\\site-packages\\sklearn\\utils\\validation.py\u001b[0m in \u001b[0;36mcheck_consistent_length\u001b[1;34m(*arrays)\u001b[0m\n\u001b[0;32m    254\u001b[0m     \u001b[1;32mif\u001b[0m \u001b[0mlen\u001b[0m\u001b[1;33m(\u001b[0m\u001b[0muniques\u001b[0m\u001b[1;33m)\u001b[0m \u001b[1;33m>\u001b[0m \u001b[1;36m1\u001b[0m\u001b[1;33m:\u001b[0m\u001b[1;33m\u001b[0m\u001b[1;33m\u001b[0m\u001b[0m\n\u001b[0;32m    255\u001b[0m         raise ValueError(\"Found input variables with inconsistent numbers of\"\n\u001b[1;32m--> 256\u001b[1;33m                          \" samples: %r\" % [int(l) for l in lengths])\n\u001b[0m\u001b[0;32m    257\u001b[0m \u001b[1;33m\u001b[0m\u001b[0m\n\u001b[0;32m    258\u001b[0m \u001b[1;33m\u001b[0m\u001b[0m\n",
      "\u001b[1;31mValueError\u001b[0m: Found input variables with inconsistent numbers of samples: [134, 34]"
     ]
    }
   ],
   "source": [
    "from sklearn.metrics import precision_score, recall_score\n",
    "precision_score(y_train, y_pred)\n",
    "recall_score(y_train, y_pred)"
   ]
  },
  {
   "cell_type": "markdown",
   "metadata": {},
   "source": [
    "## F1 score"
   ]
  },
  {
   "cell_type": "code",
   "execution_count": 152,
   "metadata": {},
   "outputs": [
    {
     "ename": "ValueError",
     "evalue": "Found input variables with inconsistent numbers of samples: [134, 34]",
     "output_type": "error",
     "traceback": [
      "\u001b[1;31m---------------------------------------------------------------------------\u001b[0m",
      "\u001b[1;31mValueError\u001b[0m                                Traceback (most recent call last)",
      "\u001b[1;32m<ipython-input-152-3cab148660ac>\u001b[0m in \u001b[0;36m<module>\u001b[1;34m\u001b[0m\n\u001b[0;32m      1\u001b[0m \u001b[1;32mfrom\u001b[0m \u001b[0msklearn\u001b[0m\u001b[1;33m.\u001b[0m\u001b[0mmetrics\u001b[0m \u001b[1;32mimport\u001b[0m \u001b[0mf1_score\u001b[0m\u001b[1;33m\u001b[0m\u001b[1;33m\u001b[0m\u001b[0m\n\u001b[1;32m----> 2\u001b[1;33m \u001b[0mf1_score\u001b[0m\u001b[1;33m(\u001b[0m\u001b[0my_train\u001b[0m\u001b[1;33m,\u001b[0m \u001b[0my_pred\u001b[0m\u001b[1;33m)\u001b[0m\u001b[1;33m\u001b[0m\u001b[1;33m\u001b[0m\u001b[0m\n\u001b[0m",
      "\u001b[1;32m~\\Anaconda3\\lib\\site-packages\\sklearn\\utils\\validation.py\u001b[0m in \u001b[0;36minner_f\u001b[1;34m(*args, **kwargs)\u001b[0m\n\u001b[0;32m     70\u001b[0m                           FutureWarning)\n\u001b[0;32m     71\u001b[0m         \u001b[0mkwargs\u001b[0m\u001b[1;33m.\u001b[0m\u001b[0mupdate\u001b[0m\u001b[1;33m(\u001b[0m\u001b[1;33m{\u001b[0m\u001b[0mk\u001b[0m\u001b[1;33m:\u001b[0m \u001b[0marg\u001b[0m \u001b[1;32mfor\u001b[0m \u001b[0mk\u001b[0m\u001b[1;33m,\u001b[0m \u001b[0marg\u001b[0m \u001b[1;32min\u001b[0m \u001b[0mzip\u001b[0m\u001b[1;33m(\u001b[0m\u001b[0msig\u001b[0m\u001b[1;33m.\u001b[0m\u001b[0mparameters\u001b[0m\u001b[1;33m,\u001b[0m \u001b[0margs\u001b[0m\u001b[1;33m)\u001b[0m\u001b[1;33m}\u001b[0m\u001b[1;33m)\u001b[0m\u001b[1;33m\u001b[0m\u001b[1;33m\u001b[0m\u001b[0m\n\u001b[1;32m---> 72\u001b[1;33m         \u001b[1;32mreturn\u001b[0m \u001b[0mf\u001b[0m\u001b[1;33m(\u001b[0m\u001b[1;33m**\u001b[0m\u001b[0mkwargs\u001b[0m\u001b[1;33m)\u001b[0m\u001b[1;33m\u001b[0m\u001b[1;33m\u001b[0m\u001b[0m\n\u001b[0m\u001b[0;32m     73\u001b[0m     \u001b[1;32mreturn\u001b[0m \u001b[0minner_f\u001b[0m\u001b[1;33m\u001b[0m\u001b[1;33m\u001b[0m\u001b[0m\n\u001b[0;32m     74\u001b[0m \u001b[1;33m\u001b[0m\u001b[0m\n",
      "\u001b[1;32m~\\Anaconda3\\lib\\site-packages\\sklearn\\metrics\\_classification.py\u001b[0m in \u001b[0;36mf1_score\u001b[1;34m(y_true, y_pred, labels, pos_label, average, sample_weight, zero_division)\u001b[0m\n\u001b[0;32m   1045\u001b[0m                        \u001b[0mpos_label\u001b[0m\u001b[1;33m=\u001b[0m\u001b[0mpos_label\u001b[0m\u001b[1;33m,\u001b[0m \u001b[0maverage\u001b[0m\u001b[1;33m=\u001b[0m\u001b[0maverage\u001b[0m\u001b[1;33m,\u001b[0m\u001b[1;33m\u001b[0m\u001b[1;33m\u001b[0m\u001b[0m\n\u001b[0;32m   1046\u001b[0m                        \u001b[0msample_weight\u001b[0m\u001b[1;33m=\u001b[0m\u001b[0msample_weight\u001b[0m\u001b[1;33m,\u001b[0m\u001b[1;33m\u001b[0m\u001b[1;33m\u001b[0m\u001b[0m\n\u001b[1;32m-> 1047\u001b[1;33m                        zero_division=zero_division)\n\u001b[0m\u001b[0;32m   1048\u001b[0m \u001b[1;33m\u001b[0m\u001b[0m\n\u001b[0;32m   1049\u001b[0m \u001b[1;33m\u001b[0m\u001b[0m\n",
      "\u001b[1;32m~\\Anaconda3\\lib\\site-packages\\sklearn\\utils\\validation.py\u001b[0m in \u001b[0;36minner_f\u001b[1;34m(*args, **kwargs)\u001b[0m\n\u001b[0;32m     70\u001b[0m                           FutureWarning)\n\u001b[0;32m     71\u001b[0m         \u001b[0mkwargs\u001b[0m\u001b[1;33m.\u001b[0m\u001b[0mupdate\u001b[0m\u001b[1;33m(\u001b[0m\u001b[1;33m{\u001b[0m\u001b[0mk\u001b[0m\u001b[1;33m:\u001b[0m \u001b[0marg\u001b[0m \u001b[1;32mfor\u001b[0m \u001b[0mk\u001b[0m\u001b[1;33m,\u001b[0m \u001b[0marg\u001b[0m \u001b[1;32min\u001b[0m \u001b[0mzip\u001b[0m\u001b[1;33m(\u001b[0m\u001b[0msig\u001b[0m\u001b[1;33m.\u001b[0m\u001b[0mparameters\u001b[0m\u001b[1;33m,\u001b[0m \u001b[0margs\u001b[0m\u001b[1;33m)\u001b[0m\u001b[1;33m}\u001b[0m\u001b[1;33m)\u001b[0m\u001b[1;33m\u001b[0m\u001b[1;33m\u001b[0m\u001b[0m\n\u001b[1;32m---> 72\u001b[1;33m         \u001b[1;32mreturn\u001b[0m \u001b[0mf\u001b[0m\u001b[1;33m(\u001b[0m\u001b[1;33m**\u001b[0m\u001b[0mkwargs\u001b[0m\u001b[1;33m)\u001b[0m\u001b[1;33m\u001b[0m\u001b[1;33m\u001b[0m\u001b[0m\n\u001b[0m\u001b[0;32m     73\u001b[0m     \u001b[1;32mreturn\u001b[0m \u001b[0minner_f\u001b[0m\u001b[1;33m\u001b[0m\u001b[1;33m\u001b[0m\u001b[0m\n\u001b[0;32m     74\u001b[0m \u001b[1;33m\u001b[0m\u001b[0m\n",
      "\u001b[1;32m~\\Anaconda3\\lib\\site-packages\\sklearn\\metrics\\_classification.py\u001b[0m in \u001b[0;36mfbeta_score\u001b[1;34m(y_true, y_pred, beta, labels, pos_label, average, sample_weight, zero_division)\u001b[0m\n\u001b[0;32m   1173\u001b[0m                                                  \u001b[0mwarn_for\u001b[0m\u001b[1;33m=\u001b[0m\u001b[1;33m(\u001b[0m\u001b[1;34m'f-score'\u001b[0m\u001b[1;33m,\u001b[0m\u001b[1;33m)\u001b[0m\u001b[1;33m,\u001b[0m\u001b[1;33m\u001b[0m\u001b[1;33m\u001b[0m\u001b[0m\n\u001b[0;32m   1174\u001b[0m                                                  \u001b[0msample_weight\u001b[0m\u001b[1;33m=\u001b[0m\u001b[0msample_weight\u001b[0m\u001b[1;33m,\u001b[0m\u001b[1;33m\u001b[0m\u001b[1;33m\u001b[0m\u001b[0m\n\u001b[1;32m-> 1175\u001b[1;33m                                                  zero_division=zero_division)\n\u001b[0m\u001b[0;32m   1176\u001b[0m     \u001b[1;32mreturn\u001b[0m \u001b[0mf\u001b[0m\u001b[1;33m\u001b[0m\u001b[1;33m\u001b[0m\u001b[0m\n\u001b[0;32m   1177\u001b[0m \u001b[1;33m\u001b[0m\u001b[0m\n",
      "\u001b[1;32m~\\Anaconda3\\lib\\site-packages\\sklearn\\utils\\validation.py\u001b[0m in \u001b[0;36minner_f\u001b[1;34m(*args, **kwargs)\u001b[0m\n\u001b[0;32m     70\u001b[0m                           FutureWarning)\n\u001b[0;32m     71\u001b[0m         \u001b[0mkwargs\u001b[0m\u001b[1;33m.\u001b[0m\u001b[0mupdate\u001b[0m\u001b[1;33m(\u001b[0m\u001b[1;33m{\u001b[0m\u001b[0mk\u001b[0m\u001b[1;33m:\u001b[0m \u001b[0marg\u001b[0m \u001b[1;32mfor\u001b[0m \u001b[0mk\u001b[0m\u001b[1;33m,\u001b[0m \u001b[0marg\u001b[0m \u001b[1;32min\u001b[0m \u001b[0mzip\u001b[0m\u001b[1;33m(\u001b[0m\u001b[0msig\u001b[0m\u001b[1;33m.\u001b[0m\u001b[0mparameters\u001b[0m\u001b[1;33m,\u001b[0m \u001b[0margs\u001b[0m\u001b[1;33m)\u001b[0m\u001b[1;33m}\u001b[0m\u001b[1;33m)\u001b[0m\u001b[1;33m\u001b[0m\u001b[1;33m\u001b[0m\u001b[0m\n\u001b[1;32m---> 72\u001b[1;33m         \u001b[1;32mreturn\u001b[0m \u001b[0mf\u001b[0m\u001b[1;33m(\u001b[0m\u001b[1;33m**\u001b[0m\u001b[0mkwargs\u001b[0m\u001b[1;33m)\u001b[0m\u001b[1;33m\u001b[0m\u001b[1;33m\u001b[0m\u001b[0m\n\u001b[0m\u001b[0;32m     73\u001b[0m     \u001b[1;32mreturn\u001b[0m \u001b[0minner_f\u001b[0m\u001b[1;33m\u001b[0m\u001b[1;33m\u001b[0m\u001b[0m\n\u001b[0;32m     74\u001b[0m \u001b[1;33m\u001b[0m\u001b[0m\n",
      "\u001b[1;32m~\\Anaconda3\\lib\\site-packages\\sklearn\\metrics\\_classification.py\u001b[0m in \u001b[0;36mprecision_recall_fscore_support\u001b[1;34m(y_true, y_pred, beta, labels, pos_label, average, warn_for, sample_weight, zero_division)\u001b[0m\n\u001b[0;32m   1432\u001b[0m         \u001b[1;32mraise\u001b[0m \u001b[0mValueError\u001b[0m\u001b[1;33m(\u001b[0m\u001b[1;34m\"beta should be >=0 in the F-beta score\"\u001b[0m\u001b[1;33m)\u001b[0m\u001b[1;33m\u001b[0m\u001b[1;33m\u001b[0m\u001b[0m\n\u001b[0;32m   1433\u001b[0m     labels = _check_set_wise_labels(y_true, y_pred, average, labels,\n\u001b[1;32m-> 1434\u001b[1;33m                                     pos_label)\n\u001b[0m\u001b[0;32m   1435\u001b[0m \u001b[1;33m\u001b[0m\u001b[0m\n\u001b[0;32m   1436\u001b[0m     \u001b[1;31m# Calculate tp_sum, pred_sum, true_sum ###\u001b[0m\u001b[1;33m\u001b[0m\u001b[1;33m\u001b[0m\u001b[1;33m\u001b[0m\u001b[0m\n",
      "\u001b[1;32m~\\Anaconda3\\lib\\site-packages\\sklearn\\metrics\\_classification.py\u001b[0m in \u001b[0;36m_check_set_wise_labels\u001b[1;34m(y_true, y_pred, average, labels, pos_label)\u001b[0m\n\u001b[0;32m   1248\u001b[0m                          str(average_options))\n\u001b[0;32m   1249\u001b[0m \u001b[1;33m\u001b[0m\u001b[0m\n\u001b[1;32m-> 1250\u001b[1;33m     \u001b[0my_type\u001b[0m\u001b[1;33m,\u001b[0m \u001b[0my_true\u001b[0m\u001b[1;33m,\u001b[0m \u001b[0my_pred\u001b[0m \u001b[1;33m=\u001b[0m \u001b[0m_check_targets\u001b[0m\u001b[1;33m(\u001b[0m\u001b[0my_true\u001b[0m\u001b[1;33m,\u001b[0m \u001b[0my_pred\u001b[0m\u001b[1;33m)\u001b[0m\u001b[1;33m\u001b[0m\u001b[1;33m\u001b[0m\u001b[0m\n\u001b[0m\u001b[0;32m   1251\u001b[0m     \u001b[0mpresent_labels\u001b[0m \u001b[1;33m=\u001b[0m \u001b[0munique_labels\u001b[0m\u001b[1;33m(\u001b[0m\u001b[0my_true\u001b[0m\u001b[1;33m,\u001b[0m \u001b[0my_pred\u001b[0m\u001b[1;33m)\u001b[0m\u001b[1;33m\u001b[0m\u001b[1;33m\u001b[0m\u001b[0m\n\u001b[0;32m   1252\u001b[0m     \u001b[1;32mif\u001b[0m \u001b[0maverage\u001b[0m \u001b[1;33m==\u001b[0m \u001b[1;34m'binary'\u001b[0m\u001b[1;33m:\u001b[0m\u001b[1;33m\u001b[0m\u001b[1;33m\u001b[0m\u001b[0m\n",
      "\u001b[1;32m~\\Anaconda3\\lib\\site-packages\\sklearn\\metrics\\_classification.py\u001b[0m in \u001b[0;36m_check_targets\u001b[1;34m(y_true, y_pred)\u001b[0m\n\u001b[0;32m     79\u001b[0m     \u001b[0my_pred\u001b[0m \u001b[1;33m:\u001b[0m \u001b[0marray\u001b[0m \u001b[1;32mor\u001b[0m \u001b[0mindicator\u001b[0m \u001b[0mmatrix\u001b[0m\u001b[1;33m\u001b[0m\u001b[1;33m\u001b[0m\u001b[0m\n\u001b[0;32m     80\u001b[0m     \"\"\"\n\u001b[1;32m---> 81\u001b[1;33m     \u001b[0mcheck_consistent_length\u001b[0m\u001b[1;33m(\u001b[0m\u001b[0my_true\u001b[0m\u001b[1;33m,\u001b[0m \u001b[0my_pred\u001b[0m\u001b[1;33m)\u001b[0m\u001b[1;33m\u001b[0m\u001b[1;33m\u001b[0m\u001b[0m\n\u001b[0m\u001b[0;32m     82\u001b[0m     \u001b[0mtype_true\u001b[0m \u001b[1;33m=\u001b[0m \u001b[0mtype_of_target\u001b[0m\u001b[1;33m(\u001b[0m\u001b[0my_true\u001b[0m\u001b[1;33m)\u001b[0m\u001b[1;33m\u001b[0m\u001b[1;33m\u001b[0m\u001b[0m\n\u001b[0;32m     83\u001b[0m     \u001b[0mtype_pred\u001b[0m \u001b[1;33m=\u001b[0m \u001b[0mtype_of_target\u001b[0m\u001b[1;33m(\u001b[0m\u001b[0my_pred\u001b[0m\u001b[1;33m)\u001b[0m\u001b[1;33m\u001b[0m\u001b[1;33m\u001b[0m\u001b[0m\n",
      "\u001b[1;32m~\\Anaconda3\\lib\\site-packages\\sklearn\\utils\\validation.py\u001b[0m in \u001b[0;36mcheck_consistent_length\u001b[1;34m(*arrays)\u001b[0m\n\u001b[0;32m    254\u001b[0m     \u001b[1;32mif\u001b[0m \u001b[0mlen\u001b[0m\u001b[1;33m(\u001b[0m\u001b[0muniques\u001b[0m\u001b[1;33m)\u001b[0m \u001b[1;33m>\u001b[0m \u001b[1;36m1\u001b[0m\u001b[1;33m:\u001b[0m\u001b[1;33m\u001b[0m\u001b[1;33m\u001b[0m\u001b[0m\n\u001b[0;32m    255\u001b[0m         raise ValueError(\"Found input variables with inconsistent numbers of\"\n\u001b[1;32m--> 256\u001b[1;33m                          \" samples: %r\" % [int(l) for l in lengths])\n\u001b[0m\u001b[0;32m    257\u001b[0m \u001b[1;33m\u001b[0m\u001b[0m\n\u001b[0;32m    258\u001b[0m \u001b[1;33m\u001b[0m\u001b[0m\n",
      "\u001b[1;31mValueError\u001b[0m: Found input variables with inconsistent numbers of samples: [134, 34]"
     ]
    }
   ],
   "source": [
    "from sklearn.metrics import f1_score\n",
    "f1_score(y_train, y_pred)"
   ]
  },
  {
   "cell_type": "code",
   "execution_count": 153,
   "metadata": {},
   "outputs": [
    {
     "ename": "NameError",
     "evalue": "name 'cnf_matrix' is not defined",
     "output_type": "error",
     "traceback": [
      "\u001b[1;31m---------------------------------------------------------------------------\u001b[0m",
      "\u001b[1;31mNameError\u001b[0m                                 Traceback (most recent call last)",
      "\u001b[1;32m<ipython-input-153-b7bdc8a51d76>\u001b[0m in \u001b[0;36m<module>\u001b[1;34m\u001b[0m\n\u001b[0;32m      5\u001b[0m \u001b[0mplt\u001b[0m\u001b[1;33m.\u001b[0m\u001b[0myticks\u001b[0m\u001b[1;33m(\u001b[0m\u001b[0mtick_marks\u001b[0m\u001b[1;33m,\u001b[0m \u001b[0mclass_names\u001b[0m\u001b[1;33m)\u001b[0m\u001b[1;33m\u001b[0m\u001b[1;33m\u001b[0m\u001b[0m\n\u001b[0;32m      6\u001b[0m \u001b[1;31m# create heatmap\u001b[0m\u001b[1;33m\u001b[0m\u001b[1;33m\u001b[0m\u001b[1;33m\u001b[0m\u001b[0m\n\u001b[1;32m----> 7\u001b[1;33m \u001b[0msns\u001b[0m\u001b[1;33m.\u001b[0m\u001b[0mheatmap\u001b[0m\u001b[1;33m(\u001b[0m\u001b[0mpd\u001b[0m\u001b[1;33m.\u001b[0m\u001b[0mDataFrame\u001b[0m\u001b[1;33m(\u001b[0m\u001b[0mcnf_matrix\u001b[0m\u001b[1;33m)\u001b[0m\u001b[1;33m,\u001b[0m \u001b[0mannot\u001b[0m\u001b[1;33m=\u001b[0m\u001b[1;32mTrue\u001b[0m\u001b[1;33m,\u001b[0m \u001b[0mcmap\u001b[0m\u001b[1;33m=\u001b[0m\u001b[1;34m\"YlGnBu\"\u001b[0m \u001b[1;33m,\u001b[0m\u001b[0mfmt\u001b[0m\u001b[1;33m=\u001b[0m\u001b[1;34m'g'\u001b[0m\u001b[1;33m)\u001b[0m\u001b[1;33m\u001b[0m\u001b[1;33m\u001b[0m\u001b[0m\n\u001b[0m\u001b[0;32m      8\u001b[0m \u001b[0max\u001b[0m\u001b[1;33m.\u001b[0m\u001b[0mxaxis\u001b[0m\u001b[1;33m.\u001b[0m\u001b[0mset_label_position\u001b[0m\u001b[1;33m(\u001b[0m\u001b[1;34m\"top\"\u001b[0m\u001b[1;33m)\u001b[0m\u001b[1;33m\u001b[0m\u001b[1;33m\u001b[0m\u001b[0m\n\u001b[0;32m      9\u001b[0m \u001b[0mplt\u001b[0m\u001b[1;33m.\u001b[0m\u001b[0mtight_layout\u001b[0m\u001b[1;33m(\u001b[0m\u001b[1;33m)\u001b[0m\u001b[1;33m\u001b[0m\u001b[1;33m\u001b[0m\u001b[0m\n",
      "\u001b[1;31mNameError\u001b[0m: name 'cnf_matrix' is not defined"
     ]
    },
    {
     "data": {
      "image/png": "[encoded data removed]",
      "text/plain": [
       "<Figure size 432x288 with 1 Axes>"
      ]
     },
     "metadata": {
      "needs_background": "light"
     },
     "output_type": "display_data"
    }
   ],
   "source": [
    "class_names=[0,1] # name  of classes\n",
    "fig, ax = plt.subplots()\n",
    "tick_marks = np.arange(len(class_names))\n",
    "plt.xticks(tick_marks, class_names)\n",
    "plt.yticks(tick_marks, class_names)\n",
    "# create heatmap\n",
    "sns.heatmap(pd.DataFrame(cnf_matrix), annot=True, cmap=\"YlGnBu\" ,fmt='g')\n",
    "ax.xaxis.set_label_position(\"top\")\n",
    "plt.tight_layout()\n",
    "plt.title('Confusion matrix', y=1.1)\n",
    "plt.ylabel('Actual label')\n",
    "plt.xlabel('Predicted label')"
   ]
  },
  {
   "cell_type": "code",
   "execution_count": 154,
   "metadata": {},
   "outputs": [
    {
     "ename": "ValueError",
     "evalue": "continuous is not supported",
     "output_type": "error",
     "traceback": [
      "\u001b[1;31m---------------------------------------------------------------------------\u001b[0m",
      "\u001b[1;31mValueError\u001b[0m                                Traceback (most recent call last)",
      "\u001b[1;32m<ipython-input-154-a2346663d0f9>\u001b[0m in \u001b[0;36m<module>\u001b[1;34m\u001b[0m\n\u001b[1;32m----> 1\u001b[1;33m \u001b[0mprint\u001b[0m\u001b[1;33m(\u001b[0m\u001b[1;34m\"Accuracy:\"\u001b[0m\u001b[1;33m,\u001b[0m\u001b[0mmetrics\u001b[0m\u001b[1;33m.\u001b[0m\u001b[0maccuracy_score\u001b[0m\u001b[1;33m(\u001b[0m\u001b[0my_test\u001b[0m\u001b[1;33m,\u001b[0m \u001b[0my_pred\u001b[0m\u001b[1;33m)\u001b[0m\u001b[1;33m)\u001b[0m\u001b[1;33m\u001b[0m\u001b[1;33m\u001b[0m\u001b[0m\n\u001b[0m\u001b[0;32m      2\u001b[0m \u001b[0mprint\u001b[0m\u001b[1;33m(\u001b[0m\u001b[1;34m\"Precision:\"\u001b[0m\u001b[1;33m,\u001b[0m\u001b[0mmetrics\u001b[0m\u001b[1;33m.\u001b[0m\u001b[0mprecision_score\u001b[0m\u001b[1;33m(\u001b[0m\u001b[0my_test\u001b[0m\u001b[1;33m,\u001b[0m \u001b[0my_pred\u001b[0m\u001b[1;33m)\u001b[0m\u001b[1;33m)\u001b[0m\u001b[1;33m\u001b[0m\u001b[1;33m\u001b[0m\u001b[0m\n\u001b[0;32m      3\u001b[0m \u001b[0mprint\u001b[0m\u001b[1;33m(\u001b[0m\u001b[1;34m\"Recall:\"\u001b[0m\u001b[1;33m,\u001b[0m\u001b[0mmetrics\u001b[0m\u001b[1;33m.\u001b[0m\u001b[0mrecall_score\u001b[0m\u001b[1;33m(\u001b[0m\u001b[0my_test\u001b[0m\u001b[1;33m,\u001b[0m \u001b[0my_pred\u001b[0m\u001b[1;33m)\u001b[0m\u001b[1;33m)\u001b[0m\u001b[1;33m\u001b[0m\u001b[1;33m\u001b[0m\u001b[0m\n",
      "\u001b[1;32m~\\Anaconda3\\lib\\site-packages\\sklearn\\utils\\validation.py\u001b[0m in \u001b[0;36minner_f\u001b[1;34m(*args, **kwargs)\u001b[0m\n\u001b[0;32m     70\u001b[0m                           FutureWarning)\n\u001b[0;32m     71\u001b[0m         \u001b[0mkwargs\u001b[0m\u001b[1;33m.\u001b[0m\u001b[0mupdate\u001b[0m\u001b[1;33m(\u001b[0m\u001b[1;33m{\u001b[0m\u001b[0mk\u001b[0m\u001b[1;33m:\u001b[0m \u001b[0marg\u001b[0m \u001b[1;32mfor\u001b[0m \u001b[0mk\u001b[0m\u001b[1;33m,\u001b[0m \u001b[0marg\u001b[0m \u001b[1;32min\u001b[0m \u001b[0mzip\u001b[0m\u001b[1;33m(\u001b[0m\u001b[0msig\u001b[0m\u001b[1;33m.\u001b[0m\u001b[0mparameters\u001b[0m\u001b[1;33m,\u001b[0m \u001b[0margs\u001b[0m\u001b[1;33m)\u001b[0m\u001b[1;33m}\u001b[0m\u001b[1;33m)\u001b[0m\u001b[1;33m\u001b[0m\u001b[1;33m\u001b[0m\u001b[0m\n\u001b[1;32m---> 72\u001b[1;33m         \u001b[1;32mreturn\u001b[0m \u001b[0mf\u001b[0m\u001b[1;33m(\u001b[0m\u001b[1;33m**\u001b[0m\u001b[0mkwargs\u001b[0m\u001b[1;33m)\u001b[0m\u001b[1;33m\u001b[0m\u001b[1;33m\u001b[0m\u001b[0m\n\u001b[0m\u001b[0;32m     73\u001b[0m     \u001b[1;32mreturn\u001b[0m \u001b[0minner_f\u001b[0m\u001b[1;33m\u001b[0m\u001b[1;33m\u001b[0m\u001b[0m\n\u001b[0;32m     74\u001b[0m \u001b[1;33m\u001b[0m\u001b[0m\n",
      "\u001b[1;32m~\\Anaconda3\\lib\\site-packages\\sklearn\\metrics\\_classification.py\u001b[0m in \u001b[0;36maccuracy_score\u001b[1;34m(y_true, y_pred, normalize, sample_weight)\u001b[0m\n\u001b[0;32m    185\u001b[0m \u001b[1;33m\u001b[0m\u001b[0m\n\u001b[0;32m    186\u001b[0m     \u001b[1;31m# Compute accuracy for each possible representation\u001b[0m\u001b[1;33m\u001b[0m\u001b[1;33m\u001b[0m\u001b[1;33m\u001b[0m\u001b[0m\n\u001b[1;32m--> 187\u001b[1;33m     \u001b[0my_type\u001b[0m\u001b[1;33m,\u001b[0m \u001b[0my_true\u001b[0m\u001b[1;33m,\u001b[0m \u001b[0my_pred\u001b[0m \u001b[1;33m=\u001b[0m \u001b[0m_check_targets\u001b[0m\u001b[1;33m(\u001b[0m\u001b[0my_true\u001b[0m\u001b[1;33m,\u001b[0m \u001b[0my_pred\u001b[0m\u001b[1;33m)\u001b[0m\u001b[1;33m\u001b[0m\u001b[1;33m\u001b[0m\u001b[0m\n\u001b[0m\u001b[0;32m    188\u001b[0m     \u001b[0mcheck_consistent_length\u001b[0m\u001b[1;33m(\u001b[0m\u001b[0my_true\u001b[0m\u001b[1;33m,\u001b[0m \u001b[0my_pred\u001b[0m\u001b[1;33m,\u001b[0m \u001b[0msample_weight\u001b[0m\u001b[1;33m)\u001b[0m\u001b[1;33m\u001b[0m\u001b[1;33m\u001b[0m\u001b[0m\n\u001b[0;32m    189\u001b[0m     \u001b[1;32mif\u001b[0m \u001b[0my_type\u001b[0m\u001b[1;33m.\u001b[0m\u001b[0mstartswith\u001b[0m\u001b[1;33m(\u001b[0m\u001b[1;34m'multilabel'\u001b[0m\u001b[1;33m)\u001b[0m\u001b[1;33m:\u001b[0m\u001b[1;33m\u001b[0m\u001b[1;33m\u001b[0m\u001b[0m\n",
      "\u001b[1;32m~\\Anaconda3\\lib\\site-packages\\sklearn\\metrics\\_classification.py\u001b[0m in \u001b[0;36m_check_targets\u001b[1;34m(y_true, y_pred)\u001b[0m\n\u001b[0;32m     96\u001b[0m     \u001b[1;31m# No metrics support \"multiclass-multioutput\" format\u001b[0m\u001b[1;33m\u001b[0m\u001b[1;33m\u001b[0m\u001b[1;33m\u001b[0m\u001b[0m\n\u001b[0;32m     97\u001b[0m     \u001b[1;32mif\u001b[0m \u001b[1;33m(\u001b[0m\u001b[0my_type\u001b[0m \u001b[1;32mnot\u001b[0m \u001b[1;32min\u001b[0m \u001b[1;33m[\u001b[0m\u001b[1;34m\"binary\"\u001b[0m\u001b[1;33m,\u001b[0m \u001b[1;34m\"multiclass\"\u001b[0m\u001b[1;33m,\u001b[0m \u001b[1;34m\"multilabel-indicator\"\u001b[0m\u001b[1;33m]\u001b[0m\u001b[1;33m)\u001b[0m\u001b[1;33m:\u001b[0m\u001b[1;33m\u001b[0m\u001b[1;33m\u001b[0m\u001b[0m\n\u001b[1;32m---> 98\u001b[1;33m         \u001b[1;32mraise\u001b[0m \u001b[0mValueError\u001b[0m\u001b[1;33m(\u001b[0m\u001b[1;34m\"{0} is not supported\"\u001b[0m\u001b[1;33m.\u001b[0m\u001b[0mformat\u001b[0m\u001b[1;33m(\u001b[0m\u001b[0my_type\u001b[0m\u001b[1;33m)\u001b[0m\u001b[1;33m)\u001b[0m\u001b[1;33m\u001b[0m\u001b[1;33m\u001b[0m\u001b[0m\n\u001b[0m\u001b[0;32m     99\u001b[0m \u001b[1;33m\u001b[0m\u001b[0m\n\u001b[0;32m    100\u001b[0m     \u001b[1;32mif\u001b[0m \u001b[0my_type\u001b[0m \u001b[1;32min\u001b[0m \u001b[1;33m[\u001b[0m\u001b[1;34m\"binary\"\u001b[0m\u001b[1;33m,\u001b[0m \u001b[1;34m\"multiclass\"\u001b[0m\u001b[1;33m]\u001b[0m\u001b[1;33m:\u001b[0m\u001b[1;33m\u001b[0m\u001b[1;33m\u001b[0m\u001b[0m\n",
      "\u001b[1;31mValueError\u001b[0m: continuous is not supported"
     ]
    }
   ],
   "source": [
    "print(\"Accuracy:\",metrics.accuracy_score(y_test, y_pred))\n",
    "print(\"Precision:\",metrics.precision_score(y_test, y_pred))\n",
    "print(\"Recall:\",metrics.recall_score(y_test, y_pred))"
   ]
  },
  {
   "cell_type": "code",
   "execution_count": 155,
   "metadata": {},
   "outputs": [
    {
     "ename": "AttributeError",
     "evalue": "'LinearRegression' object has no attribute 'predict_proba'",
     "output_type": "error",
     "traceback": [
      "\u001b[1;31m---------------------------------------------------------------------------\u001b[0m",
      "\u001b[1;31mAttributeError\u001b[0m                            Traceback (most recent call last)",
      "\u001b[1;32m<ipython-input-155-3c219ab0becc>\u001b[0m in \u001b[0;36m<module>\u001b[1;34m\u001b[0m\n\u001b[1;32m----> 1\u001b[1;33m \u001b[0my_pred_proba\u001b[0m \u001b[1;33m=\u001b[0m \u001b[0mlogreg\u001b[0m\u001b[1;33m.\u001b[0m\u001b[0mpredict_proba\u001b[0m\u001b[1;33m(\u001b[0m\u001b[0mX_test\u001b[0m\u001b[1;33m)\u001b[0m\u001b[1;33m[\u001b[0m\u001b[1;33m:\u001b[0m\u001b[1;33m:\u001b[0m\u001b[1;33m,\u001b[0m\u001b[1;36m1\u001b[0m\u001b[1;33m]\u001b[0m\u001b[1;33m\u001b[0m\u001b[1;33m\u001b[0m\u001b[0m\n\u001b[0m\u001b[0;32m      2\u001b[0m \u001b[0mfpr\u001b[0m\u001b[1;33m,\u001b[0m \u001b[0mtpr\u001b[0m\u001b[1;33m,\u001b[0m \u001b[0m_\u001b[0m \u001b[1;33m=\u001b[0m \u001b[0mmetrics\u001b[0m\u001b[1;33m.\u001b[0m\u001b[0mroc_curve\u001b[0m\u001b[1;33m(\u001b[0m\u001b[0my_test\u001b[0m\u001b[1;33m,\u001b[0m  \u001b[0my_pred_proba\u001b[0m\u001b[1;33m)\u001b[0m\u001b[1;33m\u001b[0m\u001b[1;33m\u001b[0m\u001b[0m\n\u001b[0;32m      3\u001b[0m \u001b[0mauc\u001b[0m \u001b[1;33m=\u001b[0m \u001b[0mmetrics\u001b[0m\u001b[1;33m.\u001b[0m\u001b[0mroc_auc_score\u001b[0m\u001b[1;33m(\u001b[0m\u001b[0my_test\u001b[0m\u001b[1;33m,\u001b[0m \u001b[0my_pred_proba\u001b[0m\u001b[1;33m)\u001b[0m\u001b[1;33m\u001b[0m\u001b[1;33m\u001b[0m\u001b[0m\n\u001b[0;32m      4\u001b[0m \u001b[0mplt\u001b[0m\u001b[1;33m.\u001b[0m\u001b[0mplot\u001b[0m\u001b[1;33m(\u001b[0m\u001b[0mfpr\u001b[0m\u001b[1;33m,\u001b[0m\u001b[0mtpr\u001b[0m\u001b[1;33m,\u001b[0m\u001b[0mlabel\u001b[0m\u001b[1;33m=\u001b[0m\u001b[1;34m\"data 1, auc=\"\u001b[0m\u001b[1;33m+\u001b[0m\u001b[0mstr\u001b[0m\u001b[1;33m(\u001b[0m\u001b[0mauc\u001b[0m\u001b[1;33m)\u001b[0m\u001b[1;33m)\u001b[0m\u001b[1;33m\u001b[0m\u001b[1;33m\u001b[0m\u001b[0m\n\u001b[0;32m      5\u001b[0m \u001b[0mplt\u001b[0m\u001b[1;33m.\u001b[0m\u001b[0mlegend\u001b[0m\u001b[1;33m(\u001b[0m\u001b[0mloc\u001b[0m\u001b[1;33m=\u001b[0m\u001b[1;36m4\u001b[0m\u001b[1;33m)\u001b[0m\u001b[1;33m\u001b[0m\u001b[1;33m\u001b[0m\u001b[0m\n",
      "\u001b[1;31mAttributeError\u001b[0m: 'LinearRegression' object has no attribute 'predict_proba'"
     ]
    }
   ],
   "source": [
    "y_pred_proba = logreg.predict_proba(X_test)[::,1]\n",
    "fpr, tpr, _ = metrics.roc_curve(y_test,  y_pred_proba)\n",
    "auc = metrics.roc_auc_score(y_test, y_pred_proba)\n",
    "plt.plot(fpr,tpr,label=\"data 1, auc=\"+str(auc))\n",
    "plt.legend(loc=4)\n",
    "plt.show()"
   ]
  },
  {
   "cell_type": "code",
   "execution_count": null,
   "metadata": {},
   "outputs": [],
   "source": []
  }
 ],
 "metadata": {
  "kernelspec": {
   "display_name": "Python 3",
   "language": "python",
   "name": "python3"
  },
  "language_info": {
   "codemirror_mode": {
    "name": "ipython",
    "version": 3
   },
   "file_extension": ".py",
   "mimetype": "text/x-python",
   "name": "python",
   "nbconvert_exporter": "python",
   "pygments_lexer": "ipython3",
   "version": "3.7.9"
  }
 },
 "nbformat": 4,
 "nbformat_minor": 4
}
